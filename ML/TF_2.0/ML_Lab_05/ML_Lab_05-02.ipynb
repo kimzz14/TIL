{
 "cells": [
  {
   "cell_type": "code",
   "execution_count": 124,
   "metadata": {},
   "outputs": [],
   "source": [
    "import tensorflow as tf"
   ]
  },
  {
   "cell_type": "code",
   "execution_count": 125,
   "metadata": {},
   "outputs": [],
   "source": [
    "import numpy as np"
   ]
  },
  {
   "cell_type": "code",
   "execution_count": 127,
   "metadata": {},
   "outputs": [],
   "source": [
    "xy = np.loadtxt('data-03-diabetes.csv', delimiter=',', dtype=np.float32)"
   ]
  },
  {
   "cell_type": "code",
   "execution_count": 129,
   "metadata": {},
   "outputs": [],
   "source": [
    "x_data = xy[:, 0:-1]"
   ]
  },
  {
   "cell_type": "code",
   "execution_count": 131,
   "metadata": {},
   "outputs": [],
   "source": [
    "y_data = xy[:,[-1]]"
   ]
  },
  {
   "cell_type": "code",
   "execution_count": 132,
   "metadata": {},
   "outputs": [
    {
     "data": {
      "text/plain": [
       "(759, 8)"
      ]
     },
     "execution_count": 132,
     "metadata": {},
     "output_type": "execute_result"
    }
   ],
   "source": [
    "x_data.shape"
   ]
  },
  {
   "cell_type": "code",
   "execution_count": 133,
   "metadata": {},
   "outputs": [
    {
     "data": {
      "text/plain": [
       "(759, 1)"
      ]
     },
     "execution_count": 133,
     "metadata": {},
     "output_type": "execute_result"
    }
   ],
   "source": [
    "y_data.shape"
   ]
  },
  {
   "cell_type": "code",
   "execution_count": 140,
   "metadata": {},
   "outputs": [],
   "source": [
    "X = tf.Variable(x_data, dtype=tf.float32)"
   ]
  },
  {
   "cell_type": "code",
   "execution_count": 141,
   "metadata": {},
   "outputs": [],
   "source": [
    "Y = tf.Variable(y_data, dtype=tf.float32)"
   ]
  },
  {
   "cell_type": "code",
   "execution_count": 142,
   "metadata": {},
   "outputs": [],
   "source": [
    "class Model(object):\n",
    "    def __init__(self, inputs, outputs):\n",
    "        self.W = tf.Variable(tf.random.normal(shape=[inputs.shape[-1],outputs.shape[-1]]), dtype=tf.float32, name='weight')\n",
    "        self.b = tf.Variable(tf.random.normal(shape=[outputs.shape[-1]])  , dtype=tf.float32, name='bias')\n",
    "    \n",
    "    def __call__(self, X):\n",
    "        return tf.sigmoid(tf.matmul(X, self.W) + self.b)"
   ]
  },
  {
   "cell_type": "code",
   "execution_count": 143,
   "metadata": {},
   "outputs": [],
   "source": [
    "@tf.function\n",
    "def loss (expected_y, observed_y):\n",
    "    return -tf.reduce_mean(observed_y * tf.math.log(expected_y) + (1 - observed_y) * tf.math.log(1 - expected_y))"
   ]
  },
  {
   "cell_type": "code",
   "execution_count": 144,
   "metadata": {},
   "outputs": [],
   "source": [
    "@tf.function\n",
    "def train(model, inputs, outputs, learning_rate=1e-5):\n",
    "    with tf.GradientTape() as t:\n",
    "        current_loss = loss(model(inputs), outputs)\n",
    "    dW, db = t.gradient(current_loss, [model.W, model.b])\n",
    "    model.W.assign_sub(learning_rate * dW)\n",
    "    model.b.assign_sub(learning_rate * db)"
   ]
  },
  {
   "cell_type": "code",
   "execution_count": 145,
   "metadata": {},
   "outputs": [],
   "source": [
    "model = Model(X, Y)"
   ]
  },
  {
   "cell_type": "code",
   "execution_count": 146,
   "metadata": {},
   "outputs": [
    {
     "name": "stdout",
     "output_type": "stream",
     "text": [
      "0 1.0258355 0.38339922\n",
      "200 0.87178797 0.44400528\n",
      "400 0.81199 0.5059289\n",
      "600 0.7724782 0.5494071\n",
      "800 0.7396903 0.5823452\n",
      "1000 0.71102875 0.6007905\n",
      "1200 0.6857788 0.61396575\n",
      "1400 0.6635435 0.62450594\n",
      "1600 0.6439848 0.63372856\n",
      "1800 0.626789 0.6508564\n",
      "2000 0.611667 0.6627141\n",
      "2200 0.59835595 0.6679842\n",
      "2400 0.5866217 0.68247694\n",
      "2600 0.5762577 0.69038206\n",
      "2800 0.5670833 0.69960475\n",
      "3000 0.55894184 0.7022398\n",
      "3200 0.55169815 0.71146244\n",
      "3400 0.5452356 0.71805006\n",
      "3600 0.539454 0.7233202\n",
      "3800 0.5342674 0.7312253\n",
      "4000 0.529602 0.73913044\n",
      "4200 0.5253939 0.74703556\n",
      "4400 0.52158856 0.7509881\n",
      "4600 0.51813877 0.7536232\n",
      "4800 0.51500356 0.75625825\n",
      "5000 0.5121477 0.7602108\n",
      "5200 0.5095403 0.7641634\n",
      "5400 0.5071545 0.7654809\n",
      "5600 0.50496715 0.76679844\n",
      "5800 0.5029576 0.7654809\n",
      "6000 0.501108 0.7615283\n",
      "6200 0.4994023 0.7628459\n",
      "6400 0.49782678 0.7654809\n",
      "6600 0.4963691 0.76679844\n",
      "6800 0.49501806 0.76679844\n",
      "7000 0.49376428 0.76679844\n",
      "7200 0.4925987 0.76943344\n",
      "7400 0.4915139 0.770751\n",
      "7600 0.49050272 0.77338606\n",
      "7800 0.4895591 0.77338606\n",
      "8000 0.48867726 0.77338606\n",
      "8200 0.4878524 0.77338606\n",
      "8400 0.4870798 0.77470356\n",
      "8600 0.4863554 0.77470356\n",
      "8800 0.48567548 0.77470356\n",
      "9000 0.48503652 0.77602106\n",
      "9200 0.4844358 0.77602106\n",
      "9400 0.48387012 0.7773386\n",
      "9600 0.48333716 0.7773386\n",
      "9800 0.4828345 0.7799736\n",
      "10000 0.48236004 0.7812912\n"
     ]
    }
   ],
   "source": [
    "for step in range(10001):\n",
    "    current_W = model.W\n",
    "    current_b = model.b\n",
    "    current_loss = loss(model(x_data), y_data)\n",
    "    train(model, x_data, y_data, 1e-2)\n",
    "    predicted = tf.cast(model(x_data) > 0.5, dtype=tf.float32)\n",
    "    accuracy = tf.reduce_mean(tf.cast(tf.equal(predicted, y_data), dtype=tf.float32))\n",
    "    if step%200 == 0:\n",
    "        print(step, current_loss.numpy(), accuracy.numpy())\n",
    "        #print(step, predicted.numpy(), model(x_data).numpy(), y_data.numpy(), accuracy.numpy())"
   ]
  },
  {
   "cell_type": "code",
   "execution_count": null,
   "metadata": {},
   "outputs": [],
   "source": []
  }
 ],
 "metadata": {
  "kernelspec": {
   "display_name": "Python 3",
   "language": "python",
   "name": "python3"
  },
  "language_info": {
   "codemirror_mode": {
    "name": "ipython",
    "version": 3
   },
   "file_extension": ".py",
   "mimetype": "text/x-python",
   "name": "python",
   "nbconvert_exporter": "python",
   "pygments_lexer": "ipython3",
   "version": "3.7.3"
  }
 },
 "nbformat": 4,
 "nbformat_minor": 4
}
