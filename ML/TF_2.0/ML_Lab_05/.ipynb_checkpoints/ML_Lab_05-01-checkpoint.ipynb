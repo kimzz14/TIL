{
 "cells": [
  {
   "cell_type": "code",
   "execution_count": 116,
   "metadata": {},
   "outputs": [],
   "source": [
    "import tensorflow as tf"
   ]
  },
  {
   "cell_type": "code",
   "execution_count": 117,
   "metadata": {},
   "outputs": [],
   "source": [
    "x_data = tf.Variable([[1, 2], [2, 3], [3, 1], [4, 3], [5, 3], [6, 2]], shape=(6,2), dtype=tf.float32)"
   ]
  },
  {
   "cell_type": "code",
   "execution_count": 118,
   "metadata": {},
   "outputs": [],
   "source": [
    "y_data = tf.Variable([[0], [0], [0], [1], [1], [1]], shape=(6,1), dtype=tf.float32)"
   ]
  },
  {
   "cell_type": "code",
   "execution_count": 119,
   "metadata": {},
   "outputs": [],
   "source": [
    "class Model(object):\n",
    "    def __init__(self):\n",
    "        self.W = tf.Variable(tf.random.normal(shape=[2,1]), dtype=tf.float32, name='weight')\n",
    "        self.b = tf.Variable(tf.random.normal(shape=[1])  , dtype=tf.float32, name='bias')\n",
    "    \n",
    "    def __call__(self, X):\n",
    "        return tf.sigmoid(tf.matmul(X, self.W) + self.b)"
   ]
  },
  {
   "cell_type": "code",
   "execution_count": 120,
   "metadata": {},
   "outputs": [],
   "source": [
    "@tf.function\n",
    "def loss (expected_y, observed_y):\n",
    "    return -tf.reduce_mean(observed_y * tf.math.log(expected_y) + (1 - observed_y) * tf.math.log(1 - expected_y))"
   ]
  },
  {
   "cell_type": "code",
   "execution_count": 121,
   "metadata": {},
   "outputs": [],
   "source": [
    "@tf.function\n",
    "def train(model, inputs, outputs, learning_rate=1e-5):\n",
    "    with tf.GradientTape() as t:\n",
    "        current_loss = loss(model(inputs), outputs)\n",
    "    dW, db = t.gradient(current_loss, [model.W, model.b])\n",
    "    model.W.assign_sub(learning_rate * dW)\n",
    "    model.b.assign_sub(learning_rate * db)"
   ]
  },
  {
   "cell_type": "code",
   "execution_count": 122,
   "metadata": {},
   "outputs": [],
   "source": [
    "model = Model()"
   ]
  },
  {
   "cell_type": "code",
   "execution_count": 123,
   "metadata": {},
   "outputs": [
    {
     "name": "stdout",
     "output_type": "stream",
     "text": [
      "0 3.3503544 0.5\n",
      "200 0.69555736 0.6666667\n",
      "400 0.4865522 0.8333333\n",
      "600 0.40385973 1.0\n",
      "800 0.3649924 0.8333333\n",
      "1000 0.3424611 0.8333333\n",
      "1200 0.32691285 0.8333333\n",
      "1400 0.31475767 0.8333333\n",
      "1600 0.30445564 0.8333333\n",
      "1800 0.29528508 0.8333333\n",
      "2000 0.2868821 0.8333333\n",
      "2200 0.27905077 0.8333333\n",
      "2400 0.27167872 0.8333333\n",
      "2600 0.26469687 0.8333333\n",
      "2800 0.2580594 1.0\n",
      "3000 0.25173375 1.0\n",
      "3200 0.24569505 1.0\n",
      "3400 0.23992288 1.0\n",
      "3600 0.23440017 1.0\n",
      "3800 0.22911155 1.0\n",
      "4000 0.22404344 1.0\n",
      "4200 0.21918322 1.0\n",
      "4400 0.2145194 1.0\n",
      "4600 0.2100413 1.0\n",
      "4800 0.20573874 1.0\n",
      "5000 0.2016024 1.0\n",
      "5200 0.19762361 1.0\n",
      "5400 0.19379406 1.0\n",
      "5600 0.19010615 1.0\n",
      "5800 0.18655257 1.0\n",
      "6000 0.18312663 1.0\n",
      "6200 0.17982192 1.0\n",
      "6400 0.1766324 1.0\n",
      "6600 0.17355253 1.0\n",
      "6800 0.170577 1.0\n",
      "7000 0.16770072 1.0\n",
      "7200 0.16491924 1.0\n",
      "7400 0.1622279 1.0\n",
      "7600 0.15962277 1.0\n",
      "7800 0.15709968 1.0\n",
      "8000 0.1546551 1.0\n",
      "8200 0.1522855 1.0\n",
      "8400 0.14998761 1.0\n",
      "8600 0.14775828 1.0\n",
      "8800 0.14559466 1.0\n",
      "9000 0.14349379 1.0\n",
      "9200 0.14145319 1.0\n",
      "9400 0.13947028 1.0\n",
      "9600 0.13754277 1.0\n",
      "9800 0.13566835 1.0\n",
      "10000 0.13384491 1.0\n"
     ]
    }
   ],
   "source": [
    "for step in range(10001):\n",
    "    current_W = model.W\n",
    "    current_b = model.b\n",
    "    current_loss = loss(model(x_data), y_data)\n",
    "    train(model, x_data, y_data, 1e-2)\n",
    "    predicted = tf.cast(model(x_data) > 0.5, dtype=tf.float32)\n",
    "    accuracy = tf.reduce_mean(tf.cast(tf.equal(predicted, y_data), dtype=tf.float32))\n",
    "    if step%200 == 0:\n",
    "        print(step, current_loss.numpy(), accuracy.numpy())\n",
    "        #print(step, predicted.numpy(), model(x_data).numpy(), y_data.numpy(), accuracy.numpy())"
   ]
  },
  {
   "cell_type": "code",
   "execution_count": null,
   "metadata": {},
   "outputs": [],
   "source": []
  }
 ],
 "metadata": {
  "kernelspec": {
   "display_name": "Python 3",
   "language": "python",
   "name": "python3"
  },
  "language_info": {
   "codemirror_mode": {
    "name": "ipython",
    "version": 3
   },
   "file_extension": ".py",
   "mimetype": "text/x-python",
   "name": "python",
   "nbconvert_exporter": "python",
   "pygments_lexer": "ipython3",
   "version": "3.7.3"
  }
 },
 "nbformat": 4,
 "nbformat_minor": 4
}
