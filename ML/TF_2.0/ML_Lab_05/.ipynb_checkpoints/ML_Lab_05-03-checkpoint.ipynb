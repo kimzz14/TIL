{
 "cells": [
  {
   "cell_type": "code",
   "execution_count": 35,
   "metadata": {},
   "outputs": [],
   "source": [
    "import tensorflow as tf"
   ]
  },
  {
   "cell_type": "code",
   "execution_count": 159,
   "metadata": {},
   "outputs": [],
   "source": [
    "def input_files(filenames):\n",
    "    def decodee_csv(line):\n",
    "        xy = tf.io.decode_csv(line, record_defaults=[[0.], [0.], [0.], [0.], [0.], [0.], [0.], [0.], [0.]])\n",
    "        x_data = xy[:-1]\n",
    "        y_data = [xy[-1]]\n",
    "        return x_data, y_data\n",
    "    dataset = tf.data.TextLineDataset(filenames)\n",
    "    dataset = dataset.map(decodee_csv, num_parallel_calls=10)\n",
    "    dataset = dataset.shuffle(buffer_size=10000)\n",
    "    dataset = dataset.batch(100)\n",
    "    return dataset"
   ]
  },
  {
   "cell_type": "code",
   "execution_count": 160,
   "metadata": {},
   "outputs": [],
   "source": [
    "class Model(object):\n",
    "    def __init__(self):\n",
    "        self.W = tf.Variable(tf.random.normal(shape=[8,1]), dtype=tf.float32, name='weight')\n",
    "        self.b = tf.Variable(tf.random.normal(shape=[1])  , dtype=tf.float32, name='bias')\n",
    "    \n",
    "    def __call__(self, X):\n",
    "        return tf.sigmoid(tf.matmul(X, self.W) + self.b)"
   ]
  },
  {
   "cell_type": "code",
   "execution_count": 161,
   "metadata": {},
   "outputs": [],
   "source": [
    "@tf.function\n",
    "def loss (expected_y, observed_y):\n",
    "    return -tf.reduce_mean(observed_y * tf.math.log(expected_y) + (1 - observed_y) * tf.math.log(1 - expected_y))"
   ]
  },
  {
   "cell_type": "code",
   "execution_count": 162,
   "metadata": {},
   "outputs": [],
   "source": [
    "@tf.function\n",
    "def train(model, inputs, outputs, learning_rate=1e-5):\n",
    "    with tf.GradientTape() as t:\n",
    "        current_loss = loss(model(inputs), outputs)\n",
    "    dW, db = t.gradient(current_loss, [model.W, model.b])\n",
    "    model.W.assign_sub(learning_rate * dW)\n",
    "    model.b.assign_sub(learning_rate * db)   "
   ]
  },
  {
   "cell_type": "code",
   "execution_count": 163,
   "metadata": {},
   "outputs": [],
   "source": [
    "model = Model()"
   ]
  },
  {
   "cell_type": "code",
   "execution_count": 165,
   "metadata": {},
   "outputs": [
    {
     "name": "stdout",
     "output_type": "stream",
     "text": [
      "0 0.8576009 0.43\n",
      "0 0.8594169 0.47\n",
      "0 0.85726327 0.46\n",
      "0 0.8265481 0.47\n",
      "0 0.8319114 0.48\n",
      "0 0.84824455 0.46\n",
      "0 0.9653317 0.35\n",
      "0 0.8163924 0.4915254\n"
     ]
    }
   ],
   "source": [
    "for step in range(10001):\n",
    "    for x_data, y_data in input_files('data-03-diabetes.csv'):\n",
    "        current_W = model.W\n",
    "        current_b = model.b\n",
    "        current_loss = loss(model(x_data), y_data)\n",
    "        train(model, x_data, y_data, 1e-2)\n",
    "        predicted = tf.cast(model(x_data) > 0.5, dtype=tf.float32)\n",
    "        accuracy = tf.reduce_mean(tf.cast(tf.equal(predicted, y_data), dtype=tf.float32))\n",
    "        print(step, current_loss.numpy(), accuracy.numpy())\n",
    "            #print(step, predicted.numpy(), model(x_data).numpy(), y_data.numpy(), accuracy.numpy())"
   ]
  },
  {
   "cell_type": "code",
   "execution_count": null,
   "metadata": {},
   "outputs": [],
   "source": []
  }
 ],
 "metadata": {
  "kernelspec": {
   "display_name": "Python 3",
   "language": "python",
   "name": "python3"
  },
  "language_info": {
   "codemirror_mode": {
    "name": "ipython",
    "version": 3
   },
   "file_extension": ".py",
   "mimetype": "text/x-python",
   "name": "python",
   "nbconvert_exporter": "python",
   "pygments_lexer": "ipython3",
   "version": "3.7.3"
  }
 },
 "nbformat": 4,
 "nbformat_minor": 4
}
