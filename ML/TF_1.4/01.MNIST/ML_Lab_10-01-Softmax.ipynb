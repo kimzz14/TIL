{
 "cells": [
  {
   "cell_type": "code",
   "execution_count": 1,
   "metadata": {},
   "outputs": [],
   "source": [
    "from tensorflow.examples.tutorials.mnist import input_data"
   ]
  },
  {
   "cell_type": "code",
   "execution_count": 2,
   "metadata": {},
   "outputs": [],
   "source": [
    "import tensorflow as tf"
   ]
  },
  {
   "cell_type": "code",
   "execution_count": 3,
   "metadata": {},
   "outputs": [],
   "source": [
    "import numpy as np"
   ]
  },
  {
   "cell_type": "code",
   "execution_count": 4,
   "metadata": {},
   "outputs": [],
   "source": [
    "import random"
   ]
  },
  {
   "cell_type": "code",
   "execution_count": 5,
   "metadata": {},
   "outputs": [],
   "source": [
    "config=tf.ConfigProto()\n",
    "config.gpu_options.allow_growth = True"
   ]
  },
  {
   "cell_type": "code",
   "execution_count": 6,
   "metadata": {},
   "outputs": [],
   "source": [
    "tf.set_random_seed(777)  # reproducibility"
   ]
  },
  {
   "cell_type": "code",
   "execution_count": 7,
   "metadata": {},
   "outputs": [],
   "source": [
    "# parameters\n",
    "log_dir = './logs/ML_Lab_10-01-Softmax'\n",
    "learning_rate = 0.001\n",
    "batch_size = 100\n",
    "num_epochs = 50"
   ]
  },
  {
   "cell_type": "code",
   "execution_count": 8,
   "metadata": {},
   "outputs": [
    {
     "name": "stdout",
     "output_type": "stream",
     "text": [
      "WARNING:tensorflow:From <ipython-input-8-a839aeb82f4b>:1: read_data_sets (from tensorflow.contrib.learn.python.learn.datasets.mnist) is deprecated and will be removed in a future version.\n",
      "Instructions for updating:\n",
      "Please use alternatives such as official/mnist/dataset.py from tensorflow/models.\n",
      "WARNING:tensorflow:From C:\\Anaconda3\\lib\\site-packages\\tensorflow\\contrib\\learn\\python\\learn\\datasets\\mnist.py:260: maybe_download (from tensorflow.contrib.learn.python.learn.datasets.base) is deprecated and will be removed in a future version.\n",
      "Instructions for updating:\n",
      "Please write your own downloading logic.\n",
      "WARNING:tensorflow:From C:\\Anaconda3\\lib\\site-packages\\tensorflow\\contrib\\learn\\python\\learn\\datasets\\mnist.py:262: extract_images (from tensorflow.contrib.learn.python.learn.datasets.mnist) is deprecated and will be removed in a future version.\n",
      "Instructions for updating:\n",
      "Please use tf.data to implement this functionality.\n",
      "Extracting MNIST_data/train-images-idx3-ubyte.gz\n",
      "WARNING:tensorflow:From C:\\Anaconda3\\lib\\site-packages\\tensorflow\\contrib\\learn\\python\\learn\\datasets\\mnist.py:267: extract_labels (from tensorflow.contrib.learn.python.learn.datasets.mnist) is deprecated and will be removed in a future version.\n",
      "Instructions for updating:\n",
      "Please use tf.data to implement this functionality.\n",
      "Extracting MNIST_data/train-labels-idx1-ubyte.gz\n",
      "WARNING:tensorflow:From C:\\Anaconda3\\lib\\site-packages\\tensorflow\\contrib\\learn\\python\\learn\\datasets\\mnist.py:110: dense_to_one_hot (from tensorflow.contrib.learn.python.learn.datasets.mnist) is deprecated and will be removed in a future version.\n",
      "Instructions for updating:\n",
      "Please use tf.one_hot on tensors.\n",
      "Extracting MNIST_data/t10k-images-idx3-ubyte.gz\n",
      "Extracting MNIST_data/t10k-labels-idx1-ubyte.gz\n",
      "WARNING:tensorflow:From C:\\Anaconda3\\lib\\site-packages\\tensorflow\\contrib\\learn\\python\\learn\\datasets\\mnist.py:290: DataSet.__init__ (from tensorflow.contrib.learn.python.learn.datasets.mnist) is deprecated and will be removed in a future version.\n",
      "Instructions for updating:\n",
      "Please use alternatives such as official/mnist/dataset.py from tensorflow/models.\n"
     ]
    }
   ],
   "source": [
    "mnist = input_data.read_data_sets(\"MNIST_data/\", one_hot=True)"
   ]
  },
  {
   "cell_type": "code",
   "execution_count": 9,
   "metadata": {},
   "outputs": [
    {
     "name": "stdout",
     "output_type": "stream",
     "text": [
      "55000\n"
     ]
    }
   ],
   "source": [
    "print(mnist.train.num_examples)"
   ]
  },
  {
   "cell_type": "code",
   "execution_count": 10,
   "metadata": {},
   "outputs": [],
   "source": [
    "nb_classes = 10"
   ]
  },
  {
   "cell_type": "code",
   "execution_count": 11,
   "metadata": {},
   "outputs": [],
   "source": [
    "X = tf.placeholder(dtype=tf.float32, shape=[None, 784] , name='X')"
   ]
  },
  {
   "cell_type": "code",
   "execution_count": 12,
   "metadata": {},
   "outputs": [],
   "source": [
    "Y = tf.placeholder(dtype=tf.float32, shape=[None, nb_classes], name='Y')"
   ]
  },
  {
   "cell_type": "code",
   "execution_count": 13,
   "metadata": {},
   "outputs": [],
   "source": [
    "with tf.variable_scope('softmax') as scope:\n",
    "    W = tf.Variable(tf.random_normal(shape=[784, nb_classes]), shape=[784, nb_classes], dtype=tf.float32, name='weight')\n",
    "    b = tf.Variable(tf.random_normal(shape=[nb_classes]), shape=[nb_classes], dtype=tf.float32, name='bias')\n",
    "    logits = tf.matmul(X, W) + b\n",
    "    hypothesis = tf.nn.softmax(logits)"
   ]
  },
  {
   "cell_type": "code",
   "execution_count": 14,
   "metadata": {},
   "outputs": [],
   "source": [
    "with tf.variable_scope('cost') as scope:\n",
    "    cost = tf.reduce_mean(tf.nn.softmax_cross_entropy_with_logits_v2(logits=logits, labels=Y))"
   ]
  },
  {
   "cell_type": "code",
   "execution_count": 15,
   "metadata": {},
   "outputs": [],
   "source": [
    "with tf.variable_scope('Train') as scope:\n",
    "    train = tf.train.AdamOptimizer(learning_rate=learning_rate).minimize(cost)"
   ]
  },
  {
   "cell_type": "code",
   "execution_count": 16,
   "metadata": {},
   "outputs": [
    {
     "name": "stdout",
     "output_type": "stream",
     "text": [
      "WARNING:tensorflow:From <ipython-input-16-2360d2bf8b6a>:2: arg_max (from tensorflow.python.ops.gen_math_ops) is deprecated and will be removed in a future version.\n",
      "Instructions for updating:\n",
      "Use `tf.math.argmax` instead\n"
     ]
    }
   ],
   "source": [
    "with tf.variable_scope('accuracy') as scope:\n",
    "    is_correct = tf.equal(tf.argmax(hypothesis, 1), tf.arg_max(Y, 1))\n",
    "    accuracy = tf.reduce_mean(tf.cast(is_correct, tf.float32))"
   ]
  },
  {
   "cell_type": "code",
   "execution_count": 17,
   "metadata": {},
   "outputs": [],
   "source": [
    "with tf.variable_scope('tensorboard') as scope:\n",
    "    overall_cost     = tf.placeholder(shape=None, dtype=tf.float32, name='overall_cost')\n",
    "    overall_accuracy = tf.placeholder(shape=None, dtype=tf.float32, name='overall_accuracy')\n",
    "    tf.summary.scalar('cost', overall_cost)\n",
    "    tf.summary.scalar('accuracy', overall_accuracy)"
   ]
  },
  {
   "cell_type": "code",
   "execution_count": 18,
   "metadata": {},
   "outputs": [
    {
     "name": "stdout",
     "output_type": "stream",
     "text": [
      "Epoch: 0001 cost = 5.745170949 accuracy = 0.567199998\n",
      "Epoch: 0002 cost = 1.781488078 accuracy = 0.733800001\n",
      "Epoch: 0003 cost = 1.122674557 accuracy = 0.799899997\n",
      "Epoch: 0004 cost = 0.871361883 accuracy = 0.832499996\n",
      "Epoch: 0005 cost = 0.738527935 accuracy = 0.851699998\n",
      "Epoch: 0006 cost = 0.654354536 accuracy = 0.867600002\n",
      "Epoch: 0007 cost = 0.595750990 accuracy = 0.876200002\n",
      "Epoch: 0008 cost = 0.552198451 accuracy = 0.884000002\n",
      "Epoch: 0009 cost = 0.518347334 accuracy = 0.889299999\n",
      "Epoch: 0010 cost = 0.490396257 accuracy = 0.890999998\n",
      "Epoch: 0011 cost = 0.468099669 accuracy = 0.896500004\n",
      "Epoch: 0012 cost = 0.448688828 accuracy = 0.898200001\n",
      "Epoch: 0013 cost = 0.432459962 accuracy = 0.901400002\n",
      "Epoch: 0014 cost = 0.418572140 accuracy = 0.902600000\n",
      "Epoch: 0015 cost = 0.406201535 accuracy = 0.904499999\n",
      "Epoch: 0016 cost = 0.395338746 accuracy = 0.904500002\n",
      "Epoch: 0017 cost = 0.385045630 accuracy = 0.906700001\n",
      "Epoch: 0018 cost = 0.376219346 accuracy = 0.907300003\n",
      "Epoch: 0019 cost = 0.368491901 accuracy = 0.907100003\n",
      "Epoch: 0020 cost = 0.361390474 accuracy = 0.907500006\n",
      "Epoch: 0021 cost = 0.354236302 accuracy = 0.909800001\n",
      "Epoch: 0022 cost = 0.348408499 accuracy = 0.909800000\n",
      "Epoch: 0023 cost = 0.342766113 accuracy = 0.910900005\n",
      "Epoch: 0024 cost = 0.337266395 accuracy = 0.911200004\n",
      "Epoch: 0025 cost = 0.332781878 accuracy = 0.912300000\n",
      "Epoch: 0026 cost = 0.328129173 accuracy = 0.913500001\n",
      "Epoch: 0027 cost = 0.323615616 accuracy = 0.913800001\n",
      "Epoch: 0028 cost = 0.319514501 accuracy = 0.914500001\n",
      "Epoch: 0029 cost = 0.315896213 accuracy = 0.914600000\n",
      "Epoch: 0030 cost = 0.312203082 accuracy = 0.915100005\n",
      "Epoch: 0031 cost = 0.308815366 accuracy = 0.914200003\n",
      "Epoch: 0032 cost = 0.305519082 accuracy = 0.915700005\n",
      "Epoch: 0033 cost = 0.302752712 accuracy = 0.914800003\n",
      "Epoch: 0034 cost = 0.299953713 accuracy = 0.915900003\n",
      "Epoch: 0035 cost = 0.297000653 accuracy = 0.915700000\n",
      "Epoch: 0036 cost = 0.294631288 accuracy = 0.917800002\n",
      "Epoch: 0037 cost = 0.292367845 accuracy = 0.918400006\n",
      "Epoch: 0038 cost = 0.289682664 accuracy = 0.916400004\n",
      "Epoch: 0039 cost = 0.287574693 accuracy = 0.918800002\n",
      "Epoch: 0040 cost = 0.285439503 accuracy = 0.917200000\n",
      "Epoch: 0041 cost = 0.283869482 accuracy = 0.919699997\n",
      "Epoch: 0042 cost = 0.281679449 accuracy = 0.920100003\n",
      "Epoch: 0043 cost = 0.279968443 accuracy = 0.918999999\n",
      "Epoch: 0044 cost = 0.278088505 accuracy = 0.919600000\n",
      "Epoch: 0045 cost = 0.276606046 accuracy = 0.919200005\n",
      "Epoch: 0046 cost = 0.275118358 accuracy = 0.919399998\n",
      "Epoch: 0047 cost = 0.273182138 accuracy = 0.919899996\n",
      "Epoch: 0048 cost = 0.271947312 accuracy = 0.918100001\n",
      "Epoch: 0049 cost = 0.270622338 accuracy = 0.919100002\n",
      "Epoch: 0050 cost = 0.269038809 accuracy = 0.920300002\n"
     ]
    }
   ],
   "source": [
    "with tf.Session(config=config) as sess:\n",
    "    # tensorboard --logdir=./logs/Deep_NN\n",
    "    merged_summary = tf.summary.merge_all()\n",
    "    writer = tf.summary.FileWriter(log_dir)\n",
    "    writer.add_graph(sess.graph)\n",
    "    \n",
    "    # Initialize TensorFlow variables\n",
    "    sess.run(tf.global_variables_initializer())\n",
    "    # Training cycle\n",
    "    for epoch in range(num_epochs):\n",
    "        _overall_cost = 0\n",
    "        total_batch = int(mnist.train.num_examples / batch_size)\n",
    "        for i in range(total_batch):\n",
    "            batch_xs, batch_ys = mnist.train.next_batch(batch_size)\n",
    "            cost_val, _ = sess.run([cost, train], feed_dict={X: batch_xs, Y: batch_ys})\n",
    "            _overall_cost += cost_val / total_batch\n",
    "        \n",
    "        _overall_accuracy = 0\n",
    "        total_batch = int(mnist.test.num_examples / batch_size)\n",
    "        for i in range(total_batch):\n",
    "            batch_xs, batch_ys = mnist.test.next_batch(batch_size)\n",
    "            accuracy_val = sess.run(accuracy, feed_dict={X: batch_xs, Y: batch_ys})\n",
    "            _overall_accuracy += accuracy_val / total_batch\n",
    "            \n",
    "        summary = sess.run(merged_summary, feed_dict={overall_cost: _overall_cost, overall_accuracy: _overall_accuracy})\n",
    "        writer.add_summary(summary, global_step=(epoch))\n",
    "        print('Epoch:', '%04d' % (epoch + 1), 'cost =', '{:.9f}'.format(_overall_cost), 'accuracy =', '{:.9f}'.format(_overall_accuracy))"
   ]
  },
  {
   "cell_type": "code",
   "execution_count": null,
   "metadata": {},
   "outputs": [],
   "source": []
  }
 ],
 "metadata": {
  "kernelspec": {
   "display_name": "Python 3",
   "language": "python",
   "name": "python3"
  },
  "language_info": {
   "codemirror_mode": {
    "name": "ipython",
    "version": 3
   },
   "file_extension": ".py",
   "mimetype": "text/x-python",
   "name": "python",
   "nbconvert_exporter": "python",
   "pygments_lexer": "ipython3",
   "version": "3.7.3"
  }
 },
 "nbformat": 4,
 "nbformat_minor": 4
}
