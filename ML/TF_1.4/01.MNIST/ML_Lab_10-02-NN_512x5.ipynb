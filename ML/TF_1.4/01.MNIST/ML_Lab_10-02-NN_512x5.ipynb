{
 "cells": [
  {
   "cell_type": "code",
   "execution_count": 1,
   "metadata": {},
   "outputs": [],
   "source": [
    "from tensorflow.examples.tutorials.mnist import input_data"
   ]
  },
  {
   "cell_type": "code",
   "execution_count": 2,
   "metadata": {},
   "outputs": [],
   "source": [
    "import tensorflow as tf"
   ]
  },
  {
   "cell_type": "code",
   "execution_count": 3,
   "metadata": {},
   "outputs": [],
   "source": [
    "import numpy as np"
   ]
  },
  {
   "cell_type": "code",
   "execution_count": 4,
   "metadata": {},
   "outputs": [],
   "source": [
    "import random"
   ]
  },
  {
   "cell_type": "code",
   "execution_count": 5,
   "metadata": {},
   "outputs": [],
   "source": [
    "config=tf.ConfigProto()\n",
    "config.gpu_options.allow_growth = True"
   ]
  },
  {
   "cell_type": "code",
   "execution_count": 6,
   "metadata": {},
   "outputs": [],
   "source": [
    "tf.set_random_seed(777)  # reproducibility"
   ]
  },
  {
   "cell_type": "code",
   "execution_count": 7,
   "metadata": {},
   "outputs": [],
   "source": [
    "# parameters\n",
    "log_dir = './logs/ML_Lab_10-02-NN_512x5'\n",
    "learning_rate = 0.001\n",
    "batch_size = 100\n",
    "num_epochs = 50"
   ]
  },
  {
   "cell_type": "code",
   "execution_count": 8,
   "metadata": {},
   "outputs": [
    {
     "name": "stdout",
     "output_type": "stream",
     "text": [
      "WARNING:tensorflow:From <ipython-input-8-a839aeb82f4b>:1: read_data_sets (from tensorflow.contrib.learn.python.learn.datasets.mnist) is deprecated and will be removed in a future version.\n",
      "Instructions for updating:\n",
      "Please use alternatives such as official/mnist/dataset.py from tensorflow/models.\n",
      "WARNING:tensorflow:From C:\\Anaconda3\\lib\\site-packages\\tensorflow\\contrib\\learn\\python\\learn\\datasets\\mnist.py:260: maybe_download (from tensorflow.contrib.learn.python.learn.datasets.base) is deprecated and will be removed in a future version.\n",
      "Instructions for updating:\n",
      "Please write your own downloading logic.\n",
      "WARNING:tensorflow:From C:\\Anaconda3\\lib\\site-packages\\tensorflow\\contrib\\learn\\python\\learn\\datasets\\mnist.py:262: extract_images (from tensorflow.contrib.learn.python.learn.datasets.mnist) is deprecated and will be removed in a future version.\n",
      "Instructions for updating:\n",
      "Please use tf.data to implement this functionality.\n",
      "Extracting MNIST_data/train-images-idx3-ubyte.gz\n",
      "WARNING:tensorflow:From C:\\Anaconda3\\lib\\site-packages\\tensorflow\\contrib\\learn\\python\\learn\\datasets\\mnist.py:267: extract_labels (from tensorflow.contrib.learn.python.learn.datasets.mnist) is deprecated and will be removed in a future version.\n",
      "Instructions for updating:\n",
      "Please use tf.data to implement this functionality.\n",
      "Extracting MNIST_data/train-labels-idx1-ubyte.gz\n",
      "WARNING:tensorflow:From C:\\Anaconda3\\lib\\site-packages\\tensorflow\\contrib\\learn\\python\\learn\\datasets\\mnist.py:110: dense_to_one_hot (from tensorflow.contrib.learn.python.learn.datasets.mnist) is deprecated and will be removed in a future version.\n",
      "Instructions for updating:\n",
      "Please use tf.one_hot on tensors.\n",
      "Extracting MNIST_data/t10k-images-idx3-ubyte.gz\n",
      "Extracting MNIST_data/t10k-labels-idx1-ubyte.gz\n",
      "WARNING:tensorflow:From C:\\Anaconda3\\lib\\site-packages\\tensorflow\\contrib\\learn\\python\\learn\\datasets\\mnist.py:290: DataSet.__init__ (from tensorflow.contrib.learn.python.learn.datasets.mnist) is deprecated and will be removed in a future version.\n",
      "Instructions for updating:\n",
      "Please use alternatives such as official/mnist/dataset.py from tensorflow/models.\n"
     ]
    }
   ],
   "source": [
    "mnist = input_data.read_data_sets(\"MNIST_data/\", one_hot=True)"
   ]
  },
  {
   "cell_type": "code",
   "execution_count": 9,
   "metadata": {},
   "outputs": [
    {
     "name": "stdout",
     "output_type": "stream",
     "text": [
      "55000\n"
     ]
    }
   ],
   "source": [
    "print(mnist.train.num_examples)"
   ]
  },
  {
   "cell_type": "code",
   "execution_count": 10,
   "metadata": {},
   "outputs": [],
   "source": [
    "nb_classes = 10"
   ]
  },
  {
   "cell_type": "code",
   "execution_count": 11,
   "metadata": {},
   "outputs": [],
   "source": [
    "X = tf.placeholder(shape=[None, 784], dtype=tf.float32, name='X')"
   ]
  },
  {
   "cell_type": "code",
   "execution_count": 12,
   "metadata": {},
   "outputs": [],
   "source": [
    "Y = tf.placeholder(shape=[None, nb_classes], dtype=tf.int32, name='Y')"
   ]
  },
  {
   "cell_type": "code",
   "execution_count": 13,
   "metadata": {},
   "outputs": [],
   "source": [
    "with tf.variable_scope('layer1') as scope:\n",
    "    W1 = tf.Variable(tf.random_normal(shape=[784, 512]), shape=[784, 512], dtype=tf.float32, name='weight1')\n",
    "    b1 = tf.Variable(tf.random_normal(shape=[512]), shape=[512], dtype=tf.float32, name='bias1')\n",
    "    L1 = tf.nn.relu(tf.matmul(X, W1) + b1)"
   ]
  },
  {
   "cell_type": "code",
   "execution_count": 14,
   "metadata": {},
   "outputs": [],
   "source": [
    "with tf.variable_scope('layer2') as scope:\n",
    "    W2 = tf.Variable(tf.random_normal(shape=[512, 512]), shape=[512, 512], dtype=tf.float32, name='weight2')\n",
    "    b2 = tf.Variable(tf.random_normal(shape=[512]), shape=[512], dtype=tf.float32, name='bias2')\n",
    "    L2 = tf.nn.relu(tf.matmul(L1, W2) + b2)"
   ]
  },
  {
   "cell_type": "code",
   "execution_count": 15,
   "metadata": {},
   "outputs": [],
   "source": [
    "with tf.variable_scope('layer3') as scope:\n",
    "    W3 = tf.Variable(tf.random_normal(shape=[512, 512]), shape=[512, 512], dtype=tf.float32, name='weight3')\n",
    "    b3 = tf.Variable(tf.random_normal(shape=[512]), shape=[512], dtype=tf.float32, name='bias3')\n",
    "    L3 = tf.nn.relu(tf.matmul(L2, W3) + b3)"
   ]
  },
  {
   "cell_type": "code",
   "execution_count": 16,
   "metadata": {},
   "outputs": [],
   "source": [
    "with tf.variable_scope('layer4') as scope:\n",
    "    W4 = tf.Variable(tf.random_normal(shape=[512, 512]), shape=[512, 512], dtype=tf.float32, name='weight4')\n",
    "    b4 = tf.Variable(tf.random_normal(shape=[512]), shape=[512], dtype=tf.float32, name='bias4')\n",
    "    L4 = tf.nn.relu(tf.matmul(L3, W4) + b4)"
   ]
  },
  {
   "cell_type": "code",
   "execution_count": 17,
   "metadata": {},
   "outputs": [],
   "source": [
    "with tf.variable_scope('layer5') as scope:\n",
    "    W5 = tf.Variable(tf.random_normal(shape=[512, 10]), shape=[512, 10], dtype=tf.float32, name='weight5')\n",
    "    b5 = tf.Variable(tf.random_normal(shape=[10]), shape=[10], dtype=tf.float32, name='bias5')\n",
    "    hypothesis = tf.matmul(L4, W5) + b5"
   ]
  },
  {
   "cell_type": "code",
   "execution_count": 18,
   "metadata": {},
   "outputs": [],
   "source": [
    "with tf.variable_scope('cost'):\n",
    "    cost_i = tf.nn.softmax_cross_entropy_with_logits_v2(logits=hypothesis, labels=Y)\n",
    "    cost = tf.reduce_mean(cost_i)"
   ]
  },
  {
   "cell_type": "code",
   "execution_count": 19,
   "metadata": {},
   "outputs": [],
   "source": [
    "with tf.variable_scope('Train'):\n",
    "    train = tf.train.AdamOptimizer(learning_rate=learning_rate).minimize(cost)"
   ]
  },
  {
   "cell_type": "code",
   "execution_count": 20,
   "metadata": {},
   "outputs": [
    {
     "name": "stdout",
     "output_type": "stream",
     "text": [
      "WARNING:tensorflow:From <ipython-input-20-2360d2bf8b6a>:2: arg_max (from tensorflow.python.ops.gen_math_ops) is deprecated and will be removed in a future version.\n",
      "Instructions for updating:\n",
      "Use `tf.math.argmax` instead\n"
     ]
    }
   ],
   "source": [
    "with tf.variable_scope('accuracy') as scope:\n",
    "    is_correct = tf.equal(tf.argmax(hypothesis, 1), tf.arg_max(Y, 1))\n",
    "    accuracy = tf.reduce_mean(tf.cast(is_correct, tf.float32))"
   ]
  },
  {
   "cell_type": "code",
   "execution_count": 21,
   "metadata": {},
   "outputs": [],
   "source": [
    "with tf.variable_scope('tensorboard') as scope:\n",
    "    overall_cost     = tf.placeholder(shape=None, dtype=tf.float32, name='overall_cost')\n",
    "    overall_accuracy = tf.placeholder(shape=None, dtype=tf.float32, name='overall_accuracy')\n",
    "    tf.summary.scalar('cost', overall_cost)\n",
    "    tf.summary.scalar('accuracy', overall_accuracy)"
   ]
  },
  {
   "cell_type": "code",
   "execution_count": 22,
   "metadata": {},
   "outputs": [
    {
     "name": "stdout",
     "output_type": "stream",
     "text": [
      "Epoch: 0001 cost = 42153.306005859 accuracy = 0.893400001\n",
      "Epoch: 0002 cost = 9297.538738292 accuracy = 0.918600000\n",
      "Epoch: 0003 cost = 4755.556309450 accuracy = 0.921400004\n",
      "Epoch: 0004 cost = 2665.744743342 accuracy = 0.931700002\n",
      "Epoch: 0005 cost = 1541.931664763 accuracy = 0.935100004\n",
      "Epoch: 0006 cost = 1034.569558746 accuracy = 0.940300001\n",
      "Epoch: 0007 cost = 646.388983336 accuracy = 0.933800000\n",
      "Epoch: 0008 cost = 616.195537167 accuracy = 0.941400002\n",
      "Epoch: 0009 cost = 639.835489396 accuracy = 0.941800001\n",
      "Epoch: 0010 cost = 568.460299317 accuracy = 0.947600004\n",
      "Epoch: 0011 cost = 455.434816737 accuracy = 0.949100000\n",
      "Epoch: 0012 cost = 495.901792905 accuracy = 0.951200001\n",
      "Epoch: 0013 cost = 447.417832991 accuracy = 0.948700002\n",
      "Epoch: 0014 cost = 419.111195151 accuracy = 0.952100002\n",
      "Epoch: 0015 cost = 402.363639008 accuracy = 0.952900003\n",
      "Epoch: 0016 cost = 441.454856366 accuracy = 0.956000001\n",
      "Epoch: 0017 cost = 319.807500028 accuracy = 0.956500003\n",
      "Epoch: 0018 cost = 346.175901138 accuracy = 0.957100003\n",
      "Epoch: 0019 cost = 276.855535559 accuracy = 0.957900003\n",
      "Epoch: 0020 cost = 340.671164478 accuracy = 0.961000004\n",
      "Epoch: 0021 cost = 267.411618765 accuracy = 0.961200005\n",
      "Epoch: 0022 cost = 302.010778857 accuracy = 0.960800005\n",
      "Epoch: 0023 cost = 252.125494536 accuracy = 0.961900004\n",
      "Epoch: 0024 cost = 258.018169355 accuracy = 0.964000004\n",
      "Epoch: 0025 cost = 256.981378672 accuracy = 0.961400002\n",
      "Epoch: 0026 cost = 236.097529953 accuracy = 0.964700004\n",
      "Epoch: 0027 cost = 222.080265398 accuracy = 0.964000006\n",
      "Epoch: 0028 cost = 288.161325084 accuracy = 0.961200006\n",
      "Epoch: 0029 cost = 209.291351461 accuracy = 0.960900008\n",
      "Epoch: 0030 cost = 171.796357685 accuracy = 0.965000006\n",
      "Epoch: 0031 cost = 201.849423648 accuracy = 0.962300006\n",
      "Epoch: 0032 cost = 199.033198202 accuracy = 0.963500006\n",
      "Epoch: 0033 cost = 147.426499283 accuracy = 0.965000005\n",
      "Epoch: 0034 cost = 173.696325632 accuracy = 0.965000007\n",
      "Epoch: 0035 cost = 204.422066992 accuracy = 0.964500003\n",
      "Epoch: 0036 cost = 164.965119297 accuracy = 0.963600003\n",
      "Epoch: 0037 cost = 188.858875713 accuracy = 0.965000008\n",
      "Epoch: 0038 cost = 204.808720651 accuracy = 0.967400007\n",
      "Epoch: 0039 cost = 139.363297746 accuracy = 0.965200004\n",
      "Epoch: 0040 cost = 118.983791971 accuracy = 0.965300004\n",
      "Epoch: 0041 cost = 198.883175208 accuracy = 0.968600005\n",
      "Epoch: 0042 cost = 170.952304915 accuracy = 0.968700007\n",
      "Epoch: 0043 cost = 138.838410345 accuracy = 0.970000008\n",
      "Epoch: 0044 cost = 159.695857265 accuracy = 0.967100006\n",
      "Epoch: 0045 cost = 123.552127751 accuracy = 0.967200008\n",
      "Epoch: 0046 cost = 143.989570601 accuracy = 0.966000007\n",
      "Epoch: 0047 cost = 110.891046066 accuracy = 0.968000007\n",
      "Epoch: 0048 cost = 122.256853246 accuracy = 0.965500007\n",
      "Epoch: 0049 cost = 153.477634993 accuracy = 0.968800007\n",
      "Epoch: 0050 cost = 116.818873386 accuracy = 0.967500005\n"
     ]
    }
   ],
   "source": [
    "with tf.Session(config=config) as sess:\n",
    "    # tensorboard --logdir=./logs/Deep_NN\n",
    "    merged_summary = tf.summary.merge_all()\n",
    "    writer = tf.summary.FileWriter(log_dir)\n",
    "    writer.add_graph(sess.graph)\n",
    "    \n",
    "    # Initialize TensorFlow variables\n",
    "    sess.run(tf.global_variables_initializer())\n",
    "    # Training cycle\n",
    "    for epoch in range(num_epochs):\n",
    "        _overall_cost = 0\n",
    "        total_batch = int(mnist.train.num_examples / batch_size)\n",
    "        for i in range(total_batch):\n",
    "            batch_xs, batch_ys = mnist.train.next_batch(batch_size)\n",
    "            cost_val, _ = sess.run([cost, train], feed_dict={X: batch_xs, Y: batch_ys})\n",
    "            _overall_cost += cost_val / total_batch\n",
    "        \n",
    "        _overall_accuracy = 0\n",
    "        total_batch = int(mnist.test.num_examples / batch_size)\n",
    "        for i in range(total_batch):\n",
    "            batch_xs, batch_ys = mnist.test.next_batch(batch_size)\n",
    "            accuracy_val = sess.run(accuracy, feed_dict={X: batch_xs, Y: batch_ys})\n",
    "            _overall_accuracy += accuracy_val / total_batch\n",
    "            \n",
    "        summary = sess.run(merged_summary, feed_dict={overall_cost: _overall_cost, overall_accuracy: _overall_accuracy})\n",
    "        writer.add_summary(summary, global_step=(epoch))\n",
    "        print('Epoch:', '%04d' % (epoch + 1), 'cost =', '{:.9f}'.format(_overall_cost), 'accuracy =', '{:.9f}'.format(_overall_accuracy))"
   ]
  },
  {
   "cell_type": "code",
   "execution_count": null,
   "metadata": {},
   "outputs": [],
   "source": []
  }
 ],
 "metadata": {
  "kernelspec": {
   "display_name": "Python 3",
   "language": "python",
   "name": "python3"
  },
  "language_info": {
   "codemirror_mode": {
    "name": "ipython",
    "version": 3
   },
   "file_extension": ".py",
   "mimetype": "text/x-python",
   "name": "python",
   "nbconvert_exporter": "python",
   "pygments_lexer": "ipython3",
   "version": "3.7.3"
  }
 },
 "nbformat": 4,
 "nbformat_minor": 4
}
