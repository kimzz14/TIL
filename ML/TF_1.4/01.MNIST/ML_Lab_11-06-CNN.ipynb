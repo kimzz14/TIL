{
 "cells": [
  {
   "cell_type": "code",
   "execution_count": 1,
   "metadata": {},
   "outputs": [],
   "source": [
    "import tensorflow as tf"
   ]
  },
  {
   "cell_type": "code",
   "execution_count": 2,
   "metadata": {},
   "outputs": [],
   "source": [
    "from tensorflow.examples.tutorials.mnist import input_data"
   ]
  },
  {
   "cell_type": "code",
   "execution_count": 3,
   "metadata": {},
   "outputs": [],
   "source": [
    "import numpy as np"
   ]
  },
  {
   "cell_type": "code",
   "execution_count": 4,
   "metadata": {},
   "outputs": [],
   "source": [
    "config=tf.ConfigProto()\n",
    "config.gpu_options.allow_growth = True"
   ]
  },
  {
   "cell_type": "code",
   "execution_count": 5,
   "metadata": {},
   "outputs": [],
   "source": [
    "tf.set_random_seed(777)"
   ]
  },
  {
   "cell_type": "code",
   "execution_count": 6,
   "metadata": {},
   "outputs": [],
   "source": [
    "# parameters\n",
    "log_dir = './logs/ML_Lab_11-05-CNN'\n",
    "learning_rate = 0.001\n",
    "batch_size = 100\n",
    "num_epochs = 50"
   ]
  },
  {
   "cell_type": "code",
   "execution_count": 7,
   "metadata": {},
   "outputs": [
    {
     "name": "stdout",
     "output_type": "stream",
     "text": [
      "WARNING:tensorflow:From <ipython-input-7-319879c4c296>:1: read_data_sets (from tensorflow.contrib.learn.python.learn.datasets.mnist) is deprecated and will be removed in a future version.\n",
      "Instructions for updating:\n",
      "Please use alternatives such as official/mnist/dataset.py from tensorflow/models.\n",
      "WARNING:tensorflow:From C:\\Anaconda3\\lib\\site-packages\\tensorflow\\contrib\\learn\\python\\learn\\datasets\\mnist.py:260: maybe_download (from tensorflow.contrib.learn.python.learn.datasets.base) is deprecated and will be removed in a future version.\n",
      "Instructions for updating:\n",
      "Please write your own downloading logic.\n",
      "WARNING:tensorflow:From C:\\Anaconda3\\lib\\site-packages\\tensorflow\\contrib\\learn\\python\\learn\\datasets\\mnist.py:262: extract_images (from tensorflow.contrib.learn.python.learn.datasets.mnist) is deprecated and will be removed in a future version.\n",
      "Instructions for updating:\n",
      "Please use tf.data to implement this functionality.\n",
      "Extracting MNIST_data/train-images-idx3-ubyte.gz\n",
      "WARNING:tensorflow:From C:\\Anaconda3\\lib\\site-packages\\tensorflow\\contrib\\learn\\python\\learn\\datasets\\mnist.py:267: extract_labels (from tensorflow.contrib.learn.python.learn.datasets.mnist) is deprecated and will be removed in a future version.\n",
      "Instructions for updating:\n",
      "Please use tf.data to implement this functionality.\n",
      "Extracting MNIST_data/train-labels-idx1-ubyte.gz\n",
      "WARNING:tensorflow:From C:\\Anaconda3\\lib\\site-packages\\tensorflow\\contrib\\learn\\python\\learn\\datasets\\mnist.py:110: dense_to_one_hot (from tensorflow.contrib.learn.python.learn.datasets.mnist) is deprecated and will be removed in a future version.\n",
      "Instructions for updating:\n",
      "Please use tf.one_hot on tensors.\n",
      "Extracting MNIST_data/t10k-images-idx3-ubyte.gz\n",
      "Extracting MNIST_data/t10k-labels-idx1-ubyte.gz\n",
      "WARNING:tensorflow:From C:\\Anaconda3\\lib\\site-packages\\tensorflow\\contrib\\learn\\python\\learn\\datasets\\mnist.py:290: DataSet.__init__ (from tensorflow.contrib.learn.python.learn.datasets.mnist) is deprecated and will be removed in a future version.\n",
      "Instructions for updating:\n",
      "Please use alternatives such as official/mnist/dataset.py from tensorflow/models.\n"
     ]
    }
   ],
   "source": [
    "mnist = input_data.read_data_sets('MNIST_data/', one_hot=True)"
   ]
  },
  {
   "cell_type": "code",
   "execution_count": 8,
   "metadata": {},
   "outputs": [],
   "source": [
    "X = tf.placeholder(shape=[None, 784], dtype=tf.float32, name='X')"
   ]
  },
  {
   "cell_type": "code",
   "execution_count": 9,
   "metadata": {},
   "outputs": [],
   "source": [
    "Y = tf.placeholder(shape=[None,  10], dtype=tf.float32, name='Y')"
   ]
  },
  {
   "cell_type": "code",
   "execution_count": 10,
   "metadata": {},
   "outputs": [],
   "source": [
    "X_img = tf.reshape(X, shape=[-1, 28, 28, 1])"
   ]
  },
  {
   "cell_type": "code",
   "execution_count": 11,
   "metadata": {},
   "outputs": [
    {
     "name": "stdout",
     "output_type": "stream",
     "text": [
      "Tensor(\"Conv1/MaxPool:0\", shape=(?, 14, 14, 32), dtype=float32)\n"
     ]
    }
   ],
   "source": [
    "with tf.variable_scope('Conv1') as scope:\n",
    "    W1 = tf.Variable(tf.random_normal(shape=[3, 3, 1, 32], stddev=0.01), dtype=tf.float32, name='weight1')\n",
    "    L1 = tf.nn.conv2d(X_img, W1, strides=[1, 1, 1, 1], padding='SAME')\n",
    "    L1 = tf.nn.relu(L1)\n",
    "    L1 = tf.nn.max_pool(L1, ksize=[1, 2, 2, 1], strides=[1, 2, 2, 1], padding='SAME')\n",
    "    print(L1)"
   ]
  },
  {
   "cell_type": "code",
   "execution_count": 12,
   "metadata": {},
   "outputs": [
    {
     "name": "stdout",
     "output_type": "stream",
     "text": [
      "Tensor(\"Conv2/MaxPool:0\", shape=(?, 7, 7, 64), dtype=float32)\n"
     ]
    }
   ],
   "source": [
    "with tf.variable_scope('Conv2') as scope:\n",
    "    W2 = tf.Variable(tf.random_normal(shape=[3, 3, 32, 64], stddev=0.01), dtype=tf.float32, name='weight2')\n",
    "    L2 = tf.nn.conv2d(L1, W2, strides=[1, 1, 1, 1], padding='SAME')\n",
    "    L2 = tf.nn.relu(L2)\n",
    "    L2 = tf.nn.max_pool(L2, ksize=[1, 2, 2, 1], strides=[1, 2, 2, 1], padding='SAME')\n",
    "    print(L2)"
   ]
  },
  {
   "cell_type": "code",
   "execution_count": 13,
   "metadata": {},
   "outputs": [
    {
     "name": "stdout",
     "output_type": "stream",
     "text": [
      "Tensor(\"Fuuly-connected/add:0\", shape=(?, 10), dtype=float32)\n"
     ]
    }
   ],
   "source": [
    "with tf.variable_scope('Fuuly-connected') as scope:\n",
    "    L2 = tf.reshape(L2, shape=[-1, 7 * 7 * 64])\n",
    "    W3 = tf.get_variable('weight3', shape=[7 * 7 * 64, 10], initializer=tf.contrib.layers.xavier_initializer())\n",
    "    b3 = tf.Variable(tf.random_normal(shape=[10]), dtype=tf.float32, name='bias3')\n",
    "    hypothesis = tf.matmul(L2, W3) + b3\n",
    "    print(hypothesis)"
   ]
  },
  {
   "cell_type": "code",
   "execution_count": 14,
   "metadata": {},
   "outputs": [],
   "source": [
    "with tf.variable_scope('cost'):\n",
    "    cost_i = tf.nn.softmax_cross_entropy_with_logits_v2(logits=hypothesis, labels=Y)\n",
    "    cost = tf.reduce_mean(cost_i)"
   ]
  },
  {
   "cell_type": "code",
   "execution_count": 15,
   "metadata": {},
   "outputs": [],
   "source": [
    "with tf.variable_scope('Optimizer'):\n",
    "    train = tf.train.AdamOptimizer(learning_rate=learning_rate).minimize(cost)"
   ]
  },
  {
   "cell_type": "code",
   "execution_count": 16,
   "metadata": {},
   "outputs": [
    {
     "name": "stdout",
     "output_type": "stream",
     "text": [
      "WARNING:tensorflow:From <ipython-input-16-2360d2bf8b6a>:2: arg_max (from tensorflow.python.ops.gen_math_ops) is deprecated and will be removed in a future version.\n",
      "Instructions for updating:\n",
      "Use `tf.math.argmax` instead\n"
     ]
    }
   ],
   "source": [
    "with tf.variable_scope('accuracy') as scope:\n",
    "    is_correct = tf.equal(tf.argmax(hypothesis, 1), tf.arg_max(Y, 1))\n",
    "    accuracy = tf.reduce_mean(tf.cast(is_correct, tf.float32))"
   ]
  },
  {
   "cell_type": "code",
   "execution_count": 17,
   "metadata": {},
   "outputs": [],
   "source": [
    "with tf.variable_scope('tensorboard') as scope:\n",
    "    overall_cost     = tf.placeholder(shape=None, dtype=tf.float32, name='overall_cost')\n",
    "    overall_accuracy = tf.placeholder(shape=None, dtype=tf.float32, name='overall_accuracy')\n",
    "    tf.summary.scalar('cost', overall_cost)\n",
    "    tf.summary.scalar('accuracy', overall_accuracy)"
   ]
  },
  {
   "cell_type": "code",
   "execution_count": 18,
   "metadata": {},
   "outputs": [
    {
     "name": "stdout",
     "output_type": "stream",
     "text": [
      "Epoch: 0001 cost = 0.345581816 accuracy = 0.970700007\n",
      "Epoch: 0002 cost = 0.089809411 accuracy = 0.974200010\n",
      "Epoch: 0003 cost = 0.067674202 accuracy = 0.982500012\n",
      "Epoch: 0004 cost = 0.056645692 accuracy = 0.982100009\n",
      "Epoch: 0005 cost = 0.047604032 accuracy = 0.986100010\n",
      "Epoch: 0006 cost = 0.041491933 accuracy = 0.986500008\n",
      "Epoch: 0007 cost = 0.035762655 accuracy = 0.986100009\n",
      "Epoch: 0008 cost = 0.031863012 accuracy = 0.985000009\n",
      "Epoch: 0009 cost = 0.028265070 accuracy = 0.987900009\n",
      "Epoch: 0010 cost = 0.024407292 accuracy = 0.985300011\n",
      "Epoch: 0011 cost = 0.021742031 accuracy = 0.988800009\n",
      "Epoch: 0012 cost = 0.019607739 accuracy = 0.989200010\n",
      "Epoch: 0013 cost = 0.016717939 accuracy = 0.988200010\n",
      "Epoch: 0014 cost = 0.015167358 accuracy = 0.988800008\n",
      "Epoch: 0015 cost = 0.013067828 accuracy = 0.987100010\n",
      "Epoch: 0016 cost = 0.012344268 accuracy = 0.987800010\n",
      "Epoch: 0017 cost = 0.011103002 accuracy = 0.987500011\n",
      "Epoch: 0018 cost = 0.008696620 accuracy = 0.987700008\n",
      "Epoch: 0019 cost = 0.008756971 accuracy = 0.988600010\n",
      "Epoch: 0020 cost = 0.007427944 accuracy = 0.988800010\n",
      "Epoch: 0021 cost = 0.006778368 accuracy = 0.988800010\n",
      "Epoch: 0022 cost = 0.004639765 accuracy = 0.988300009\n",
      "Epoch: 0023 cost = 0.006273207 accuracy = 0.988600010\n",
      "Epoch: 0024 cost = 0.004867772 accuracy = 0.987800011\n",
      "Epoch: 0025 cost = 0.005156342 accuracy = 0.989100009\n",
      "Epoch: 0026 cost = 0.003975541 accuracy = 0.988100009\n",
      "Epoch: 0027 cost = 0.004067087 accuracy = 0.988700009\n",
      "Epoch: 0028 cost = 0.004514568 accuracy = 0.987700009\n",
      "Epoch: 0029 cost = 0.002798274 accuracy = 0.987100011\n",
      "Epoch: 0030 cost = 0.002257870 accuracy = 0.988000009\n",
      "Epoch: 0031 cost = 0.004180708 accuracy = 0.988600010\n",
      "Epoch: 0032 cost = 0.002910645 accuracy = 0.988000010\n",
      "Epoch: 0033 cost = 0.004505745 accuracy = 0.987400012\n",
      "Epoch: 0034 cost = 0.002936639 accuracy = 0.988200009\n",
      "Epoch: 0035 cost = 0.002259270 accuracy = 0.987300010\n",
      "Epoch: 0036 cost = 0.001396774 accuracy = 0.989100009\n",
      "Epoch: 0037 cost = 0.003091002 accuracy = 0.988600010\n",
      "Epoch: 0038 cost = 0.003828479 accuracy = 0.990400008\n",
      "Epoch: 0039 cost = 0.001059260 accuracy = 0.987700009\n",
      "Epoch: 0040 cost = 0.002634060 accuracy = 0.989100010\n",
      "Epoch: 0041 cost = 0.002385565 accuracy = 0.987900008\n",
      "Epoch: 0042 cost = 0.002497595 accuracy = 0.988300009\n",
      "Epoch: 0043 cost = 0.001582848 accuracy = 0.988500010\n",
      "Epoch: 0044 cost = 0.000663672 accuracy = 0.989100010\n",
      "Epoch: 0045 cost = 0.002940933 accuracy = 0.988200011\n",
      "Epoch: 0046 cost = 0.003851035 accuracy = 0.988800009\n",
      "Epoch: 0047 cost = 0.000616404 accuracy = 0.989900009\n",
      "Epoch: 0048 cost = 0.000093954 accuracy = 0.989800009\n",
      "Epoch: 0049 cost = 0.000040568 accuracy = 0.990300009\n",
      "Epoch: 0050 cost = 0.000028798 accuracy = 0.990000009\n"
     ]
    }
   ],
   "source": [
    "with tf.Session(config=config) as sess:\n",
    "    # tensorboard --logdir=./logs/Deep_NN\n",
    "    merged_summary = tf.summary.merge_all()\n",
    "    writer = tf.summary.FileWriter(log_dir)\n",
    "    writer.add_graph(sess.graph)\n",
    "    \n",
    "    # Initialize TensorFlow variables\n",
    "    sess.run(tf.global_variables_initializer())\n",
    "    # Training cycle\n",
    "    for epoch in range(num_epochs):\n",
    "        _overall_cost = 0\n",
    "        total_batch = int(mnist.train.num_examples / batch_size)\n",
    "        for i in range(total_batch):\n",
    "            batch_xs, batch_ys = mnist.train.next_batch(batch_size)\n",
    "            cost_val, _ = sess.run([cost, train], feed_dict={X: batch_xs, Y: batch_ys})\n",
    "            _overall_cost += cost_val / total_batch\n",
    "        \n",
    "        _overall_accuracy = 0\n",
    "        total_batch = int(mnist.test.num_examples / batch_size)\n",
    "        for i in range(total_batch):\n",
    "            batch_xs, batch_ys = mnist.test.next_batch(batch_size)\n",
    "            accuracy_val = sess.run(accuracy, feed_dict={X: batch_xs, Y: batch_ys})\n",
    "            _overall_accuracy += accuracy_val / total_batch\n",
    "            \n",
    "        summary = sess.run(merged_summary, feed_dict={overall_cost: _overall_cost, overall_accuracy: _overall_accuracy})\n",
    "        writer.add_summary(summary, global_step=(epoch))\n",
    "        print('Epoch:', '%04d' % (epoch + 1), 'cost =', '{:.9f}'.format(_overall_cost), 'accuracy =', '{:.9f}'.format(_overall_accuracy))"
   ]
  },
  {
   "cell_type": "code",
   "execution_count": null,
   "metadata": {},
   "outputs": [],
   "source": []
  }
 ],
 "metadata": {
  "kernelspec": {
   "display_name": "Python 3",
   "language": "python",
   "name": "python3"
  },
  "language_info": {
   "codemirror_mode": {
    "name": "ipython",
    "version": 3
   },
   "file_extension": ".py",
   "mimetype": "text/x-python",
   "name": "python",
   "nbconvert_exporter": "python",
   "pygments_lexer": "ipython3",
   "version": "3.7.3"
  }
 },
 "nbformat": 4,
 "nbformat_minor": 4
}
