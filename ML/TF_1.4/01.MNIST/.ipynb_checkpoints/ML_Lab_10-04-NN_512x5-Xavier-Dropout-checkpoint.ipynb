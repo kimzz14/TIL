{
 "cells": [
  {
   "cell_type": "code",
   "execution_count": 1,
   "metadata": {},
   "outputs": [],
   "source": [
    "from tensorflow.examples.tutorials.mnist import input_data"
   ]
  },
  {
   "cell_type": "code",
   "execution_count": 2,
   "metadata": {},
   "outputs": [],
   "source": [
    "import tensorflow as tf"
   ]
  },
  {
   "cell_type": "code",
   "execution_count": 3,
   "metadata": {},
   "outputs": [],
   "source": [
    "import numpy as np"
   ]
  },
  {
   "cell_type": "code",
   "execution_count": 4,
   "metadata": {},
   "outputs": [],
   "source": [
    "import random"
   ]
  },
  {
   "cell_type": "code",
   "execution_count": 5,
   "metadata": {},
   "outputs": [],
   "source": [
    "config=tf.ConfigProto()\n",
    "config.gpu_options.allow_growth = True"
   ]
  },
  {
   "cell_type": "code",
   "execution_count": 6,
   "metadata": {},
   "outputs": [],
   "source": [
    "tf.set_random_seed(777)  # reproducibility"
   ]
  },
  {
   "cell_type": "code",
   "execution_count": 7,
   "metadata": {},
   "outputs": [],
   "source": [
    "# parameters\n",
    "log_dir = './logs/ML_Lab_10-04-NN_512x5-Xavier-Dropout'\n",
    "learning_rate = 0.001\n",
    "batch_size = 100\n",
    "num_epochs = 50"
   ]
  },
  {
   "cell_type": "code",
   "execution_count": 8,
   "metadata": {},
   "outputs": [
    {
     "name": "stdout",
     "output_type": "stream",
     "text": [
      "WARNING:tensorflow:From <ipython-input-8-a839aeb82f4b>:1: read_data_sets (from tensorflow.contrib.learn.python.learn.datasets.mnist) is deprecated and will be removed in a future version.\n",
      "Instructions for updating:\n",
      "Please use alternatives such as official/mnist/dataset.py from tensorflow/models.\n",
      "WARNING:tensorflow:From C:\\Anaconda3\\lib\\site-packages\\tensorflow\\contrib\\learn\\python\\learn\\datasets\\mnist.py:260: maybe_download (from tensorflow.contrib.learn.python.learn.datasets.base) is deprecated and will be removed in a future version.\n",
      "Instructions for updating:\n",
      "Please write your own downloading logic.\n",
      "WARNING:tensorflow:From C:\\Anaconda3\\lib\\site-packages\\tensorflow\\contrib\\learn\\python\\learn\\datasets\\mnist.py:262: extract_images (from tensorflow.contrib.learn.python.learn.datasets.mnist) is deprecated and will be removed in a future version.\n",
      "Instructions for updating:\n",
      "Please use tf.data to implement this functionality.\n",
      "Extracting MNIST_data/train-images-idx3-ubyte.gz\n",
      "WARNING:tensorflow:From C:\\Anaconda3\\lib\\site-packages\\tensorflow\\contrib\\learn\\python\\learn\\datasets\\mnist.py:267: extract_labels (from tensorflow.contrib.learn.python.learn.datasets.mnist) is deprecated and will be removed in a future version.\n",
      "Instructions for updating:\n",
      "Please use tf.data to implement this functionality.\n",
      "Extracting MNIST_data/train-labels-idx1-ubyte.gz\n",
      "WARNING:tensorflow:From C:\\Anaconda3\\lib\\site-packages\\tensorflow\\contrib\\learn\\python\\learn\\datasets\\mnist.py:110: dense_to_one_hot (from tensorflow.contrib.learn.python.learn.datasets.mnist) is deprecated and will be removed in a future version.\n",
      "Instructions for updating:\n",
      "Please use tf.one_hot on tensors.\n",
      "Extracting MNIST_data/t10k-images-idx3-ubyte.gz\n",
      "Extracting MNIST_data/t10k-labels-idx1-ubyte.gz\n",
      "WARNING:tensorflow:From C:\\Anaconda3\\lib\\site-packages\\tensorflow\\contrib\\learn\\python\\learn\\datasets\\mnist.py:290: DataSet.__init__ (from tensorflow.contrib.learn.python.learn.datasets.mnist) is deprecated and will be removed in a future version.\n",
      "Instructions for updating:\n",
      "Please use alternatives such as official/mnist/dataset.py from tensorflow/models.\n"
     ]
    }
   ],
   "source": [
    "mnist = input_data.read_data_sets(\"MNIST_data/\", one_hot=True)"
   ]
  },
  {
   "cell_type": "code",
   "execution_count": 9,
   "metadata": {},
   "outputs": [
    {
     "name": "stdout",
     "output_type": "stream",
     "text": [
      "55000\n"
     ]
    }
   ],
   "source": [
    "print(mnist.train.num_examples)"
   ]
  },
  {
   "cell_type": "code",
   "execution_count": 10,
   "metadata": {},
   "outputs": [],
   "source": [
    "nb_classes = 10"
   ]
  },
  {
   "cell_type": "code",
   "execution_count": 11,
   "metadata": {},
   "outputs": [],
   "source": [
    "X = tf.placeholder(shape=[None, 784], dtype=tf.float32, name='X')"
   ]
  },
  {
   "cell_type": "code",
   "execution_count": 12,
   "metadata": {},
   "outputs": [],
   "source": [
    "Y = tf.placeholder(shape=[None, nb_classes], dtype=tf.int32, name='Y')"
   ]
  },
  {
   "cell_type": "code",
   "execution_count": 13,
   "metadata": {},
   "outputs": [],
   "source": [
    "keep_prob = tf.placeholder(shape=None, dtype=tf.float32)"
   ]
  },
  {
   "cell_type": "code",
   "execution_count": 14,
   "metadata": {},
   "outputs": [
    {
     "name": "stdout",
     "output_type": "stream",
     "text": [
      "WARNING:tensorflow:From <ipython-input-14-5773bc08a326>:5: calling dropout (from tensorflow.python.ops.nn_ops) with keep_prob is deprecated and will be removed in a future version.\n",
      "Instructions for updating:\n",
      "Please use `rate` instead of `keep_prob`. Rate should be set to `rate = 1 - keep_prob`.\n"
     ]
    }
   ],
   "source": [
    "with tf.variable_scope('layer1') as scope:\n",
    "    W1 = tf.get_variable('weight1', shape=[784, 512], initializer=tf.contrib.layers.xavier_initializer())\n",
    "    b1 = tf.Variable(tf.random_normal(shape=[512]), shape=[512], dtype=tf.float32, name='bias1')\n",
    "    L1 = tf.nn.relu(tf.matmul(X, W1) + b1)\n",
    "    L1 = tf.nn.dropout(L1, keep_prob=keep_prob)"
   ]
  },
  {
   "cell_type": "code",
   "execution_count": 15,
   "metadata": {},
   "outputs": [],
   "source": [
    "with tf.variable_scope('layer2') as scope:\n",
    "    W2 = tf.get_variable('weight2', shape=[512, 512], initializer=tf.contrib.layers.xavier_initializer())\n",
    "    b2 = tf.Variable(tf.random_normal(shape=[512]), shape=[512], dtype=tf.float32, name='bias2')\n",
    "    L2 = tf.nn.relu(tf.matmul(L1, W2) + b2)\n",
    "    L2 = tf.nn.dropout(L2, keep_prob=keep_prob)"
   ]
  },
  {
   "cell_type": "code",
   "execution_count": 16,
   "metadata": {},
   "outputs": [],
   "source": [
    "with tf.variable_scope('layer3') as scope:\n",
    "    W3 = tf.get_variable('weight3', shape=[512, 512], initializer=tf.contrib.layers.xavier_initializer())\n",
    "    b3 = tf.Variable(tf.random_normal(shape=[512]), shape=[512], dtype=tf.float32, name='bias3')\n",
    "    L3 = tf.nn.relu(tf.matmul(L2, W3) + b3)\n",
    "    L3 = tf.nn.dropout(L3, keep_prob=keep_prob)"
   ]
  },
  {
   "cell_type": "code",
   "execution_count": 17,
   "metadata": {},
   "outputs": [],
   "source": [
    "with tf.variable_scope('layer4') as scope:\n",
    "    W4 = tf.get_variable('weight4', shape=[512, 512], initializer=tf.contrib.layers.xavier_initializer())\n",
    "    b4 = tf.Variable(tf.random_normal(shape=[512]), shape=[512], dtype=tf.float32, name='bias4')\n",
    "    L4 = tf.nn.relu(tf.matmul(L3, W4) + b4)\n",
    "    L4 = tf.nn.dropout(L4, keep_prob=keep_prob)"
   ]
  },
  {
   "cell_type": "code",
   "execution_count": 18,
   "metadata": {},
   "outputs": [],
   "source": [
    "with tf.variable_scope('layer5') as scope:\n",
    "    W5 = tf.get_variable('weight5', shape=[512, 10], initializer=tf.contrib.layers.xavier_initializer())\n",
    "    b5 = tf.Variable(tf.random_normal(shape=[10]), shape=[10], dtype=tf.float32, name='bias5')\n",
    "    hypothesis = tf.matmul(L4, W5) + b5"
   ]
  },
  {
   "cell_type": "code",
   "execution_count": 19,
   "metadata": {},
   "outputs": [],
   "source": [
    "with tf.variable_scope('cost'):\n",
    "    cost_i = tf.nn.softmax_cross_entropy_with_logits_v2(logits=hypothesis, labels=Y)\n",
    "    cost = tf.reduce_mean(cost_i)"
   ]
  },
  {
   "cell_type": "code",
   "execution_count": 20,
   "metadata": {},
   "outputs": [],
   "source": [
    "with tf.variable_scope('Train'):\n",
    "    train = tf.train.AdamOptimizer(learning_rate=learning_rate).minimize(cost)"
   ]
  },
  {
   "cell_type": "code",
   "execution_count": 21,
   "metadata": {},
   "outputs": [
    {
     "name": "stdout",
     "output_type": "stream",
     "text": [
      "WARNING:tensorflow:From <ipython-input-21-2360d2bf8b6a>:2: arg_max (from tensorflow.python.ops.gen_math_ops) is deprecated and will be removed in a future version.\n",
      "Instructions for updating:\n",
      "Use `tf.math.argmax` instead\n"
     ]
    }
   ],
   "source": [
    "with tf.variable_scope('accuracy') as scope:\n",
    "    is_correct = tf.equal(tf.argmax(hypothesis, 1), tf.arg_max(Y, 1))\n",
    "    accuracy = tf.reduce_mean(tf.cast(is_correct, tf.float32))"
   ]
  },
  {
   "cell_type": "code",
   "execution_count": 22,
   "metadata": {},
   "outputs": [],
   "source": [
    "with tf.variable_scope('tensorboard') as scope:\n",
    "    overall_cost     = tf.placeholder(shape=None, dtype=tf.float32, name='overall_cost')\n",
    "    overall_accuracy = tf.placeholder(shape=None, dtype=tf.float32, name='overall_accuracy')\n",
    "    tf.summary.scalar('cost', overall_cost)\n",
    "    tf.summary.scalar('accuracy', overall_accuracy)"
   ]
  },
  {
   "cell_type": "code",
   "execution_count": 23,
   "metadata": {},
   "outputs": [
    {
     "name": "stdout",
     "output_type": "stream",
     "text": [
      "Epoch: 0001 cost = 0.469787605 accuracy = 0.957600003\n",
      "Epoch: 0002 cost = 0.173393355 accuracy = 0.969500008\n",
      "Epoch: 0003 cost = 0.131425922 accuracy = 0.972000009\n",
      "Epoch: 0004 cost = 0.106210845 accuracy = 0.974100010\n",
      "Epoch: 0005 cost = 0.093318223 accuracy = 0.977200012\n",
      "Epoch: 0006 cost = 0.083218301 accuracy = 0.977800013\n",
      "Epoch: 0007 cost = 0.073800162 accuracy = 0.975000011\n",
      "Epoch: 0008 cost = 0.066276510 accuracy = 0.980100010\n",
      "Epoch: 0009 cost = 0.065110699 accuracy = 0.979400010\n",
      "Epoch: 0010 cost = 0.061194842 accuracy = 0.978700011\n",
      "Epoch: 0011 cost = 0.053998617 accuracy = 0.974200010\n",
      "Epoch: 0012 cost = 0.051128826 accuracy = 0.981600011\n",
      "Epoch: 0013 cost = 0.051725406 accuracy = 0.981200011\n",
      "Epoch: 0014 cost = 0.045816198 accuracy = 0.982100011\n",
      "Epoch: 0015 cost = 0.047058529 accuracy = 0.984500009\n",
      "Epoch: 0016 cost = 0.042681034 accuracy = 0.982800010\n",
      "Epoch: 0017 cost = 0.044728326 accuracy = 0.982800013\n",
      "Epoch: 0018 cost = 0.038933221 accuracy = 0.983400011\n",
      "Epoch: 0019 cost = 0.039051193 accuracy = 0.982300009\n",
      "Epoch: 0020 cost = 0.037645316 accuracy = 0.983200009\n",
      "Epoch: 0021 cost = 0.036696572 accuracy = 0.983600011\n",
      "Epoch: 0022 cost = 0.034568504 accuracy = 0.984500011\n",
      "Epoch: 0023 cost = 0.035032916 accuracy = 0.983900011\n",
      "Epoch: 0024 cost = 0.033668485 accuracy = 0.985400009\n",
      "Epoch: 0025 cost = 0.031873712 accuracy = 0.983600011\n",
      "Epoch: 0026 cost = 0.033549070 accuracy = 0.982400011\n",
      "Epoch: 0027 cost = 0.033419913 accuracy = 0.984500011\n",
      "Epoch: 0028 cost = 0.033692883 accuracy = 0.982000009\n",
      "Epoch: 0029 cost = 0.033219481 accuracy = 0.983300012\n",
      "Epoch: 0030 cost = 0.033115625 accuracy = 0.984200010\n",
      "Epoch: 0031 cost = 0.028630417 accuracy = 0.983600011\n",
      "Epoch: 0032 cost = 0.026862161 accuracy = 0.985500012\n",
      "Epoch: 0033 cost = 0.027763440 accuracy = 0.983600009\n",
      "Epoch: 0034 cost = 0.027229633 accuracy = 0.984300010\n",
      "Epoch: 0035 cost = 0.031186293 accuracy = 0.983600011\n",
      "Epoch: 0036 cost = 0.026970245 accuracy = 0.986600008\n",
      "Epoch: 0037 cost = 0.032297613 accuracy = 0.986100010\n",
      "Epoch: 0038 cost = 0.028439301 accuracy = 0.985200011\n",
      "Epoch: 0039 cost = 0.024122564 accuracy = 0.986300009\n",
      "Epoch: 0040 cost = 0.026846886 accuracy = 0.984400013\n",
      "Epoch: 0041 cost = 0.025222777 accuracy = 0.985400010\n",
      "Epoch: 0042 cost = 0.026610374 accuracy = 0.984400011\n",
      "Epoch: 0043 cost = 0.027541171 accuracy = 0.984300008\n",
      "Epoch: 0044 cost = 0.026163897 accuracy = 0.982500010\n",
      "Epoch: 0045 cost = 0.024901355 accuracy = 0.981800011\n",
      "Epoch: 0046 cost = 0.026764693 accuracy = 0.983300008\n",
      "Epoch: 0047 cost = 0.027098297 accuracy = 0.984300011\n",
      "Epoch: 0048 cost = 0.025690206 accuracy = 0.984900011\n",
      "Epoch: 0049 cost = 0.022238170 accuracy = 0.982900012\n",
      "Epoch: 0050 cost = 0.023386016 accuracy = 0.983000010\n"
     ]
    }
   ],
   "source": [
    "with tf.Session(config=config) as sess:\n",
    "    # tensorboard --logdir=./logs/Deep_NN\n",
    "    merged_summary = tf.summary.merge_all()\n",
    "    writer = tf.summary.FileWriter(log_dir)\n",
    "    writer.add_graph(sess.graph)\n",
    "    \n",
    "    # Initialize TensorFlow variables\n",
    "    sess.run(tf.global_variables_initializer())\n",
    "    # Training cycle\n",
    "    for epoch in range(num_epochs):\n",
    "        _overall_cost = 0\n",
    "        total_batch = int(mnist.train.num_examples / batch_size)\n",
    "        for i in range(total_batch):\n",
    "            batch_xs, batch_ys = mnist.train.next_batch(batch_size)\n",
    "            cost_val, _ = sess.run([cost, train], feed_dict={X: batch_xs, Y: batch_ys, keep_prob: 0.7})\n",
    "            _overall_cost += cost_val / total_batch\n",
    "        \n",
    "        _overall_accuracy = 0\n",
    "        total_batch = int(mnist.test.num_examples / batch_size)\n",
    "        for i in range(total_batch):\n",
    "            batch_xs, batch_ys = mnist.test.next_batch(batch_size)\n",
    "            accuracy_val = sess.run(accuracy, feed_dict={X: batch_xs, Y: batch_ys, keep_prob: 1.0})\n",
    "            _overall_accuracy += accuracy_val / total_batch\n",
    "            \n",
    "        summary = sess.run(merged_summary, feed_dict={overall_cost: _overall_cost, overall_accuracy: _overall_accuracy})\n",
    "        writer.add_summary(summary, global_step=(epoch))\n",
    "        print('Epoch:', '%04d' % (epoch + 1), 'cost =', '{:.9f}'.format(_overall_cost), 'accuracy =', '{:.9f}'.format(_overall_accuracy))"
   ]
  },
  {
   "cell_type": "code",
   "execution_count": null,
   "metadata": {},
   "outputs": [],
   "source": []
  }
 ],
 "metadata": {
  "kernelspec": {
   "display_name": "Python 3",
   "language": "python",
   "name": "python3"
  },
  "language_info": {
   "codemirror_mode": {
    "name": "ipython",
    "version": 3
   },
   "file_extension": ".py",
   "mimetype": "text/x-python",
   "name": "python",
   "nbconvert_exporter": "python",
   "pygments_lexer": "ipython3",
   "version": "3.7.3"
  }
 },
 "nbformat": 4,
 "nbformat_minor": 4
}
