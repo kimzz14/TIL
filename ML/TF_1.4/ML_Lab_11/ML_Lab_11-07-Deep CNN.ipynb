{
 "cells": [
  {
   "cell_type": "code",
   "execution_count": 1,
   "metadata": {},
   "outputs": [],
   "source": [
    "import tensorflow as tf"
   ]
  },
  {
   "cell_type": "code",
   "execution_count": 2,
   "metadata": {},
   "outputs": [],
   "source": [
    "from tensorflow.examples.tutorials.mnist import input_data"
   ]
  },
  {
   "cell_type": "code",
   "execution_count": 3,
   "metadata": {},
   "outputs": [],
   "source": [
    "tf.set_random_seed(777)"
   ]
  },
  {
   "cell_type": "code",
   "execution_count": 4,
   "metadata": {},
   "outputs": [],
   "source": [
    "# parameters\n",
    "log_dir = './logs/ML_Lab_11-07-Deep CNN'\n",
    "learning_rate = 0.001\n",
    "batch_size = 100\n",
    "num_epochs = 50"
   ]
  },
  {
   "cell_type": "code",
   "execution_count": 5,
   "metadata": {},
   "outputs": [
    {
     "name": "stdout",
     "output_type": "stream",
     "text": [
      "WARNING:tensorflow:From <ipython-input-5-319879c4c296>:1: read_data_sets (from tensorflow.contrib.learn.python.learn.datasets.mnist) is deprecated and will be removed in a future version.\n",
      "Instructions for updating:\n",
      "Please use alternatives such as official/mnist/dataset.py from tensorflow/models.\n",
      "WARNING:tensorflow:From C:\\Anaconda3\\lib\\site-packages\\tensorflow\\contrib\\learn\\python\\learn\\datasets\\mnist.py:260: maybe_download (from tensorflow.contrib.learn.python.learn.datasets.base) is deprecated and will be removed in a future version.\n",
      "Instructions for updating:\n",
      "Please write your own downloading logic.\n",
      "WARNING:tensorflow:From C:\\Anaconda3\\lib\\site-packages\\tensorflow\\contrib\\learn\\python\\learn\\datasets\\mnist.py:262: extract_images (from tensorflow.contrib.learn.python.learn.datasets.mnist) is deprecated and will be removed in a future version.\n",
      "Instructions for updating:\n",
      "Please use tf.data to implement this functionality.\n",
      "Extracting MNIST_data/train-images-idx3-ubyte.gz\n",
      "WARNING:tensorflow:From C:\\Anaconda3\\lib\\site-packages\\tensorflow\\contrib\\learn\\python\\learn\\datasets\\mnist.py:267: extract_labels (from tensorflow.contrib.learn.python.learn.datasets.mnist) is deprecated and will be removed in a future version.\n",
      "Instructions for updating:\n",
      "Please use tf.data to implement this functionality.\n",
      "Extracting MNIST_data/train-labels-idx1-ubyte.gz\n",
      "WARNING:tensorflow:From C:\\Anaconda3\\lib\\site-packages\\tensorflow\\contrib\\learn\\python\\learn\\datasets\\mnist.py:110: dense_to_one_hot (from tensorflow.contrib.learn.python.learn.datasets.mnist) is deprecated and will be removed in a future version.\n",
      "Instructions for updating:\n",
      "Please use tf.one_hot on tensors.\n",
      "Extracting MNIST_data/t10k-images-idx3-ubyte.gz\n",
      "Extracting MNIST_data/t10k-labels-idx1-ubyte.gz\n",
      "WARNING:tensorflow:From C:\\Anaconda3\\lib\\site-packages\\tensorflow\\contrib\\learn\\python\\learn\\datasets\\mnist.py:290: DataSet.__init__ (from tensorflow.contrib.learn.python.learn.datasets.mnist) is deprecated and will be removed in a future version.\n",
      "Instructions for updating:\n",
      "Please use alternatives such as official/mnist/dataset.py from tensorflow/models.\n"
     ]
    }
   ],
   "source": [
    "mnist = input_data.read_data_sets('MNIST_data/', one_hot=True)"
   ]
  },
  {
   "cell_type": "code",
   "execution_count": 6,
   "metadata": {},
   "outputs": [],
   "source": [
    "X = tf.placeholder(shape=[None, 784], dtype=tf.float32, name='X')"
   ]
  },
  {
   "cell_type": "code",
   "execution_count": 7,
   "metadata": {},
   "outputs": [],
   "source": [
    "X_img = tf.reshape(X, shape=[-1, 28, 28, 1])"
   ]
  },
  {
   "cell_type": "code",
   "execution_count": 8,
   "metadata": {},
   "outputs": [],
   "source": [
    "Y = tf.placeholder(shape=[None,  10], dtype=tf.float32, name='Y')"
   ]
  },
  {
   "cell_type": "code",
   "execution_count": 9,
   "metadata": {},
   "outputs": [],
   "source": [
    "dropout_rate = tf.placeholder(shape=None, dtype=tf.float32)"
   ]
  },
  {
   "cell_type": "code",
   "execution_count": 10,
   "metadata": {},
   "outputs": [
    {
     "name": "stdout",
     "output_type": "stream",
     "text": [
      "Tensor(\"Conv1/dropout/mul_1:0\", shape=(?, 14, 14, 32), dtype=float32)\n"
     ]
    }
   ],
   "source": [
    "with tf.variable_scope('Conv1') as scope:\n",
    "    W1 = tf.Variable(tf.random_normal(shape=[3, 3, 1, 32], stddev=0.01), dtype=tf.float32, name='weight1')\n",
    "    L1 = tf.nn.conv2d(X_img, W1, strides=[1, 1, 1, 1], padding='SAME')\n",
    "    L1 = tf.nn.relu(L1)\n",
    "    L1 = tf.nn.max_pool(L1, ksize=[1, 2, 2, 1], strides=[1, 2, 2, 1], padding='SAME')\n",
    "    L1 = tf.nn.dropout(L1, rate=dropout_rate)\n",
    "    print(L1)"
   ]
  },
  {
   "cell_type": "code",
   "execution_count": 11,
   "metadata": {},
   "outputs": [
    {
     "name": "stdout",
     "output_type": "stream",
     "text": [
      "Tensor(\"Conv2/dropout/mul_1:0\", shape=(?, 7, 7, 64), dtype=float32)\n"
     ]
    }
   ],
   "source": [
    "with tf.variable_scope('Conv2') as scope:\n",
    "    W2 = tf.Variable(tf.random_normal(shape=[3, 3, 32, 64], stddev=0.01), dtype=tf.float32, name='weight2')\n",
    "    L2 = tf.nn.conv2d(L1, W2, strides=[1, 1, 1, 1], padding='SAME')\n",
    "    L2 = tf.nn.relu(L2)\n",
    "    L2 = tf.nn.max_pool(L2, ksize=[1, 2, 2, 1], strides=[1, 2, 2, 1], padding='SAME')\n",
    "    L2 = tf.nn.dropout(L2, rate=dropout_rate)\n",
    "    print(L2)"
   ]
  },
  {
   "cell_type": "code",
   "execution_count": 12,
   "metadata": {},
   "outputs": [
    {
     "name": "stdout",
     "output_type": "stream",
     "text": [
      "Tensor(\"Conv3/dropout/mul_1:0\", shape=(?, 4, 4, 128), dtype=float32)\n"
     ]
    }
   ],
   "source": [
    "with tf.variable_scope('Conv3') as scope:\n",
    "    W3 = tf.Variable(tf.random_normal(shape=[3, 3, 64, 128], stddev=0.01), dtype=tf.float32, name='weight3')\n",
    "    L3 = tf.nn.conv2d(L2, W3, strides=[1, 1, 1, 1], padding='SAME')\n",
    "    L3 = tf.nn.relu(L3)\n",
    "    L3 = tf.nn.max_pool(L3, ksize=[1, 2, 2, 1], strides=[1, 2, 2, 1], padding='SAME')\n",
    "    L3 = tf.nn.dropout(L3, rate=dropout_rate)\n",
    "    print(L3)"
   ]
  },
  {
   "cell_type": "code",
   "execution_count": 13,
   "metadata": {},
   "outputs": [
    {
     "name": "stdout",
     "output_type": "stream",
     "text": [
      "Tensor(\"Fuuly-connected-1/dropout/mul_1:0\", shape=(?, 625), dtype=float32)\n"
     ]
    }
   ],
   "source": [
    "with tf.variable_scope('Fuuly-connected-1') as scope:\n",
    "    L3 = tf.reshape(L3, shape=[-1, 4 * 4 * 128])\n",
    "    W4 = tf.get_variable('weight4', shape=[4 * 4 * 128, 625], initializer=tf.contrib.layers.xavier_initializer())\n",
    "    b4 = tf.Variable(tf.random_normal(shape=[625]), dtype=tf.float32, name='bias4')\n",
    "    L4 = tf.matmul(L3, W4) + b4\n",
    "    L4 = tf.nn.relu(L4)\n",
    "    L4 = tf.nn.dropout(L4, rate=dropout_rate)\n",
    "    print(L4)"
   ]
  },
  {
   "cell_type": "code",
   "execution_count": 14,
   "metadata": {},
   "outputs": [
    {
     "name": "stdout",
     "output_type": "stream",
     "text": [
      "Tensor(\"Fuuly-connected-2/add:0\", shape=(?, 10), dtype=float32)\n"
     ]
    }
   ],
   "source": [
    "with tf.variable_scope('Fuuly-connected-2') as scope:\n",
    "    W5 = tf.get_variable('weight5', shape=[625, 10], initializer=tf.contrib.layers.xavier_initializer())\n",
    "    b5 = tf.Variable(tf.random_normal(shape=[10]), dtype=tf.float32, name='bias5')\n",
    "    hypothesis = tf.matmul(L4, W5) + b5\n",
    "    print(hypothesis)"
   ]
  },
  {
   "cell_type": "code",
   "execution_count": 15,
   "metadata": {},
   "outputs": [],
   "source": [
    "with tf.variable_scope('cost'):\n",
    "    cost_i = tf.nn.softmax_cross_entropy_with_logits_v2(logits=hypothesis, labels=Y)\n",
    "    cost = tf.reduce_mean(cost_i)\n",
    "    tf.summary.scalar('cost', cost)"
   ]
  },
  {
   "cell_type": "code",
   "execution_count": 16,
   "metadata": {},
   "outputs": [],
   "source": [
    "with tf.variable_scope('Optimizer'):\n",
    "    optimizer = tf.train.AdamOptimizer(learning_rate=learning_rate).minimize(cost)"
   ]
  },
  {
   "cell_type": "code",
   "execution_count": 17,
   "metadata": {},
   "outputs": [
    {
     "name": "stdout",
     "output_type": "stream",
     "text": [
      "WARNING:tensorflow:From <ipython-input-17-154051bf3954>:2: arg_max (from tensorflow.python.ops.gen_math_ops) is deprecated and will be removed in a future version.\n",
      "Instructions for updating:\n",
      "Use `tf.math.argmax` instead\n"
     ]
    }
   ],
   "source": [
    "with tf.variable_scope('accuracy') as scope:\n",
    "    is_correct = tf.equal(tf.argmax(hypothesis, 1), tf.arg_max(Y, 1))\n",
    "    accuracy = tf.reduce_mean(tf.cast(is_correct, tf.float32))\n",
    "    tf.summary.scalar('accuracy', accuracy)"
   ]
  },
  {
   "cell_type": "code",
   "execution_count": 18,
   "metadata": {},
   "outputs": [
    {
     "name": "stdout",
     "output_type": "stream",
     "text": [
      "Learning stared. It takes sometime.\n",
      "Epoch: 0001 cost = 0.377796109\n",
      "Accuracy:  0.979\n",
      "Epoch: 0002 cost = 0.099399639\n",
      "Accuracy:  0.9858\n",
      "Epoch: 0003 cost = 0.075085009\n",
      "Accuracy:  0.9866\n",
      "Epoch: 0004 cost = 0.061145273\n",
      "Accuracy:  0.9885\n",
      "Epoch: 0005 cost = 0.051878434\n",
      "Accuracy:  0.9903\n",
      "Epoch: 0006 cost = 0.046417978\n",
      "Accuracy:  0.9914\n",
      "Epoch: 0007 cost = 0.042170126\n",
      "Accuracy:  0.9903\n",
      "Epoch: 0008 cost = 0.041019283\n",
      "Accuracy:  0.9922\n",
      "Epoch: 0009 cost = 0.036065430\n",
      "Accuracy:  0.991\n",
      "Epoch: 0010 cost = 0.034491181\n",
      "Accuracy:  0.9926\n",
      "Epoch: 0011 cost = 0.030383588\n",
      "Accuracy:  0.9933\n",
      "Epoch: 0012 cost = 0.030188141\n",
      "Accuracy:  0.9926\n",
      "Epoch: 0013 cost = 0.026632287\n",
      "Accuracy:  0.9938\n",
      "Epoch: 0014 cost = 0.028274718\n",
      "Accuracy:  0.9915\n",
      "Epoch: 0015 cost = 0.026466253\n",
      "Accuracy:  0.9937\n",
      "Epoch: 0016 cost = 0.023446215\n",
      "Accuracy:  0.9932\n",
      "Epoch: 0017 cost = 0.022636689\n",
      "Accuracy:  0.9903\n",
      "Epoch: 0018 cost = 0.023605787\n",
      "Accuracy:  0.9933\n",
      "Epoch: 0019 cost = 0.024080276\n",
      "Accuracy:  0.9934\n",
      "Epoch: 0020 cost = 0.021933389\n",
      "Accuracy:  0.9932\n",
      "Epoch: 0021 cost = 0.020975085\n",
      "Accuracy:  0.9938\n",
      "Epoch: 0022 cost = 0.017921467\n",
      "Accuracy:  0.9945\n",
      "Epoch: 0023 cost = 0.020325795\n",
      "Accuracy:  0.9944\n",
      "Epoch: 0024 cost = 0.019574885\n",
      "Accuracy:  0.994\n",
      "Epoch: 0025 cost = 0.019458300\n",
      "Accuracy:  0.9942\n",
      "Epoch: 0026 cost = 0.017007143\n",
      "Accuracy:  0.9925\n",
      "Epoch: 0027 cost = 0.017875459\n",
      "Accuracy:  0.9937\n",
      "Epoch: 0028 cost = 0.017754917\n",
      "Accuracy:  0.9944\n",
      "Epoch: 0029 cost = 0.017182896\n",
      "Accuracy:  0.9944\n",
      "Epoch: 0030 cost = 0.016121447\n",
      "Accuracy:  0.9947\n",
      "Epoch: 0031 cost = 0.017183956\n",
      "Accuracy:  0.9945\n",
      "Epoch: 0032 cost = 0.016099077\n",
      "Accuracy:  0.9948\n",
      "Epoch: 0033 cost = 0.015964820\n",
      "Accuracy:  0.994\n",
      "Epoch: 0034 cost = 0.018550531\n",
      "Accuracy:  0.9941\n",
      "Epoch: 0035 cost = 0.016995720\n",
      "Accuracy:  0.9938\n",
      "Epoch: 0036 cost = 0.016203890\n",
      "Accuracy:  0.9936\n",
      "Epoch: 0037 cost = 0.015316423\n",
      "Accuracy:  0.9939\n",
      "Epoch: 0038 cost = 0.016524116\n",
      "Accuracy:  0.9945\n",
      "Epoch: 0039 cost = 0.012375742\n",
      "Accuracy:  0.9947\n",
      "Epoch: 0040 cost = 0.014337929\n",
      "Accuracy:  0.9944\n",
      "Epoch: 0041 cost = 0.015250603\n",
      "Accuracy:  0.9946\n",
      "Epoch: 0042 cost = 0.016075252\n",
      "Accuracy:  0.9947\n",
      "Epoch: 0043 cost = 0.014678911\n",
      "Accuracy:  0.9947\n",
      "Epoch: 0044 cost = 0.011754502\n",
      "Accuracy:  0.9939\n",
      "Epoch: 0045 cost = 0.013181266\n",
      "Accuracy:  0.9938\n",
      "Epoch: 0046 cost = 0.013693725\n",
      "Accuracy:  0.9948\n",
      "Epoch: 0047 cost = 0.011822437\n",
      "Accuracy:  0.9935\n",
      "Epoch: 0048 cost = 0.013736595\n",
      "Accuracy:  0.9943\n",
      "Epoch: 0049 cost = 0.013766602\n",
      "Accuracy:  0.9947\n",
      "Epoch: 0050 cost = 0.013987157\n",
      "Accuracy:  0.9945\n",
      "Learning Finished!\n"
     ]
    }
   ],
   "source": [
    "with tf.Session() as sess:\n",
    "    # tensorboard --logdir=./logs/Deep_NN\n",
    "    merged_summary = tf.summary.merge_all()\n",
    "    writer = tf.summary.FileWriter(log_dir)\n",
    "    writer.add_graph(sess.graph)\n",
    "    \n",
    "    # Initialize TensorFlow variables\n",
    "    sess.run(tf.global_variables_initializer())\n",
    "    # Training cycle\n",
    "    print('Learning stared. It takes sometime.')\n",
    "    for epoch in range(num_epochs):\n",
    "        avg_cost = 0\n",
    "        total_batch = int(mnist.train.num_examples / batch_size)\n",
    "        for i in range(total_batch):\n",
    "            batch_xs, batch_ys = mnist.train.next_batch(batch_size)\n",
    "            c_val, _ = sess.run([cost, optimizer], feed_dict={X: batch_xs, Y: batch_ys, dropout_rate: 0.3})\n",
    "            avg_cost += c_val / total_batch\n",
    "        print('Epoch:', '%04d' % (epoch + 1), 'cost =', '{:.9f}'.format(avg_cost))\n",
    "        print('Accuracy: ', sess.run(accuracy, feed_dict={X:mnist.test.images, Y: mnist.test.labels, dropout_rate: 0.}))\n",
    "        summary = sess.run(merged_summary, feed_dict={X:mnist.test.images, Y: mnist.test.labels, dropout_rate: 0.})\n",
    "        writer.add_summary(summary, global_step=(epoch))\n",
    "    print('Learning Finished!')"
   ]
  },
  {
   "cell_type": "code",
   "execution_count": null,
   "metadata": {},
   "outputs": [],
   "source": []
  },
  {
   "cell_type": "code",
   "execution_count": null,
   "metadata": {},
   "outputs": [],
   "source": []
  }
 ],
 "metadata": {
  "kernelspec": {
   "display_name": "Python 3",
   "language": "python",
   "name": "python3"
  },
  "language_info": {
   "codemirror_mode": {
    "name": "ipython",
    "version": 3
   },
   "file_extension": ".py",
   "mimetype": "text/x-python",
   "name": "python",
   "nbconvert_exporter": "python",
   "pygments_lexer": "ipython3",
   "version": "3.7.3"
  }
 },
 "nbformat": 4,
 "nbformat_minor": 4
}
