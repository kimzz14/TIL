{
 "cells": [
  {
   "cell_type": "code",
   "execution_count": 1,
   "metadata": {},
   "outputs": [],
   "source": [
    "import tensorflow as tf"
   ]
  },
  {
   "cell_type": "code",
   "execution_count": 2,
   "metadata": {},
   "outputs": [],
   "source": [
    "from tensorflow.examples.tutorials.mnist import input_data"
   ]
  },
  {
   "cell_type": "code",
   "execution_count": 3,
   "metadata": {},
   "outputs": [],
   "source": [
    "tf.set_random_seed(777)"
   ]
  },
  {
   "cell_type": "code",
   "execution_count": 4,
   "metadata": {},
   "outputs": [],
   "source": [
    "# parameters\n",
    "log_dir = './logs/ML_Lab_11-05-CNN'\n",
    "learning_rate = 0.001\n",
    "batch_size = 100\n",
    "num_epochs = 50"
   ]
  },
  {
   "cell_type": "code",
   "execution_count": 5,
   "metadata": {},
   "outputs": [
    {
     "name": "stdout",
     "output_type": "stream",
     "text": [
      "WARNING:tensorflow:From <ipython-input-5-319879c4c296>:1: read_data_sets (from tensorflow.contrib.learn.python.learn.datasets.mnist) is deprecated and will be removed in a future version.\n",
      "Instructions for updating:\n",
      "Please use alternatives such as official/mnist/dataset.py from tensorflow/models.\n",
      "WARNING:tensorflow:From C:\\Anaconda3\\lib\\site-packages\\tensorflow\\contrib\\learn\\python\\learn\\datasets\\mnist.py:260: maybe_download (from tensorflow.contrib.learn.python.learn.datasets.base) is deprecated and will be removed in a future version.\n",
      "Instructions for updating:\n",
      "Please write your own downloading logic.\n",
      "WARNING:tensorflow:From C:\\Anaconda3\\lib\\site-packages\\tensorflow\\contrib\\learn\\python\\learn\\datasets\\mnist.py:262: extract_images (from tensorflow.contrib.learn.python.learn.datasets.mnist) is deprecated and will be removed in a future version.\n",
      "Instructions for updating:\n",
      "Please use tf.data to implement this functionality.\n",
      "Extracting MNIST_data/train-images-idx3-ubyte.gz\n",
      "WARNING:tensorflow:From C:\\Anaconda3\\lib\\site-packages\\tensorflow\\contrib\\learn\\python\\learn\\datasets\\mnist.py:267: extract_labels (from tensorflow.contrib.learn.python.learn.datasets.mnist) is deprecated and will be removed in a future version.\n",
      "Instructions for updating:\n",
      "Please use tf.data to implement this functionality.\n",
      "Extracting MNIST_data/train-labels-idx1-ubyte.gz\n",
      "WARNING:tensorflow:From C:\\Anaconda3\\lib\\site-packages\\tensorflow\\contrib\\learn\\python\\learn\\datasets\\mnist.py:110: dense_to_one_hot (from tensorflow.contrib.learn.python.learn.datasets.mnist) is deprecated and will be removed in a future version.\n",
      "Instructions for updating:\n",
      "Please use tf.one_hot on tensors.\n",
      "Extracting MNIST_data/t10k-images-idx3-ubyte.gz\n",
      "Extracting MNIST_data/t10k-labels-idx1-ubyte.gz\n",
      "WARNING:tensorflow:From C:\\Anaconda3\\lib\\site-packages\\tensorflow\\contrib\\learn\\python\\learn\\datasets\\mnist.py:290: DataSet.__init__ (from tensorflow.contrib.learn.python.learn.datasets.mnist) is deprecated and will be removed in a future version.\n",
      "Instructions for updating:\n",
      "Please use alternatives such as official/mnist/dataset.py from tensorflow/models.\n"
     ]
    }
   ],
   "source": [
    "mnist = input_data.read_data_sets('MNIST_data/', one_hot=True)"
   ]
  },
  {
   "cell_type": "code",
   "execution_count": 6,
   "metadata": {},
   "outputs": [],
   "source": [
    "X = tf.placeholder(shape=[None, 784], dtype=tf.float32, name='X')"
   ]
  },
  {
   "cell_type": "code",
   "execution_count": 7,
   "metadata": {},
   "outputs": [],
   "source": [
    "Y = tf.placeholder(shape=[None,  10], dtype=tf.float32, name='Y')"
   ]
  },
  {
   "cell_type": "code",
   "execution_count": 8,
   "metadata": {},
   "outputs": [],
   "source": [
    "X_img = tf.reshape(X, shape=[-1, 28, 28, 1])"
   ]
  },
  {
   "cell_type": "code",
   "execution_count": 9,
   "metadata": {},
   "outputs": [
    {
     "name": "stdout",
     "output_type": "stream",
     "text": [
      "Tensor(\"Conv1/MaxPool:0\", shape=(?, 14, 14, 32), dtype=float32)\n"
     ]
    }
   ],
   "source": [
    "with tf.variable_scope('Conv1') as scope:\n",
    "    W1 = tf.Variable(tf.random_normal(shape=[3, 3, 1, 32], stddev=0.01), dtype=tf.float32, name='weight1')\n",
    "    L1 = tf.nn.conv2d(X_img, W1, strides=[1, 1, 1, 1], padding='SAME')\n",
    "    L1 = tf.nn.relu(L1)\n",
    "    L1 = tf.nn.max_pool(L1, ksize=[1, 2, 2, 1], strides=[1, 2, 2, 1], padding='SAME')\n",
    "    print(L1)"
   ]
  },
  {
   "cell_type": "code",
   "execution_count": 10,
   "metadata": {},
   "outputs": [
    {
     "name": "stdout",
     "output_type": "stream",
     "text": [
      "Tensor(\"Conv2/MaxPool:0\", shape=(?, 7, 7, 64), dtype=float32)\n"
     ]
    }
   ],
   "source": [
    "with tf.variable_scope('Conv2') as scope:\n",
    "    W2 = tf.Variable(tf.random_normal(shape=[3, 3, 32, 64], stddev=0.01), dtype=tf.float32, name='weight2')\n",
    "    L2 = tf.nn.conv2d(L1, W2, strides=[1, 1, 1, 1], padding='SAME')\n",
    "    L2 = tf.nn.relu(L2)\n",
    "    L2 = tf.nn.max_pool(L2, ksize=[1, 2, 2, 1], strides=[1, 2, 2, 1], padding='SAME')\n",
    "    print(L2)"
   ]
  },
  {
   "cell_type": "code",
   "execution_count": 11,
   "metadata": {},
   "outputs": [
    {
     "name": "stdout",
     "output_type": "stream",
     "text": [
      "Tensor(\"Fuuly-connected/add:0\", shape=(?, 10), dtype=float32)\n"
     ]
    }
   ],
   "source": [
    "with tf.variable_scope('Fuuly-connected') as scope:\n",
    "    L2 = tf.reshape(L2, shape=[-1, 7 * 7 * 64])\n",
    "    W3 = tf.get_variable('weight3', shape=[7 * 7 * 64, 10], initializer=tf.contrib.layers.xavier_initializer())\n",
    "    b3 = tf.Variable(tf.random_normal(shape=[10]), dtype=tf.float32, name='bias3')\n",
    "    hypothesis = tf.matmul(L2, W3) + b3\n",
    "    print(hypothesis)"
   ]
  },
  {
   "cell_type": "code",
   "execution_count": 12,
   "metadata": {},
   "outputs": [],
   "source": [
    "with tf.variable_scope('cost'):\n",
    "    cost_i = tf.nn.softmax_cross_entropy_with_logits_v2(logits=hypothesis, labels=Y)\n",
    "    cost = tf.reduce_mean(cost_i)\n",
    "    tf.summary.scalar('cost', cost)"
   ]
  },
  {
   "cell_type": "code",
   "execution_count": 13,
   "metadata": {},
   "outputs": [],
   "source": [
    "with tf.variable_scope('Optimizer'):\n",
    "    optimizer = tf.train.AdamOptimizer(learning_rate=learning_rate).minimize(cost)"
   ]
  },
  {
   "cell_type": "code",
   "execution_count": 14,
   "metadata": {},
   "outputs": [
    {
     "name": "stdout",
     "output_type": "stream",
     "text": [
      "WARNING:tensorflow:From <ipython-input-14-154051bf3954>:2: arg_max (from tensorflow.python.ops.gen_math_ops) is deprecated and will be removed in a future version.\n",
      "Instructions for updating:\n",
      "Use `tf.math.argmax` instead\n"
     ]
    }
   ],
   "source": [
    "with tf.variable_scope('accuracy') as scope:\n",
    "    is_correct = tf.equal(tf.argmax(hypothesis, 1), tf.arg_max(Y, 1))\n",
    "    accuracy = tf.reduce_mean(tf.cast(is_correct, tf.float32))\n",
    "    tf.summary.scalar('accuracy', accuracy)"
   ]
  },
  {
   "cell_type": "code",
   "execution_count": 15,
   "metadata": {},
   "outputs": [
    {
     "name": "stdout",
     "output_type": "stream",
     "text": [
      "Learning stared. It takes sometime.\n",
      "Epoch: 0001 cost = 0.345651927\n",
      "Accuracy:  0.9708\n",
      "Epoch: 0002 cost = 0.091755876\n",
      "Accuracy:  0.9797\n",
      "Epoch: 0003 cost = 0.068277821\n",
      "Accuracy:  0.9811\n",
      "Epoch: 0004 cost = 0.056322257\n",
      "Accuracy:  0.9837\n",
      "Epoch: 0005 cost = 0.046825965\n",
      "Accuracy:  0.9845\n",
      "Epoch: 0006 cost = 0.041063066\n",
      "Accuracy:  0.9842\n",
      "Epoch: 0007 cost = 0.036574719\n",
      "Accuracy:  0.9847\n",
      "Epoch: 0008 cost = 0.032716600\n",
      "Accuracy:  0.988\n",
      "Epoch: 0009 cost = 0.027755810\n",
      "Accuracy:  0.9885\n",
      "Epoch: 0010 cost = 0.024667744\n",
      "Accuracy:  0.9873\n",
      "Epoch: 0011 cost = 0.022244729\n",
      "Accuracy:  0.9888\n",
      "Epoch: 0012 cost = 0.020306626\n",
      "Accuracy:  0.9892\n",
      "Epoch: 0013 cost = 0.016973639\n",
      "Accuracy:  0.9885\n",
      "Epoch: 0014 cost = 0.015415617\n",
      "Accuracy:  0.9877\n",
      "Epoch: 0015 cost = 0.014139652\n",
      "Accuracy:  0.9876\n",
      "Epoch: 0016 cost = 0.011281853\n",
      "Accuracy:  0.9886\n",
      "Epoch: 0017 cost = 0.010977013\n",
      "Accuracy:  0.9859\n",
      "Epoch: 0018 cost = 0.010108844\n",
      "Accuracy:  0.9863\n",
      "Epoch: 0019 cost = 0.008845566\n",
      "Accuracy:  0.9866\n",
      "Epoch: 0020 cost = 0.007325680\n",
      "Accuracy:  0.9888\n",
      "Epoch: 0021 cost = 0.007738157\n",
      "Accuracy:  0.9857\n",
      "Epoch: 0022 cost = 0.006319778\n",
      "Accuracy:  0.9879\n",
      "Epoch: 0023 cost = 0.006579829\n",
      "Accuracy:  0.9889\n",
      "Epoch: 0024 cost = 0.005486136\n",
      "Accuracy:  0.9874\n",
      "Epoch: 0025 cost = 0.005072429\n",
      "Accuracy:  0.9889\n",
      "Epoch: 0026 cost = 0.003102379\n",
      "Accuracy:  0.9888\n",
      "Epoch: 0027 cost = 0.004036926\n",
      "Accuracy:  0.9861\n",
      "Epoch: 0028 cost = 0.005305109\n",
      "Accuracy:  0.9889\n",
      "Epoch: 0029 cost = 0.003876511\n",
      "Accuracy:  0.9872\n",
      "Epoch: 0030 cost = 0.002508872\n",
      "Accuracy:  0.9898\n",
      "Epoch: 0031 cost = 0.003061153\n",
      "Accuracy:  0.9892\n",
      "Epoch: 0032 cost = 0.004292409\n",
      "Accuracy:  0.9876\n",
      "Epoch: 0033 cost = 0.002278800\n",
      "Accuracy:  0.9884\n",
      "Epoch: 0034 cost = 0.001838607\n",
      "Accuracy:  0.9887\n",
      "Epoch: 0035 cost = 0.002217729\n",
      "Accuracy:  0.9879\n",
      "Epoch: 0036 cost = 0.005417556\n",
      "Accuracy:  0.9876\n",
      "Epoch: 0037 cost = 0.002963832\n",
      "Accuracy:  0.9899\n",
      "Epoch: 0038 cost = 0.000584245\n",
      "Accuracy:  0.9901\n",
      "Epoch: 0039 cost = 0.000164835\n",
      "Accuracy:  0.9903\n",
      "Epoch: 0040 cost = 0.000070483\n",
      "Accuracy:  0.9905\n",
      "Epoch: 0041 cost = 0.000045104\n",
      "Accuracy:  0.9906\n",
      "Epoch: 0042 cost = 0.000044655\n",
      "Accuracy:  0.9907\n",
      "Epoch: 0043 cost = 0.000026607\n",
      "Accuracy:  0.9908\n",
      "Epoch: 0044 cost = 0.000021949\n",
      "Accuracy:  0.9906\n",
      "Epoch: 0045 cost = 0.000018344\n",
      "Accuracy:  0.9908\n",
      "Epoch: 0046 cost = 0.007868483\n",
      "Accuracy:  0.9854\n",
      "Epoch: 0047 cost = 0.006249645\n",
      "Accuracy:  0.9889\n",
      "Epoch: 0048 cost = 0.001057969\n",
      "Accuracy:  0.9898\n",
      "Epoch: 0049 cost = 0.000683147\n",
      "Accuracy:  0.9903\n",
      "Epoch: 0050 cost = 0.000139592\n",
      "Accuracy:  0.9903\n",
      "Learning Finished!\n"
     ]
    }
   ],
   "source": [
    "with tf.Session() as sess:\n",
    "    # tensorboard --logdir=./logs/Deep_NN\n",
    "    merged_summary = tf.summary.merge_all()\n",
    "    writer = tf.summary.FileWriter(log_dir)\n",
    "    writer.add_graph(sess.graph)\n",
    "    \n",
    "    # Initialize TensorFlow variables\n",
    "    sess.run(tf.global_variables_initializer())\n",
    "    # Training cycle\n",
    "    print('Learning stared. It takes sometime.')\n",
    "    for epoch in range(num_epochs):\n",
    "        avg_cost = 0\n",
    "        total_batch = int(mnist.train.num_examples / batch_size)\n",
    "        for i in range(total_batch):\n",
    "            batch_xs, batch_ys = mnist.train.next_batch(batch_size)\n",
    "            c_val = sess.run(cost, feed_dict={X: batch_xs, Y: batch_ys})\n",
    "            c_val, _ = sess.run([cost, optimizer], feed_dict={X: batch_xs, Y: batch_ys})\n",
    "            avg_cost += c_val / total_batch\n",
    "        print('Epoch:', '%04d' % (epoch + 1), 'cost =', '{:.9f}'.format(avg_cost))\n",
    "        print('Accuracy: ', sess.run(accuracy, feed_dict={X:mnist.test.images, Y: mnist.test.labels}))\n",
    "        summary = sess.run(merged_summary, feed_dict={X:mnist.test.images, Y: mnist.test.labels})\n",
    "        writer.add_summary(summary, global_step=(epoch))\n",
    "    print('Learning Finished!')"
   ]
  },
  {
   "cell_type": "code",
   "execution_count": null,
   "metadata": {},
   "outputs": [],
   "source": []
  }
 ],
 "metadata": {
  "kernelspec": {
   "display_name": "Python 3",
   "language": "python",
   "name": "python3"
  },
  "language_info": {
   "codemirror_mode": {
    "name": "ipython",
    "version": 3
   },
   "file_extension": ".py",
   "mimetype": "text/x-python",
   "name": "python",
   "nbconvert_exporter": "python",
   "pygments_lexer": "ipython3",
   "version": "3.7.3"
  }
 },
 "nbformat": 4,
 "nbformat_minor": 4
}
