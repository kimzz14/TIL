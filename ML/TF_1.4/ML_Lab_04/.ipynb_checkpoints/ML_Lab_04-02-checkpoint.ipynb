{
 "cells": [
  {
   "cell_type": "code",
   "execution_count": 1,
   "metadata": {},
   "outputs": [],
   "source": [
    "import tensorflow as tf"
   ]
  },
  {
   "cell_type": "code",
   "execution_count": 3,
   "metadata": {},
   "outputs": [],
   "source": [
    "filename_queue = tf.train.string_input_producer(['data-01-test-score.csv'], shuffle=False, name='filename_queue')"
   ]
  },
  {
   "cell_type": "code",
   "execution_count": 4,
   "metadata": {},
   "outputs": [
    {
     "name": "stdout",
     "output_type": "stream",
     "text": [
      "WARNING:tensorflow:From <ipython-input-4-c3741f02eb44>:1: TextLineReader.__init__ (from tensorflow.python.ops.io_ops) is deprecated and will be removed in a future version.\n",
      "Instructions for updating:\n",
      "Queue-based input pipelines have been replaced by `tf.data`. Use `tf.data.TextLineDataset`.\n"
     ]
    }
   ],
   "source": [
    "reader = tf.TextLineReader()"
   ]
  },
  {
   "cell_type": "code",
   "execution_count": 5,
   "metadata": {},
   "outputs": [],
   "source": [
    "key, value = reader.read(filename_queue)"
   ]
  },
  {
   "cell_type": "code",
   "execution_count": 6,
   "metadata": {},
   "outputs": [],
   "source": [
    "record_defautls = [[0.], [0.], [0.], [0.]]"
   ]
  },
  {
   "cell_type": "code",
   "execution_count": 7,
   "metadata": {},
   "outputs": [],
   "source": [
    "xy = tf.decode_csv(value, record_defaults=record_defautls)"
   ]
  },
  {
   "cell_type": "code",
   "execution_count": 8,
   "metadata": {},
   "outputs": [
    {
     "name": "stdout",
     "output_type": "stream",
     "text": [
      "WARNING:tensorflow:From <ipython-input-8-0b0cfd580cd5>:1: batch (from tensorflow.python.training.input) is deprecated and will be removed in a future version.\n",
      "Instructions for updating:\n",
      "Queue-based input pipelines have been replaced by `tf.data`. Use `tf.data.Dataset.batch(batch_size)` (or `padded_batch(...)` if `dynamic_pad=True`).\n"
     ]
    }
   ],
   "source": [
    "train_x_batch, train_y_batch = tf.train.batch([xy[0:-1], xy[-1:]], batch_size=10)"
   ]
  },
  {
   "cell_type": "code",
   "execution_count": 28,
   "metadata": {},
   "outputs": [],
   "source": [
    "X = tf.placeholder(dtype=tf.float32, shape=[None, 3])"
   ]
  },
  {
   "cell_type": "code",
   "execution_count": 29,
   "metadata": {},
   "outputs": [],
   "source": [
    "Y = tf.placeholder(dtype=tf.float32, shape=[None, 1])"
   ]
  },
  {
   "cell_type": "code",
   "execution_count": 30,
   "metadata": {},
   "outputs": [],
   "source": [
    "W = tf.Variable(tf.random_normal(shape=[3, 1]), shape=[3, 1], dtype=tf.float32, name='weight')"
   ]
  },
  {
   "cell_type": "code",
   "execution_count": 31,
   "metadata": {},
   "outputs": [],
   "source": [
    "b = tf.Variable(tf.random_normal(shape=[1])   , shape=[1], dtype=tf.float32, name='bias')"
   ]
  },
  {
   "cell_type": "code",
   "execution_count": 32,
   "metadata": {},
   "outputs": [],
   "source": [
    "hypothesis = tf.matmul(X, W) + b"
   ]
  },
  {
   "cell_type": "code",
   "execution_count": 33,
   "metadata": {},
   "outputs": [],
   "source": [
    "cost = tf.reduce_mean(tf.square(hypothesis - Y))"
   ]
  },
  {
   "cell_type": "code",
   "execution_count": 34,
   "metadata": {},
   "outputs": [],
   "source": [
    "optimizer = tf.train.GradientDescentOptimizer(learning_rate=1e-5)"
   ]
  },
  {
   "cell_type": "code",
   "execution_count": 36,
   "metadata": {},
   "outputs": [],
   "source": [
    "train = optimizer.minimize(cost)"
   ]
  },
  {
   "cell_type": "code",
   "execution_count": 39,
   "metadata": {},
   "outputs": [],
   "source": [
    "sess = tf.Session()"
   ]
  },
  {
   "cell_type": "code",
   "execution_count": 40,
   "metadata": {},
   "outputs": [],
   "source": [
    "sess.run(tf.global_variables_initializer())\n"
   ]
  },
  {
   "cell_type": "code",
   "execution_count": 41,
   "metadata": {},
   "outputs": [],
   "source": [
    "coord = tf.train.Coordinator()"
   ]
  },
  {
   "cell_type": "code",
   "execution_count": 42,
   "metadata": {},
   "outputs": [
    {
     "name": "stdout",
     "output_type": "stream",
     "text": [
      "WARNING:tensorflow:From <ipython-input-42-2a2f994b4a48>:1: start_queue_runners (from tensorflow.python.training.queue_runner_impl) is deprecated and will be removed in a future version.\n",
      "Instructions for updating:\n",
      "To construct input pipelines, use the `tf.data` module.\n"
     ]
    }
   ],
   "source": [
    "threads = tf.train.start_queue_runners(sess=sess, coord=coord)"
   ]
  },
  {
   "cell_type": "code",
   "execution_count": 44,
   "metadata": {},
   "outputs": [
    {
     "name": "stdout",
     "output_type": "stream",
     "text": [
      "0 Cost:  18.446697 \n",
      "Prediction:\n",
      " [[144.4826 ]\n",
      " [138.8809 ]\n",
      " [187.49103]\n",
      " [152.994  ]\n",
      " [153.79826]\n",
      " [185.77336]\n",
      " [141.13277]\n",
      " [188.55437]\n",
      " [179.86191]\n",
      " [161.96913]]\n",
      "100 Cost:  17.811436 \n",
      "Prediction:\n",
      " [[144.46852]\n",
      " [139.01076]\n",
      " [187.41899]\n",
      " [152.92778]\n",
      " [153.75629]\n",
      " [185.87074]\n",
      " [141.14249]\n",
      " [188.38696]\n",
      " [179.74258]\n",
      " [161.83234]]\n",
      "200 Cost:  17.212938 \n",
      "Prediction:\n",
      " [[144.4546 ]\n",
      " [139.13557]\n",
      " [187.35072]\n",
      " [152.86589]\n",
      " [153.71458]\n",
      " [185.96466]\n",
      " [141.15468]\n",
      " [188.22353]\n",
      " [179.6287 ]\n",
      " [161.70131]]\n",
      "300 Cost:  16.64866 \n",
      "Prediction:\n",
      " [[144.44084]\n",
      " [139.25555]\n",
      " [187.28601]\n",
      " [152.80809]\n",
      " [153.67317]\n",
      " [186.05522]\n",
      " [141.16914]\n",
      " [188.06401]\n",
      " [179.51997]\n",
      " [161.57578]]\n",
      "400 Cost:  16.116156 \n",
      "Prediction:\n",
      " [[144.4272 ]\n",
      " [139.3709 ]\n",
      " [187.22472]\n",
      " [152.75418]\n",
      " [153.63208]\n",
      " [186.1426 ]\n",
      " [141.18573]\n",
      " [187.90831]\n",
      " [179.4162 ]\n",
      " [161.4555 ]]\n",
      "500 Cost:  15.613281 \n",
      "Prediction:\n",
      " [[144.41373]\n",
      " [139.48178]\n",
      " [187.16663]\n",
      " [152.70395]\n",
      " [153.59134]\n",
      " [186.22685]\n",
      " [141.20425]\n",
      " [187.75629]\n",
      " [179.31712]\n",
      " [161.34029]]\n",
      "600 Cost:  15.138036 \n",
      "Prediction:\n",
      " [[144.40042]\n",
      " [139.58841]\n",
      " [187.1116 ]\n",
      " [152.65717]\n",
      " [153.55095]\n",
      " [186.30814]\n",
      " [141.22456]\n",
      " [187.60791]\n",
      " [179.22256]\n",
      " [161.22987]]\n",
      "700 Cost:  14.688599 \n",
      "Prediction:\n",
      " [[144.38728]\n",
      " [139.69093]\n",
      " [187.05956]\n",
      " [152.6137 ]\n",
      " [153.51096]\n",
      " [186.38658]\n",
      " [141.24654]\n",
      " [187.4631 ]\n",
      " [179.13231]\n",
      " [161.12407]]\n",
      "800 Cost:  14.2632065 \n",
      "Prediction:\n",
      " [[144.37431]\n",
      " [139.78954]\n",
      " [187.01027]\n",
      " [152.57335]\n",
      " [153.47136]\n",
      " [186.46227]\n",
      " [141.27002]\n",
      " [187.32173]\n",
      " [179.04616]\n",
      " [161.0227 ]]\n",
      "900 Cost:  13.860318 \n",
      "Prediction:\n",
      " [[144.3615 ]\n",
      " [139.88435]\n",
      " [186.96364]\n",
      " [152.53596]\n",
      " [153.43219]\n",
      " [186.53532]\n",
      " [141.29489]\n",
      " [187.18378]\n",
      " [178.96394]\n",
      " [160.92555]]\n",
      "1000 Cost:  13.478468 \n",
      "Prediction:\n",
      " [[144.34889]\n",
      " [139.97559]\n",
      " [186.91953]\n",
      " [152.50136]\n",
      " [153.39345]\n",
      " [186.60583]\n",
      " [141.32104]\n",
      " [187.04912]\n",
      " [178.88548]\n",
      " [160.83247]]\n",
      "1100 Cost:  13.1163 \n",
      "Prediction:\n",
      " [[144.33641]\n",
      " [140.06331]\n",
      " [186.87779]\n",
      " [152.46936]\n",
      " [153.35512]\n",
      " [186.67384]\n",
      " [141.3483 ]\n",
      " [186.91766]\n",
      " [178.81056]\n",
      " [160.74321]]\n",
      "1200 Cost:  12.772624 \n",
      "Prediction:\n",
      " [[144.32414]\n",
      " [140.14774]\n",
      " [186.83836]\n",
      " [152.4399 ]\n",
      " [153.3173 ]\n",
      " [186.73958]\n",
      " [141.37663]\n",
      " [186.78941]\n",
      " [178.7391 ]\n",
      " [160.6577 ]]\n",
      "1300 Cost:  12.446243 \n",
      "Prediction:\n",
      " [[144.31204]\n",
      " [140.22894]\n",
      " [186.80109]\n",
      " [152.41275]\n",
      " [153.27994]\n",
      " [186.80298]\n",
      " [141.40588]\n",
      " [186.66418]\n",
      " [178.67087]\n",
      " [160.57571]]\n",
      "1400 Cost:  12.136064 \n",
      "Prediction:\n",
      " [[144.3001 ]\n",
      " [140.30708]\n",
      " [186.76585]\n",
      " [152.38783]\n",
      " [153.24303]\n",
      " [186.86421]\n",
      " [141.43596]\n",
      " [186.54198]\n",
      " [178.60573]\n",
      " [160.49712]]\n",
      "1500 Cost:  11.841181 \n",
      "Prediction:\n",
      " [[144.28836]\n",
      " [140.38228]\n",
      " [186.7326 ]\n",
      " [152.36502]\n",
      " [153.20662]\n",
      " [186.92336]\n",
      " [141.46681]\n",
      " [186.42271]\n",
      " [178.54361]\n",
      " [160.42178]]\n",
      "1600 Cost:  11.560675 \n",
      "Prediction:\n",
      " [[144.27682]\n",
      " [140.45465]\n",
      " [186.70122]\n",
      " [152.34421]\n",
      " [153.17072]\n",
      " [186.98047]\n",
      " [141.49834]\n",
      " [186.30634]\n",
      " [178.48431]\n",
      " [160.34958]]\n",
      "1700 Cost:  11.293646 \n",
      "Prediction:\n",
      " [[144.26544]\n",
      " [140.52432]\n",
      " [186.67159]\n",
      " [152.32524]\n",
      " [153.1353 ]\n",
      " [187.03563]\n",
      " [141.53041]\n",
      " [186.19275]\n",
      " [178.42772]\n",
      " [160.28032]]\n",
      "1800 Cost:  11.039292 \n",
      "Prediction:\n",
      " [[144.25423]\n",
      " [140.59137]\n",
      " [186.64365]\n",
      " [152.30803]\n",
      " [153.1004 ]\n",
      " [187.08893]\n",
      " [141.56302]\n",
      " [186.08188]\n",
      " [178.37372]\n",
      " [160.21393]]\n",
      "1900 Cost:  10.796891 \n",
      "Prediction:\n",
      " [[144.24321]\n",
      " [140.65593]\n",
      " [186.61728]\n",
      " [152.2925 ]\n",
      " [153.06596]\n",
      " [187.1404 ]\n",
      " [141.59605]\n",
      " [185.9737 ]\n",
      " [178.32216]\n",
      " [160.15025]]\n",
      "2000 Cost:  10.565897 \n",
      "Prediction:\n",
      " [[144.23239]\n",
      " [140.7181 ]\n",
      " [186.59247]\n",
      " [152.27852]\n",
      " [153.0321 ]\n",
      " [187.19014]\n",
      " [141.62946]\n",
      " [185.86813]\n",
      " [178.27301]\n",
      " [160.0892 ]]\n"
     ]
    }
   ],
   "source": [
    "for step in range(2001):\n",
    "    x_batch, y_batch = sess.run([train_x_batch, train_y_batch])\n",
    "    cost_val, hy_val, _ = sess.run([cost, hypothesis, train], feed_dict={X: x_batch, Y: y_batch})\n",
    "    if step % 100 == 0:\n",
    "        print(step, \"Cost: \", cost_val, \"\\nPrediction:\\n\", hy_val)\n"
   ]
  },
  {
   "cell_type": "code",
   "execution_count": 45,
   "metadata": {},
   "outputs": [],
   "source": [
    "coord.request_stop()"
   ]
  },
  {
   "cell_type": "code",
   "execution_count": 46,
   "metadata": {},
   "outputs": [],
   "source": [
    "coord.join(threads)"
   ]
  }
 ],
 "metadata": {
  "kernelspec": {
   "display_name": "Python 3",
   "language": "python",
   "name": "python3"
  },
  "language_info": {
   "codemirror_mode": {
    "name": "ipython",
    "version": 3
   },
   "file_extension": ".py",
   "mimetype": "text/x-python",
   "name": "python",
   "nbconvert_exporter": "python",
   "pygments_lexer": "ipython3",
   "version": "3.7.3"
  }
 },
 "nbformat": 4,
 "nbformat_minor": 4
}
