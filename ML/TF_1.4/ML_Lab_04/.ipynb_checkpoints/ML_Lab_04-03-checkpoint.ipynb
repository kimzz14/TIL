{
 "cells": [
  {
   "cell_type": "code",
   "execution_count": 75,
   "metadata": {},
   "outputs": [],
   "source": [
    "import tensorflow as tf"
   ]
  },
  {
   "cell_type": "code",
   "execution_count": 123,
   "metadata": {},
   "outputs": [],
   "source": [
    "def input_files(filenames, record_defaults, batchN=10):\n",
    "    def decodee_csv(line):\n",
    "        xy = tf.io.decode_csv(line, record_defaults=record_defaults)\n",
    "        x_data = xy[:-1]\n",
    "        y_data = [xy[-1]]\n",
    "        return x_data, y_data\n",
    "    dataset = tf.data.TextLineDataset(filenames)\n",
    "    dataset = dataset.map(decodee_csv)\n",
    "    dataset = dataset.shuffle(buffer_size=10000)\n",
    "    dataset = dataset.repeat(10000000)\n",
    "    dataset = dataset.batch(batchN)\n",
    "    iterator = dataset.make_one_shot_iterator()\n",
    "    \n",
    "    x_batch, y_batch = iterator.get_next()\n",
    "    \n",
    "    return x_batch, y_batch"
   ]
  },
  {
   "cell_type": "code",
   "execution_count": 124,
   "metadata": {},
   "outputs": [],
   "source": [
    "infiles = input_files(filenames=['data-01-test-score.csv'], record_defaults=[[0.], [0.], [0.], [0.]])"
   ]
  },
  {
   "cell_type": "code",
   "execution_count": 125,
   "metadata": {},
   "outputs": [],
   "source": [
    "X = tf.placeholder(dtype=tf.float32, shape=[None, 3])"
   ]
  },
  {
   "cell_type": "code",
   "execution_count": 126,
   "metadata": {},
   "outputs": [],
   "source": [
    "Y = tf.placeholder(dtype=tf.float32, shape=[None, 1])"
   ]
  },
  {
   "cell_type": "code",
   "execution_count": 127,
   "metadata": {},
   "outputs": [],
   "source": [
    "W = tf.Variable(tf.random_normal(shape=[3, 1]), shape=[3, 1], dtype=tf.float32, name='weight')"
   ]
  },
  {
   "cell_type": "code",
   "execution_count": 128,
   "metadata": {},
   "outputs": [],
   "source": [
    "b = tf.Variable(tf.random_normal(shape=[1])   , shape=[1], dtype=tf.float32, name='bias')"
   ]
  },
  {
   "cell_type": "code",
   "execution_count": 129,
   "metadata": {},
   "outputs": [],
   "source": [
    "hypothesis = tf.matmul(X, W) + b"
   ]
  },
  {
   "cell_type": "code",
   "execution_count": 130,
   "metadata": {},
   "outputs": [],
   "source": [
    "cost = tf.reduce_mean(tf.square(hypothesis - Y))"
   ]
  },
  {
   "cell_type": "code",
   "execution_count": 131,
   "metadata": {},
   "outputs": [],
   "source": [
    "optimizer = tf.train.GradientDescentOptimizer(learning_rate=1e-5)"
   ]
  },
  {
   "cell_type": "code",
   "execution_count": 132,
   "metadata": {},
   "outputs": [],
   "source": [
    "train = optimizer.minimize(cost)"
   ]
  },
  {
   "cell_type": "code",
   "execution_count": 133,
   "metadata": {},
   "outputs": [],
   "source": [
    "sess = tf.Session()"
   ]
  },
  {
   "cell_type": "code",
   "execution_count": 134,
   "metadata": {},
   "outputs": [],
   "source": [
    "sess.run(tf.global_variables_initializer())"
   ]
  },
  {
   "cell_type": "code",
   "execution_count": 135,
   "metadata": {},
   "outputs": [],
   "source": [
    "coord = tf.train.Coordinator()"
   ]
  },
  {
   "cell_type": "code",
   "execution_count": 136,
   "metadata": {},
   "outputs": [
    {
     "name": "stdout",
     "output_type": "stream",
     "text": [
      "WARNING:tensorflow:`tf.train.start_queue_runners()` was called when no queue runners were defined. You can safely remove the call to this deprecated function.\n"
     ]
    }
   ],
   "source": [
    "threads = tf.train.start_queue_runners(sess=sess, coord=coord)"
   ]
  },
  {
   "cell_type": "code",
   "execution_count": 137,
   "metadata": {},
   "outputs": [
    {
     "name": "stdout",
     "output_type": "stream",
     "text": [
      "0 Cost:  7785.297 \n",
      "Prediction:\n",
      " [[66.51603 ]\n",
      " [56.80482 ]\n",
      " [53.150574]\n",
      " [64.55604 ]\n",
      " [60.914932]\n",
      " [36.352684]\n",
      " [76.45415 ]\n",
      " [74.143486]\n",
      " [82.51984 ]\n",
      " [64.74588 ]]\n",
      "100 Cost:  25.778168 \n",
      "Prediction:\n",
      " [[170.16687]\n",
      " [164.85898]\n",
      " [184.49777]\n",
      " [200.28377]\n",
      " [180.50955]\n",
      " [143.6726 ]\n",
      " [169.4615 ]\n",
      " [152.36272]\n",
      " [185.47581]\n",
      " [ 96.80689]]\n",
      "200 Cost:  24.513826 \n",
      "Prediction:\n",
      " [[ 96.93962]\n",
      " [135.77559]\n",
      " [164.90987]\n",
      " [185.05959]\n",
      " [150.86336]\n",
      " [143.42958]\n",
      " [176.84473]\n",
      " [183.54988]\n",
      " [147.6362 ]\n",
      " [152.06094]]\n",
      "300 Cost:  27.5463 \n",
      "Prediction:\n",
      " [[183.32721]\n",
      " [180.48016]\n",
      " [185.01627]\n",
      " [183.9368 ]\n",
      " [143.48355]\n",
      " [165.30629]\n",
      " [136.08249]\n",
      " [147.42682]\n",
      " [150.95503]\n",
      " [159.88698]]\n",
      "400 Cost:  24.955387 \n",
      "Prediction:\n",
      " [[183.5521 ]\n",
      " [184.55582]\n",
      " [164.53767]\n",
      " [136.04568]\n",
      " [176.5241 ]\n",
      " [188.75044]\n",
      " [159.27718]\n",
      " [ 97.35484]\n",
      " [169.35175]\n",
      " [199.40907]]\n",
      "500 Cost:  46.58123 \n",
      "Prediction:\n",
      " [[165.00044]\n",
      " [161.39192]\n",
      " [185.30017]\n",
      " [177.33278]\n",
      " [152.438  ]\n",
      " [ 98.12223]\n",
      " [184.58759]\n",
      " [190.39139]\n",
      " [152.38832]\n",
      " [170.35135]]\n",
      "600 Cost:  19.436943 \n",
      "Prediction:\n",
      " [[183.21909]\n",
      " [151.69197]\n",
      " [184.4168 ]\n",
      " [169.25148]\n",
      " [176.54874]\n",
      " [199.35315]\n",
      " [ 97.92903]\n",
      " [188.8056 ]\n",
      " [165.94324]\n",
      " [189.34792]]\n",
      "700 Cost:  35.78025 \n",
      "Prediction:\n",
      " [[146.4742 ]\n",
      " [180.84045]\n",
      " [152.93742]\n",
      " [183.34999]\n",
      " [156.90149]\n",
      " [143.45862]\n",
      " [158.7116 ]\n",
      " [189.40874]\n",
      " [135.44081]\n",
      " [184.30397]]\n",
      "800 Cost:  35.91978 \n",
      "Prediction:\n",
      " [[166.86522]\n",
      " [146.37773]\n",
      " [184.56339]\n",
      " [170.37843]\n",
      " [151.92197]\n",
      " [181.06134]\n",
      " [151.17857]\n",
      " [153.5032 ]\n",
      " [189.34427]\n",
      " [158.5632 ]]\n",
      "900 Cost:  23.716286 \n",
      "Prediction:\n",
      " [[136.08246]\n",
      " [189.60094]\n",
      " [143.8972 ]\n",
      " [184.92775]\n",
      " [154.31529]\n",
      " [ 99.12389]\n",
      " [182.15599]\n",
      " [137.8068 ]\n",
      " [146.53966]\n",
      " [163.93549]]\n",
      "1000 Cost:  22.664898 \n",
      "Prediction:\n",
      " [[189.29863]\n",
      " [158.98683]\n",
      " [ 99.155  ]\n",
      " [183.2203 ]\n",
      " [169.39757]\n",
      " [151.91493]\n",
      " [184.50725]\n",
      " [176.93047]\n",
      " [158.15933]\n",
      " [189.07368]]\n",
      "1100 Cost:  22.16613 \n",
      "Prediction:\n",
      " [[169.02058]\n",
      " [137.65384]\n",
      " [182.77382]\n",
      " [170.51486]\n",
      " [ 99.17522]\n",
      " [143.36574]\n",
      " [154.536  ]\n",
      " [176.58618]\n",
      " [151.04134]\n",
      " [135.75615]]\n",
      "1200 Cost:  23.210987 \n",
      "Prediction:\n",
      " [[171.09799]\n",
      " [136.23131]\n",
      " [116.38432]\n",
      " [ 99.66256]\n",
      " [163.07924]\n",
      " [181.28813]\n",
      " [158.38745]\n",
      " [143.75198]\n",
      " [168.07863]\n",
      " [145.87306]]\n",
      "1300 Cost:  17.20408 \n",
      "Prediction:\n",
      " [[189.04716]\n",
      " [176.6438 ]\n",
      " [116.10402]\n",
      " [184.01259]\n",
      " [162.52328]\n",
      " [199.24458]\n",
      " [184.98236]\n",
      " [145.39986]\n",
      " [168.98389]\n",
      " [167.92834]]\n",
      "1400 Cost:  16.890652 \n",
      "Prediction:\n",
      " [[ 99.79124]\n",
      " [162.26628]\n",
      " [170.88162]\n",
      " [188.98375]\n",
      " [168.86613]\n",
      " [143.3947 ]\n",
      " [151.1238 ]\n",
      " [138.18613]\n",
      " [176.56534]\n",
      " [157.33632]]\n",
      "1500 Cost:  12.251474 \n",
      "Prediction:\n",
      " [[180.73409 ]\n",
      " [162.51186 ]\n",
      " [100.25652 ]\n",
      " [171.45604 ]\n",
      " [138.72429 ]\n",
      " [116.279945]\n",
      " [157.28072 ]\n",
      " [185.62863 ]\n",
      " [184.27472 ]\n",
      " [189.50932 ]]\n",
      "1600 Cost:  15.162366 \n",
      "Prediction:\n",
      " [[155.93309 ]\n",
      " [177.56262 ]\n",
      " [137.0695  ]\n",
      " [181.12949 ]\n",
      " [200.22797 ]\n",
      " [162.84337 ]\n",
      " [188.96617 ]\n",
      " [100.766014]\n",
      " [157.59167 ]\n",
      " [182.5826  ]]\n",
      "1700 Cost:  28.440725 \n",
      "Prediction:\n",
      " [[151.80453]\n",
      " [171.6419 ]\n",
      " [199.54323]\n",
      " [157.06578]\n",
      " [156.86182]\n",
      " [169.13734]\n",
      " [185.80614]\n",
      " [182.75493]\n",
      " [136.69275]\n",
      " [169.141  ]]\n",
      "1800 Cost:  21.023375 \n",
      "Prediction:\n",
      " [[100.81758]\n",
      " [169.18219]\n",
      " [155.20502]\n",
      " [189.62387]\n",
      " [136.85233]\n",
      " [157.45142]\n",
      " [151.6597 ]\n",
      " [156.6795 ]\n",
      " [180.30847]\n",
      " [182.78186]]\n",
      "1900 Cost:  23.003923 \n",
      "Prediction:\n",
      " [[185.82343]\n",
      " [189.36357]\n",
      " [157.51227]\n",
      " [168.90001]\n",
      " [143.65944]\n",
      " [187.83212]\n",
      " [100.82887]\n",
      " [156.20488]\n",
      " [176.79883]\n",
      " [169.35199]]\n",
      "2000 Cost:  13.842532 \n",
      "Prediction:\n",
      " [[176.66914]\n",
      " [171.65   ]\n",
      " [154.60931]\n",
      " [143.56677]\n",
      " [187.6004 ]\n",
      " [139.19482]\n",
      " [185.78336]\n",
      " [183.63513]\n",
      " [155.85797]\n",
      " [151.37537]]\n"
     ]
    }
   ],
   "source": [
    "for step in range(2001):\n",
    "    x_batch, y_batch = sess.run(infiles)\n",
    "    cost_val, hy_val, _ = sess.run([cost, hypothesis, train], feed_dict={X: x_batch, Y: y_batch})\n",
    "    if step % 100 == 0:\n",
    "        print(step, \"Cost: \", cost_val, \"\\nPrediction:\\n\", hy_val)\n"
   ]
  },
  {
   "cell_type": "code",
   "execution_count": null,
   "metadata": {},
   "outputs": [],
   "source": [
    "coord.request_stop()"
   ]
  },
  {
   "cell_type": "code",
   "execution_count": null,
   "metadata": {},
   "outputs": [],
   "source": [
    "coord.join(threads)"
   ]
  },
  {
   "cell_type": "code",
   "execution_count": null,
   "metadata": {},
   "outputs": [],
   "source": []
  },
  {
   "cell_type": "code",
   "execution_count": null,
   "metadata": {},
   "outputs": [],
   "source": []
  }
 ],
 "metadata": {
  "kernelspec": {
   "display_name": "Python 3",
   "language": "python",
   "name": "python3"
  },
  "language_info": {
   "codemirror_mode": {
    "name": "ipython",
    "version": 3
   },
   "file_extension": ".py",
   "mimetype": "text/x-python",
   "name": "python",
   "nbconvert_exporter": "python",
   "pygments_lexer": "ipython3",
   "version": "3.7.3"
  }
 },
 "nbformat": 4,
 "nbformat_minor": 4
}
