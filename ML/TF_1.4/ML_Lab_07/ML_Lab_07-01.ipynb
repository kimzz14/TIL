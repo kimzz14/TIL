{
 "cells": [
  {
   "cell_type": "code",
   "execution_count": 1,
   "metadata": {},
   "outputs": [],
   "source": [
    "import tensorflow as tf"
   ]
  },
  {
   "cell_type": "code",
   "execution_count": 2,
   "metadata": {},
   "outputs": [],
   "source": [
    "x_data = [[1, 2, 1], [1, 3, 2], [1, 3, 4], [1, 5, 5], [1, 7, 5], [1, 2, 5], [1, 6, 6], [1, 7, 7]]"
   ]
  },
  {
   "cell_type": "code",
   "execution_count": 3,
   "metadata": {},
   "outputs": [],
   "source": [
    "y_data = [[0, 0, 1], [0, 0, 1], [0, 0, 1], [0, 1, 0], [0, 1, 0], [0, 1, 0], [1, 0, 0], [1, 0, 0]]"
   ]
  },
  {
   "cell_type": "code",
   "execution_count": 4,
   "metadata": {},
   "outputs": [],
   "source": [
    "# Evaluation our model using this test dataset"
   ]
  },
  {
   "cell_type": "code",
   "execution_count": 5,
   "metadata": {},
   "outputs": [],
   "source": [
    "x_test = [[2, 1, 1], [3, 1, 2], [3, 3, 4]]"
   ]
  },
  {
   "cell_type": "code",
   "execution_count": 6,
   "metadata": {},
   "outputs": [],
   "source": [
    "y_test = [[0, 0, 1], [0, 0, 1], [0, 0, 1]]"
   ]
  },
  {
   "cell_type": "code",
   "execution_count": 7,
   "metadata": {},
   "outputs": [],
   "source": [
    "X = tf.placeholder(shape=[None, 3], dtype=tf.float32, name='X')"
   ]
  },
  {
   "cell_type": "code",
   "execution_count": 8,
   "metadata": {},
   "outputs": [],
   "source": [
    "Y = tf.placeholder(shape=[None, 3], dtype=tf.float32, name='Y')"
   ]
  },
  {
   "cell_type": "code",
   "execution_count": 9,
   "metadata": {},
   "outputs": [],
   "source": [
    "W = tf.Variable(tf.random_normal(shape=[3, 3]), shape=[3, 3], dtype=tf.float32, name='weight')"
   ]
  },
  {
   "cell_type": "code",
   "execution_count": 10,
   "metadata": {},
   "outputs": [],
   "source": [
    "b = tf.Variable(tf.random_normal(shape=[3]), shape=[3], dtype=tf.float32, name='bias')"
   ]
  },
  {
   "cell_type": "code",
   "execution_count": 11,
   "metadata": {},
   "outputs": [],
   "source": [
    "logits = tf.matmul(X, W) + b"
   ]
  },
  {
   "cell_type": "code",
   "execution_count": 12,
   "metadata": {},
   "outputs": [],
   "source": [
    "hypothesis = tf.nn.softmax(logits)"
   ]
  },
  {
   "cell_type": "code",
   "execution_count": 13,
   "metadata": {},
   "outputs": [
    {
     "name": "stdout",
     "output_type": "stream",
     "text": [
      "WARNING:tensorflow:From <ipython-input-13-f348942ae4e6>:1: softmax_cross_entropy_with_logits (from tensorflow.python.ops.nn_ops) is deprecated and will be removed in a future version.\n",
      "Instructions for updating:\n",
      "\n",
      "Future major versions of TensorFlow will allow gradients to flow\n",
      "into the labels input on backprop by default.\n",
      "\n",
      "See `tf.nn.softmax_cross_entropy_with_logits_v2`.\n",
      "\n"
     ]
    }
   ],
   "source": [
    "cost_i = tf.nn.softmax_cross_entropy_with_logits(logits=logits, labels=Y)"
   ]
  },
  {
   "cell_type": "code",
   "execution_count": 14,
   "metadata": {},
   "outputs": [],
   "source": [
    "cost = tf.reduce_mean(cost_i)"
   ]
  },
  {
   "cell_type": "code",
   "execution_count": 15,
   "metadata": {},
   "outputs": [],
   "source": [
    "optimizer = tf.train.GradientDescentOptimizer(learning_rate=0.01).minimize(cost)"
   ]
  },
  {
   "cell_type": "code",
   "execution_count": 16,
   "metadata": {},
   "outputs": [],
   "source": [
    "predicted_Y = tf.argmax(hypothesis, 1)"
   ]
  },
  {
   "cell_type": "code",
   "execution_count": 17,
   "metadata": {},
   "outputs": [],
   "source": [
    "is_correct = tf.equal(predicted_Y, tf.argmax(Y, 1))"
   ]
  },
  {
   "cell_type": "code",
   "execution_count": 18,
   "metadata": {},
   "outputs": [],
   "source": [
    "accuracy = tf.reduce_mean(tf.cast(is_correct, tf.float32))"
   ]
  },
  {
   "cell_type": "code",
   "execution_count": 19,
   "metadata": {},
   "outputs": [
    {
     "name": "stdout",
     "output_type": "stream",
     "text": [
      "0 7.0310216 [[-0.7675113  -0.31913346 -1.8201921 ]\n",
      " [ 1.0411447   0.46438655  0.36895606]\n",
      " [-1.0083581   1.6787282  -0.02556519]]\n",
      "200 1.2136252 [[-0.82974786 -0.65098864 -1.4261001 ]\n",
      " [ 1.3050084  -0.10778996  0.6772693 ]\n",
      " [-0.26538256  0.7557547   0.15443279]]\n",
      "400 1.004327 [[-0.95320785 -0.81039536 -1.1432327 ]\n",
      " [ 1.1155854   0.10276482  0.65613717]\n",
      " [-0.01564449  0.6088484   0.0516014 ]]\n",
      "600 0.86776286 [[-1.0578277  -0.94338644 -0.905621  ]\n",
      " [ 0.97501796  0.2639306   0.6355392 ]\n",
      " [ 0.175615    0.5044869  -0.03529628]]\n",
      "800 0.7815081 [[-1.1535908  -1.0480868  -0.70515674]\n",
      " [ 0.88035053  0.37478796  0.6193488 ]\n",
      " [ 0.31477955  0.44047523 -0.11044926]]\n",
      "1000 0.7253648 [[-1.2451229  -1.1279244  -0.5337866 ]\n",
      " [ 0.8228984   0.445635    0.60595375]\n",
      " [ 0.41273943  0.40669218 -0.17462593]]\n",
      "1200 0.6859764 [[-1.3337058  -1.1881808  -0.38494733]\n",
      " [ 0.7910588   0.4899899   0.59343874]\n",
      " [ 0.48240724  0.39132166 -0.2289231 ]]\n",
      "1400 0.65617657 [[-1.4194472  -1.2337325  -0.25365517]\n",
      " [ 0.774866    0.5184384   0.5811833 ]\n",
      " [ 0.5343913   0.38565767 -0.27524325]]\n",
      "1600 0.6323212 [[-1.502301   -1.2683322  -0.13620152]\n",
      " [ 0.7675394   0.53765005  0.5692979 ]\n",
      " [ 0.57579243  0.38455626 -0.315543  ]]\n",
      "1800 0.61245716 [[-1.5823207  -1.294686   -0.02982773]\n",
      " [ 0.76497704  0.55145645  0.5580536 ]\n",
      " [ 0.61091727  0.38530573 -0.3514176 ]]\n",
      "2000 0.59544265 [[-1.6596535  -1.3147188   0.06753819]\n",
      " [ 0.76484084  0.56199044  0.5476553 ]\n",
      " [ 0.64226717  0.38657516 -0.3840369 ]]\n",
      "Prediction: [2 2 2]\n",
      "Accuracy: 1.0\n"
     ]
    }
   ],
   "source": [
    "with tf.Session() as sess:\n",
    "    sess.run(tf.global_variables_initializer())\n",
    "    for step in range(2001):\n",
    "        cost_val, W_val, b_val, _ = sess.run([cost, W, b, optimizer], feed_dict={X: x_data, Y: y_data})\n",
    "        if step%200 == 0:\n",
    "            print(step, cost_val, W_val)\n",
    "    # prediction\n",
    "    print (\"Prediction:\", sess.run(predicted_Y, feed_dict={X: x_test}))\n",
    "    # Calculate the accuracy\n",
    "    print(\"Accuracy:\", sess.run(accuracy, feed_dict={X: x_test, Y: y_test}))"
   ]
  }
 ],
 "metadata": {
  "kernelspec": {
   "display_name": "Python 3",
   "language": "python",
   "name": "python3"
  },
  "language_info": {
   "codemirror_mode": {
    "name": "ipython",
    "version": 3
   },
   "file_extension": ".py",
   "mimetype": "text/x-python",
   "name": "python",
   "nbconvert_exporter": "python",
   "pygments_lexer": "ipython3",
   "version": "3.7.3"
  }
 },
 "nbformat": 4,
 "nbformat_minor": 4
}
