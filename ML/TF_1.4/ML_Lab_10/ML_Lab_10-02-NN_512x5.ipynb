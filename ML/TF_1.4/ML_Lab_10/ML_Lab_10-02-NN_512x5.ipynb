{
 "cells": [
  {
   "cell_type": "code",
   "execution_count": 1,
   "metadata": {},
   "outputs": [],
   "source": [
    "from tensorflow.examples.tutorials.mnist import input_data"
   ]
  },
  {
   "cell_type": "code",
   "execution_count": 2,
   "metadata": {},
   "outputs": [],
   "source": [
    "import tensorflow as tf"
   ]
  },
  {
   "cell_type": "code",
   "execution_count": 3,
   "metadata": {},
   "outputs": [],
   "source": [
    "import matplotlib.pyplot as plt"
   ]
  },
  {
   "cell_type": "code",
   "execution_count": 4,
   "metadata": {},
   "outputs": [],
   "source": [
    "import random"
   ]
  },
  {
   "cell_type": "code",
   "execution_count": 5,
   "metadata": {},
   "outputs": [],
   "source": [
    "tf.set_random_seed(777)  # reproducibility"
   ]
  },
  {
   "cell_type": "code",
   "execution_count": 6,
   "metadata": {},
   "outputs": [],
   "source": [
    "# parameters\n",
    "log_dir = './logs/ML_Lab_10-02-NN_512x5'\n",
    "learning_rate = 0.001\n",
    "batch_size = 100\n",
    "num_epochs = 100"
   ]
  },
  {
   "cell_type": "code",
   "execution_count": 7,
   "metadata": {},
   "outputs": [
    {
     "name": "stdout",
     "output_type": "stream",
     "text": [
      "WARNING:tensorflow:From <ipython-input-7-a839aeb82f4b>:1: read_data_sets (from tensorflow.contrib.learn.python.learn.datasets.mnist) is deprecated and will be removed in a future version.\n",
      "Instructions for updating:\n",
      "Please use alternatives such as official/mnist/dataset.py from tensorflow/models.\n",
      "WARNING:tensorflow:From C:\\Anaconda3\\lib\\site-packages\\tensorflow\\contrib\\learn\\python\\learn\\datasets\\mnist.py:260: maybe_download (from tensorflow.contrib.learn.python.learn.datasets.base) is deprecated and will be removed in a future version.\n",
      "Instructions for updating:\n",
      "Please write your own downloading logic.\n",
      "WARNING:tensorflow:From C:\\Anaconda3\\lib\\site-packages\\tensorflow\\contrib\\learn\\python\\learn\\datasets\\mnist.py:262: extract_images (from tensorflow.contrib.learn.python.learn.datasets.mnist) is deprecated and will be removed in a future version.\n",
      "Instructions for updating:\n",
      "Please use tf.data to implement this functionality.\n",
      "Extracting MNIST_data/train-images-idx3-ubyte.gz\n",
      "WARNING:tensorflow:From C:\\Anaconda3\\lib\\site-packages\\tensorflow\\contrib\\learn\\python\\learn\\datasets\\mnist.py:267: extract_labels (from tensorflow.contrib.learn.python.learn.datasets.mnist) is deprecated and will be removed in a future version.\n",
      "Instructions for updating:\n",
      "Please use tf.data to implement this functionality.\n",
      "Extracting MNIST_data/train-labels-idx1-ubyte.gz\n",
      "WARNING:tensorflow:From C:\\Anaconda3\\lib\\site-packages\\tensorflow\\contrib\\learn\\python\\learn\\datasets\\mnist.py:110: dense_to_one_hot (from tensorflow.contrib.learn.python.learn.datasets.mnist) is deprecated and will be removed in a future version.\n",
      "Instructions for updating:\n",
      "Please use tf.one_hot on tensors.\n",
      "Extracting MNIST_data/t10k-images-idx3-ubyte.gz\n",
      "Extracting MNIST_data/t10k-labels-idx1-ubyte.gz\n",
      "WARNING:tensorflow:From C:\\Anaconda3\\lib\\site-packages\\tensorflow\\contrib\\learn\\python\\learn\\datasets\\mnist.py:290: DataSet.__init__ (from tensorflow.contrib.learn.python.learn.datasets.mnist) is deprecated and will be removed in a future version.\n",
      "Instructions for updating:\n",
      "Please use alternatives such as official/mnist/dataset.py from tensorflow/models.\n"
     ]
    }
   ],
   "source": [
    "mnist = input_data.read_data_sets(\"MNIST_data/\", one_hot=True)"
   ]
  },
  {
   "cell_type": "code",
   "execution_count": 8,
   "metadata": {},
   "outputs": [
    {
     "name": "stdout",
     "output_type": "stream",
     "text": [
      "55000\n"
     ]
    }
   ],
   "source": [
    "print(mnist.train.num_examples)"
   ]
  },
  {
   "cell_type": "code",
   "execution_count": 9,
   "metadata": {},
   "outputs": [],
   "source": [
    "nb_classes = 10"
   ]
  },
  {
   "cell_type": "code",
   "execution_count": 10,
   "metadata": {},
   "outputs": [],
   "source": [
    "X = tf.placeholder(shape=[None, 784], dtype=tf.float32, name='X')"
   ]
  },
  {
   "cell_type": "code",
   "execution_count": 11,
   "metadata": {},
   "outputs": [],
   "source": [
    "Y = tf.placeholder(shape=[None, nb_classes], dtype=tf.int32, name='Y')"
   ]
  },
  {
   "cell_type": "code",
   "execution_count": 12,
   "metadata": {},
   "outputs": [],
   "source": [
    "with tf.variable_scope('layer1') as scope:\n",
    "    W1 = tf.Variable(tf.random_normal(shape=[784, 512]), shape=[784, 512], dtype=tf.float32, name='weight1')\n",
    "    b1 = tf.Variable(tf.random_normal(shape=[512]), shape=[512], dtype=tf.float32, name='bias1')\n",
    "    L1 = tf.nn.relu(tf.matmul(X, W1) + b1)\n",
    "    tf.summary.histogram(\"W1\", W1)\n",
    "    tf.summary.histogram(\"b1\", b1)\n",
    "    tf.summary.histogram(\"Layer1\", L1)"
   ]
  },
  {
   "cell_type": "code",
   "execution_count": 13,
   "metadata": {},
   "outputs": [],
   "source": [
    "with tf.variable_scope('layer2') as scope:\n",
    "    W2 = tf.Variable(tf.random_normal(shape=[512, 512]), shape=[512, 512], dtype=tf.float32, name='weight2')\n",
    "    b2 = tf.Variable(tf.random_normal(shape=[512]), shape=[512], dtype=tf.float32, name='bias2')\n",
    "    L2 = tf.nn.relu(tf.matmul(L1, W2) + b2)\n",
    "    tf.summary.histogram(\"W2\", W2)\n",
    "    tf.summary.histogram(\"b2\", b2)\n",
    "    tf.summary.histogram(\"Layer1\", L2)"
   ]
  },
  {
   "cell_type": "code",
   "execution_count": 14,
   "metadata": {},
   "outputs": [],
   "source": [
    "with tf.variable_scope('layer3') as scope:\n",
    "    W3 = tf.Variable(tf.random_normal(shape=[512, 512]), shape=[512, 512], dtype=tf.float32, name='weight3')\n",
    "    b3 = tf.Variable(tf.random_normal(shape=[512]), shape=[512], dtype=tf.float32, name='bias3')\n",
    "    L3 = tf.nn.relu(tf.matmul(L2, W3) + b3)\n",
    "    tf.summary.histogram(\"W3\", W3)\n",
    "    tf.summary.histogram(\"b3\", b3)\n",
    "    tf.summary.histogram(\"Layer3\", L3)"
   ]
  },
  {
   "cell_type": "code",
   "execution_count": 15,
   "metadata": {},
   "outputs": [],
   "source": [
    "with tf.variable_scope('layer4') as scope:\n",
    "    W4 = tf.Variable(tf.random_normal(shape=[512, 512]), shape=[512, 512], dtype=tf.float32, name='weight4')\n",
    "    b4 = tf.Variable(tf.random_normal(shape=[512]), shape=[512], dtype=tf.float32, name='bias4')\n",
    "    L4 = tf.nn.relu(tf.matmul(L3, W4) + b4)\n",
    "    tf.summary.histogram(\"W4\", W4)\n",
    "    tf.summary.histogram(\"b4\", b4)\n",
    "    tf.summary.histogram(\"Layer4\", L4)"
   ]
  },
  {
   "cell_type": "code",
   "execution_count": 16,
   "metadata": {},
   "outputs": [],
   "source": [
    "with tf.variable_scope('layer5') as scope:\n",
    "    W5 = tf.Variable(tf.random_normal(shape=[512, 10]), shape=[512, 10], dtype=tf.float32, name='weight5')\n",
    "    b5 = tf.Variable(tf.random_normal(shape=[10]), shape=[10], dtype=tf.float32, name='bias5')\n",
    "    hypothesis = tf.matmul(L4, W5) + b5\n",
    "    tf.summary.histogram(\"W5\", W5)\n",
    "    tf.summary.histogram(\"b5\", b5)\n",
    "    tf.summary.histogram(\"hypotheis\", hypothesis)"
   ]
  },
  {
   "cell_type": "code",
   "execution_count": 17,
   "metadata": {},
   "outputs": [],
   "source": [
    "with tf.variable_scope('cost'):\n",
    "    cost_i = tf.nn.softmax_cross_entropy_with_logits_v2(logits=hypothesis, labels=Y)\n",
    "    cost = tf.reduce_mean(cost_i)\n",
    "    tf.summary.scalar(\"Cost\", cost)"
   ]
  },
  {
   "cell_type": "code",
   "execution_count": 18,
   "metadata": {},
   "outputs": [],
   "source": [
    "with tf.variable_scope('Train'):\n",
    "    train = tf.train.AdamOptimizer(learning_rate=learning_rate).minimize(cost)"
   ]
  },
  {
   "cell_type": "code",
   "execution_count": 19,
   "metadata": {},
   "outputs": [
    {
     "name": "stdout",
     "output_type": "stream",
     "text": [
      "WARNING:tensorflow:From <ipython-input-19-154051bf3954>:2: arg_max (from tensorflow.python.ops.gen_math_ops) is deprecated and will be removed in a future version.\n",
      "Instructions for updating:\n",
      "Use `tf.math.argmax` instead\n"
     ]
    }
   ],
   "source": [
    "with tf.variable_scope('accuracy') as scope:\n",
    "    is_correct = tf.equal(tf.argmax(hypothesis, 1), tf.arg_max(Y, 1))\n",
    "    accuracy = tf.reduce_mean(tf.cast(is_correct, tf.float32))\n",
    "    tf.summary.scalar('accuracy', accuracy)"
   ]
  },
  {
   "cell_type": "code",
   "execution_count": 20,
   "metadata": {},
   "outputs": [
    {
     "name": "stdout",
     "output_type": "stream",
     "text": [
      "Epoch: 0001 cost = 39824.507393022\n",
      "Accuracy:  0.8992\n",
      "Epoch: 0002 cost = 9261.689631570\n",
      "Accuracy:  0.9221\n",
      "Epoch: 0003 cost = 4789.677452344\n",
      "Accuracy:  0.9232\n",
      "Epoch: 0004 cost = 2632.796428767\n",
      "Accuracy:  0.9365\n",
      "Epoch: 0005 cost = 1515.814547989\n",
      "Accuracy:  0.943\n",
      "Epoch: 0006 cost = 1104.673541936\n",
      "Accuracy:  0.9463\n",
      "Epoch: 0007 cost = 646.624289378\n",
      "Accuracy:  0.9448\n",
      "Epoch: 0008 cost = 627.940011999\n",
      "Accuracy:  0.9505\n",
      "Epoch: 0009 cost = 607.517831382\n",
      "Accuracy:  0.952\n",
      "Epoch: 0010 cost = 567.591842748\n",
      "Accuracy:  0.9474\n",
      "Epoch: 0011 cost = 419.861646718\n",
      "Accuracy:  0.9536\n",
      "Epoch: 0012 cost = 466.402164600\n",
      "Accuracy:  0.9544\n",
      "Epoch: 0013 cost = 392.314867745\n",
      "Accuracy:  0.9531\n",
      "Epoch: 0014 cost = 475.886810608\n",
      "Accuracy:  0.9555\n",
      "Epoch: 0015 cost = 359.566790389\n",
      "Accuracy:  0.958\n",
      "Epoch: 0016 cost = 361.444545602\n",
      "Accuracy:  0.9603\n",
      "Epoch: 0017 cost = 319.409526965\n",
      "Accuracy:  0.961\n",
      "Epoch: 0018 cost = 306.741540787\n",
      "Accuracy:  0.955\n",
      "Epoch: 0019 cost = 332.140682810\n",
      "Accuracy:  0.9612\n",
      "Epoch: 0020 cost = 308.665584596\n",
      "Accuracy:  0.9614\n",
      "Epoch: 0021 cost = 244.327605247\n",
      "Accuracy:  0.9561\n",
      "Epoch: 0022 cost = 304.130596791\n",
      "Accuracy:  0.9617\n",
      "Epoch: 0023 cost = 256.335374748\n",
      "Accuracy:  0.9655\n",
      "Epoch: 0024 cost = 240.299735252\n",
      "Accuracy:  0.9643\n",
      "Epoch: 0025 cost = 195.309924929\n",
      "Accuracy:  0.963\n",
      "Epoch: 0026 cost = 187.469909077\n",
      "Accuracy:  0.9643\n",
      "Epoch: 0027 cost = 232.019900517\n",
      "Accuracy:  0.9664\n",
      "Epoch: 0028 cost = 214.906706130\n",
      "Accuracy:  0.967\n",
      "Epoch: 0029 cost = 215.425973436\n",
      "Accuracy:  0.9647\n",
      "Epoch: 0030 cost = 162.698777070\n",
      "Accuracy:  0.968\n",
      "Epoch: 0031 cost = 200.832764392\n",
      "Accuracy:  0.9672\n",
      "Epoch: 0032 cost = 190.297964106\n",
      "Accuracy:  0.9694\n",
      "Epoch: 0033 cost = 143.737372990\n",
      "Accuracy:  0.969\n",
      "Epoch: 0034 cost = 210.916068000\n",
      "Accuracy:  0.9675\n",
      "Epoch: 0035 cost = 149.279155840\n",
      "Accuracy:  0.966\n",
      "Epoch: 0036 cost = 162.454724151\n",
      "Accuracy:  0.9689\n",
      "Epoch: 0037 cost = 213.473823993\n",
      "Accuracy:  0.969\n",
      "Epoch: 0038 cost = 144.225340667\n",
      "Accuracy:  0.97\n",
      "Epoch: 0039 cost = 152.281147902\n",
      "Accuracy:  0.9689\n",
      "Epoch: 0040 cost = 142.453506889\n",
      "Accuracy:  0.9711\n",
      "Epoch: 0041 cost = 170.444711059\n",
      "Accuracy:  0.9757\n",
      "Epoch: 0042 cost = 161.883759021\n",
      "Accuracy:  0.9738\n",
      "Epoch: 0043 cost = 121.125100594\n",
      "Accuracy:  0.9731\n",
      "Epoch: 0044 cost = 159.145140272\n",
      "Accuracy:  0.9725\n",
      "Epoch: 0045 cost = 108.287073068\n",
      "Accuracy:  0.9706\n",
      "Epoch: 0046 cost = 145.811157098\n",
      "Accuracy:  0.9706\n",
      "Epoch: 0047 cost = 102.338508622\n",
      "Accuracy:  0.9719\n",
      "Epoch: 0048 cost = 99.161553222\n",
      "Accuracy:  0.9743\n",
      "Epoch: 0049 cost = 132.347863201\n",
      "Accuracy:  0.967\n",
      "Epoch: 0050 cost = 128.518814001\n",
      "Accuracy:  0.9737\n",
      "Epoch: 0051 cost = 113.248361617\n",
      "Accuracy:  0.9718\n",
      "Epoch: 0052 cost = 151.896036655\n",
      "Accuracy:  0.9698\n",
      "Epoch: 0053 cost = 136.934137878\n",
      "Accuracy:  0.9735\n",
      "Epoch: 0054 cost = 102.698730868\n",
      "Accuracy:  0.9711\n",
      "Epoch: 0055 cost = 116.520104140\n",
      "Accuracy:  0.973\n",
      "Epoch: 0056 cost = 110.486568371\n",
      "Accuracy:  0.9723\n",
      "Epoch: 0057 cost = 97.936108422\n",
      "Accuracy:  0.9742\n",
      "Epoch: 0058 cost = 96.948496006\n",
      "Accuracy:  0.973\n",
      "Epoch: 0059 cost = 138.502359877\n",
      "Accuracy:  0.971\n",
      "Epoch: 0060 cost = 128.109223664\n",
      "Accuracy:  0.9722\n",
      "Epoch: 0061 cost = 102.894582989\n",
      "Accuracy:  0.973\n",
      "Epoch: 0062 cost = 83.797520220\n",
      "Accuracy:  0.9723\n",
      "Epoch: 0063 cost = 94.007715781\n",
      "Accuracy:  0.9725\n",
      "Epoch: 0064 cost = 115.932393366\n",
      "Accuracy:  0.9747\n",
      "Epoch: 0065 cost = 80.742798628\n",
      "Accuracy:  0.9749\n",
      "Epoch: 0066 cost = 104.184425625\n",
      "Accuracy:  0.9737\n",
      "Epoch: 0067 cost = 86.048475367\n",
      "Accuracy:  0.9738\n",
      "Epoch: 0068 cost = 112.559111463\n",
      "Accuracy:  0.9766\n",
      "Epoch: 0069 cost = 64.553418914\n",
      "Accuracy:  0.9748\n",
      "Epoch: 0070 cost = 93.894966468\n",
      "Accuracy:  0.9707\n",
      "Epoch: 0071 cost = 101.393114546\n",
      "Accuracy:  0.9746\n",
      "Epoch: 0072 cost = 60.753409423\n",
      "Accuracy:  0.9725\n",
      "Epoch: 0073 cost = 86.911879637\n",
      "Accuracy:  0.9722\n",
      "Epoch: 0074 cost = 147.335163122\n",
      "Accuracy:  0.9748\n",
      "Epoch: 0075 cost = 107.826433364\n",
      "Accuracy:  0.9753\n",
      "Epoch: 0076 cost = 69.782540288\n",
      "Accuracy:  0.9739\n",
      "Epoch: 0077 cost = 79.527065970\n",
      "Accuracy:  0.9736\n",
      "Epoch: 0078 cost = 60.498022395\n",
      "Accuracy:  0.9764\n",
      "Epoch: 0079 cost = 115.084631015\n",
      "Accuracy:  0.9752\n",
      "Epoch: 0080 cost = 100.036152796\n",
      "Accuracy:  0.9785\n",
      "Epoch: 0081 cost = 52.781333452\n",
      "Accuracy:  0.9754\n",
      "Epoch: 0082 cost = 41.791027336\n",
      "Accuracy:  0.9761\n",
      "Epoch: 0083 cost = 94.738824646\n",
      "Accuracy:  0.9759\n",
      "Epoch: 0084 cost = 102.304436662\n",
      "Accuracy:  0.9737\n",
      "Epoch: 0085 cost = 67.942460719\n",
      "Accuracy:  0.9753\n",
      "Epoch: 0086 cost = 76.668756298\n",
      "Accuracy:  0.9707\n",
      "Epoch: 0087 cost = 63.787759663\n",
      "Accuracy:  0.9735\n",
      "Epoch: 0088 cost = 59.865842217\n",
      "Accuracy:  0.9758\n",
      "Epoch: 0089 cost = 83.818857220\n",
      "Accuracy:  0.9719\n",
      "Epoch: 0090 cost = 86.063455718\n",
      "Accuracy:  0.9763\n",
      "Epoch: 0091 cost = 66.667662530\n",
      "Accuracy:  0.973\n",
      "Epoch: 0092 cost = 65.827442858\n",
      "Accuracy:  0.9773\n",
      "Epoch: 0093 cost = 75.599219807\n",
      "Accuracy:  0.9753\n",
      "Epoch: 0094 cost = 71.989879341\n",
      "Accuracy:  0.9734\n",
      "Epoch: 0095 cost = 70.676516907\n",
      "Accuracy:  0.9745\n",
      "Epoch: 0096 cost = 104.950855804\n",
      "Accuracy:  0.9774\n",
      "Epoch: 0097 cost = 54.381179246\n",
      "Accuracy:  0.9736\n",
      "Epoch: 0098 cost = 60.722662322\n",
      "Accuracy:  0.9773\n",
      "Epoch: 0099 cost = 73.866113688\n",
      "Accuracy:  0.9752\n",
      "Epoch: 0100 cost = 77.516062832\n",
      "Accuracy:  0.9765\n",
      "Label: [6]\n"
     ]
    },
    {
     "ename": "NameError",
     "evalue": "name 'hypotheis' is not defined",
     "output_type": "error",
     "traceback": [
      "\u001b[1;31m---------------------------------------------------------------------------\u001b[0m",
      "\u001b[1;31mNameError\u001b[0m                                 Traceback (most recent call last)",
      "\u001b[1;32m<ipython-input-20-074fd3092b61>\u001b[0m in \u001b[0;36m<module>\u001b[1;34m\u001b[0m\n\u001b[0;32m     26\u001b[0m     \u001b[0mr\u001b[0m \u001b[1;33m=\u001b[0m \u001b[0mrandom\u001b[0m\u001b[1;33m.\u001b[0m\u001b[0mrandint\u001b[0m\u001b[1;33m(\u001b[0m\u001b[1;36m0\u001b[0m\u001b[1;33m,\u001b[0m \u001b[0mmnist\u001b[0m\u001b[1;33m.\u001b[0m\u001b[0mtest\u001b[0m\u001b[1;33m.\u001b[0m\u001b[0mnum_examples\u001b[0m \u001b[1;33m-\u001b[0m\u001b[1;36m1\u001b[0m\u001b[1;33m)\u001b[0m\u001b[1;33m\u001b[0m\u001b[1;33m\u001b[0m\u001b[0m\n\u001b[0;32m     27\u001b[0m     \u001b[0mprint\u001b[0m\u001b[1;33m(\u001b[0m\u001b[1;34m'Label:'\u001b[0m\u001b[1;33m,\u001b[0m \u001b[0msess\u001b[0m\u001b[1;33m.\u001b[0m\u001b[0mrun\u001b[0m\u001b[1;33m(\u001b[0m\u001b[0mtf\u001b[0m\u001b[1;33m.\u001b[0m\u001b[0marg_max\u001b[0m\u001b[1;33m(\u001b[0m\u001b[0mmnist\u001b[0m\u001b[1;33m.\u001b[0m\u001b[0mtest\u001b[0m\u001b[1;33m.\u001b[0m\u001b[0mlabels\u001b[0m\u001b[1;33m[\u001b[0m\u001b[0mr\u001b[0m\u001b[1;33m:\u001b[0m\u001b[0mr\u001b[0m\u001b[1;33m+\u001b[0m\u001b[1;36m1\u001b[0m\u001b[1;33m]\u001b[0m\u001b[1;33m,\u001b[0m \u001b[1;36m1\u001b[0m\u001b[1;33m)\u001b[0m\u001b[1;33m)\u001b[0m\u001b[1;33m)\u001b[0m\u001b[1;33m\u001b[0m\u001b[1;33m\u001b[0m\u001b[0m\n\u001b[1;32m---> 28\u001b[1;33m     \u001b[0mprint\u001b[0m\u001b[1;33m(\u001b[0m\u001b[1;34m'Prediction:'\u001b[0m\u001b[1;33m,\u001b[0m \u001b[0msess\u001b[0m\u001b[1;33m.\u001b[0m\u001b[0mrun\u001b[0m\u001b[1;33m(\u001b[0m\u001b[0mtf\u001b[0m\u001b[1;33m.\u001b[0m\u001b[0marg_max\u001b[0m\u001b[1;33m(\u001b[0m\u001b[0mhypotheis\u001b[0m\u001b[1;33m,\u001b[0m \u001b[1;36m1\u001b[0m\u001b[1;33m)\u001b[0m\u001b[1;33m,\u001b[0m \u001b[0mfeed_dict\u001b[0m\u001b[1;33m=\u001b[0m\u001b[1;33m{\u001b[0m\u001b[0mX\u001b[0m\u001b[1;33m:\u001b[0m \u001b[0mmnist\u001b[0m\u001b[1;33m.\u001b[0m\u001b[0mtest\u001b[0m\u001b[1;33m.\u001b[0m\u001b[0mimages\u001b[0m\u001b[1;33m[\u001b[0m\u001b[0mr\u001b[0m\u001b[1;33m:\u001b[0m\u001b[0mr\u001b[0m\u001b[1;33m+\u001b[0m\u001b[1;36m1\u001b[0m\u001b[1;33m]\u001b[0m\u001b[1;33m}\u001b[0m\u001b[1;33m)\u001b[0m\u001b[1;33m)\u001b[0m\u001b[1;33m\u001b[0m\u001b[1;33m\u001b[0m\u001b[0m\n\u001b[0m\u001b[0;32m     29\u001b[0m     \u001b[0mplt\u001b[0m\u001b[1;33m.\u001b[0m\u001b[0mimshow\u001b[0m\u001b[1;33m(\u001b[0m\u001b[0mmnist\u001b[0m\u001b[1;33m.\u001b[0m\u001b[0mtest\u001b[0m\u001b[1;33m.\u001b[0m\u001b[0mimages\u001b[0m\u001b[1;33m[\u001b[0m\u001b[0mr\u001b[0m\u001b[1;33m:\u001b[0m\u001b[0mr\u001b[0m\u001b[1;33m+\u001b[0m\u001b[1;36m1\u001b[0m\u001b[1;33m]\u001b[0m\u001b[1;33m.\u001b[0m\u001b[0mreshape\u001b[0m\u001b[1;33m(\u001b[0m\u001b[1;36m28\u001b[0m\u001b[1;33m,\u001b[0m\u001b[1;36m28\u001b[0m\u001b[1;33m)\u001b[0m\u001b[1;33m,\u001b[0m \u001b[0mcmap\u001b[0m\u001b[1;33m=\u001b[0m\u001b[1;34m'Greys'\u001b[0m\u001b[1;33m,\u001b[0m \u001b[0minterpolation\u001b[0m\u001b[1;33m=\u001b[0m\u001b[1;34m'nearest'\u001b[0m\u001b[1;33m)\u001b[0m\u001b[1;33m\u001b[0m\u001b[1;33m\u001b[0m\u001b[0m\n\u001b[0;32m     30\u001b[0m     \u001b[0mplt\u001b[0m\u001b[1;33m.\u001b[0m\u001b[0mshow\u001b[0m\u001b[1;33m(\u001b[0m\u001b[1;33m)\u001b[0m\u001b[1;33m\u001b[0m\u001b[1;33m\u001b[0m\u001b[0m\n",
      "\u001b[1;31mNameError\u001b[0m: name 'hypotheis' is not defined"
     ]
    }
   ],
   "source": [
    "with tf.Session() as sess:\n",
    "    # tensorboard --logdir=./logs/Deep_NN\n",
    "    merged_summary = tf.summary.merge_all()\n",
    "    writer = tf.summary.FileWriter(log_dir)\n",
    "    writer.add_graph(sess.graph)\n",
    "    \n",
    "    # Initialize TensorFlow variables\n",
    "    sess.run(tf.global_variables_initializer())\n",
    "    # Training cycle\n",
    "    for epoch in range(num_epochs):\n",
    "        avg_cost = 0\n",
    "        total_batch = int(mnist.train.num_examples / batch_size)\n",
    "        for i in range(total_batch):\n",
    "            batch_xs, batch_ys = mnist.train.next_batch(batch_size)\n",
    "            c, _ = sess.run([cost, train], feed_dict={X: batch_xs, Y: batch_ys})\n",
    "            avg_cost += c / total_batch\n",
    "        print('Epoch:', '%04d' % (epoch + 1), 'cost =', '{:.9f}'.format(avg_cost))\n",
    "        # Test he model using test sets\n",
    "        print('Accuracy: ', accuracy.eval(session=sess, feed_dict={X:mnist.test.images, Y: mnist.test.labels}))\n",
    "        \n",
    "        summary = sess.run(merged_summary, feed_dict={X:mnist.test.images, Y: mnist.test.labels})\n",
    "        writer.add_summary(summary, global_step=(epoch))\n",
    "        \n",
    "        #print('Accuracy: ', sess.run(accuracy, feed_dict={X:mnist.test.images, Y: mnist.test.labels}))\n",
    "    # Get one and predict\n",
    "    r = random.randint(0, mnist.test.num_examples -1)\n",
    "    print('Label:', sess.run(tf.arg_max(mnist.test.labels[r:r+1], 1)))\n",
    "    print('Prediction:', sess.run(tf.arg_max(hypotheis, 1), feed_dict={X: mnist.test.images[r:r+1]}))\n",
    "    plt.imshow(mnist.test.images[r:r+1].reshape(28,28), cmap='Greys', interpolation='nearest')\n",
    "    plt.show()"
   ]
  },
  {
   "cell_type": "code",
   "execution_count": null,
   "metadata": {},
   "outputs": [],
   "source": []
  }
 ],
 "metadata": {
  "kernelspec": {
   "display_name": "Python 3",
   "language": "python",
   "name": "python3"
  },
  "language_info": {
   "codemirror_mode": {
    "name": "ipython",
    "version": 3
   },
   "file_extension": ".py",
   "mimetype": "text/x-python",
   "name": "python",
   "nbconvert_exporter": "python",
   "pygments_lexer": "ipython3",
   "version": "3.7.3"
  }
 },
 "nbformat": 4,
 "nbformat_minor": 4
}
