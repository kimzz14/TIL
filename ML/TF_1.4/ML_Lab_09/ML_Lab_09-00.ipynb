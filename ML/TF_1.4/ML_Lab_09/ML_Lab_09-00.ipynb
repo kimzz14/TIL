{
 "cells": [
  {
   "cell_type": "code",
   "execution_count": 13,
   "metadata": {},
   "outputs": [],
   "source": [
    "def differentiation(func, X, deltaX):\n",
    "    return (func(X + deltaX) - func(X))/deltaX"
   ]
  },
  {
   "cell_type": "code",
   "execution_count": 14,
   "metadata": {},
   "outputs": [],
   "source": [
    "def f1(x):\n",
    "    return 3"
   ]
  },
  {
   "cell_type": "code",
   "execution_count": 15,
   "metadata": {},
   "outputs": [],
   "source": [
    "def f2(x):\n",
    "    return x"
   ]
  },
  {
   "cell_type": "code",
   "execution_count": 20,
   "metadata": {},
   "outputs": [],
   "source": [
    "def f3(x):\n",
    "    return 2 * x"
   ]
  },
  {
   "cell_type": "code",
   "execution_count": 21,
   "metadata": {},
   "outputs": [
    {
     "name": "stdout",
     "output_type": "stream",
     "text": [
      "0.0\n",
      "0.0\n",
      "0.0\n",
      "0.0\n",
      "0.0\n",
      "0.0\n",
      "0.0\n",
      "0.0\n",
      "0.0\n",
      "0.0\n"
     ]
    }
   ],
   "source": [
    "for X in range(-50, 50):\n",
    "    t = differentiation(f1, X, 0.000000000001)\n",
    "    if X%10 == 0:\n",
    "        print(t)"
   ]
  },
  {
   "cell_type": "code",
   "execution_count": 22,
   "metadata": {},
   "outputs": [
    {
     "name": "stdout",
     "output_type": "stream",
     "text": [
      "1.0018652574217413\n",
      "1.0018652574217413\n",
      "0.9983125437429408\n",
      "0.9983125437429408\n",
      "1.000088900582341\n",
      "1.0\n",
      "1.000088900582341\n",
      "0.9983125437429408\n",
      "0.9983125437429408\n",
      "1.0018652574217413\n"
     ]
    }
   ],
   "source": [
    "for X in range(-50, 50):\n",
    "    t = differentiation(f2, X, 0.000000000001)\n",
    "    if X%10 == 0:\n",
    "        print(t)"
   ]
  },
  {
   "cell_type": "code",
   "execution_count": 23,
   "metadata": {},
   "outputs": [
    {
     "name": "stdout",
     "output_type": "stream",
     "text": [
      "2.0037305148434825\n",
      "2.0037305148434825\n",
      "1.9966250874858815\n",
      "1.9966250874858815\n",
      "2.000177801164682\n",
      "2.0\n",
      "2.000177801164682\n",
      "1.9966250874858815\n",
      "1.9966250874858815\n",
      "2.0037305148434825\n"
     ]
    }
   ],
   "source": [
    "for X in range(-50, 50):\n",
    "    t = differentiation(f3, X, 0.000000000001)\n",
    "    if X%10 == 0:\n",
    "        print(t)"
   ]
  },
  {
   "cell_type": "code",
   "execution_count": null,
   "metadata": {},
   "outputs": [],
   "source": []
  }
 ],
 "metadata": {
  "kernelspec": {
   "display_name": "Python 3",
   "language": "python",
   "name": "python3"
  },
  "language_info": {
   "codemirror_mode": {
    "name": "ipython",
    "version": 3
   },
   "file_extension": ".py",
   "mimetype": "text/x-python",
   "name": "python",
   "nbconvert_exporter": "python",
   "pygments_lexer": "ipython3",
   "version": "3.7.3"
  }
 },
 "nbformat": 4,
 "nbformat_minor": 4
}
