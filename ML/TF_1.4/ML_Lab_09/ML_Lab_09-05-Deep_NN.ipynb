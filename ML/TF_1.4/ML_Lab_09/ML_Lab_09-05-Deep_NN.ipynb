{
 "cells": [
  {
   "cell_type": "code",
   "execution_count": 25,
   "metadata": {},
   "outputs": [],
   "source": [
    "from tensorflow.examples.tutorials.mnist import input_data"
   ]
  },
  {
   "cell_type": "code",
   "execution_count": 26,
   "metadata": {},
   "outputs": [],
   "source": [
    "import tensorflow as tf"
   ]
  },
  {
   "cell_type": "code",
   "execution_count": 27,
   "metadata": {},
   "outputs": [],
   "source": [
    "import matplotlib.pyplot as plt"
   ]
  },
  {
   "cell_type": "code",
   "execution_count": 28,
   "metadata": {},
   "outputs": [],
   "source": [
    "import random"
   ]
  },
  {
   "cell_type": "code",
   "execution_count": 29,
   "metadata": {},
   "outputs": [
    {
     "name": "stdout",
     "output_type": "stream",
     "text": [
      "Extracting MNIST_data/train-images-idx3-ubyte.gz\n",
      "Extracting MNIST_data/train-labels-idx1-ubyte.gz\n",
      "Extracting MNIST_data/t10k-images-idx3-ubyte.gz\n",
      "Extracting MNIST_data/t10k-labels-idx1-ubyte.gz\n"
     ]
    }
   ],
   "source": [
    "mnist = input_data.read_data_sets(\"MNIST_data/\", one_hot=True)"
   ]
  },
  {
   "cell_type": "code",
   "execution_count": 30,
   "metadata": {},
   "outputs": [
    {
     "name": "stdout",
     "output_type": "stream",
     "text": [
      "55000\n"
     ]
    }
   ],
   "source": [
    "print(mnist.train.num_examples)"
   ]
  },
  {
   "cell_type": "code",
   "execution_count": 31,
   "metadata": {},
   "outputs": [],
   "source": [
    "nb_classes = 10"
   ]
  },
  {
   "cell_type": "code",
   "execution_count": 32,
   "metadata": {},
   "outputs": [],
   "source": [
    "X = tf.placeholder(shape=[None, 784], dtype=tf.float32, name='X')"
   ]
  },
  {
   "cell_type": "code",
   "execution_count": 33,
   "metadata": {},
   "outputs": [],
   "source": [
    "Y = tf.placeholder(shape=[None, nb_classes], dtype=tf.int32, name='Y')"
   ]
  },
  {
   "cell_type": "code",
   "execution_count": 34,
   "metadata": {},
   "outputs": [],
   "source": [
    "with tf.name_scope('layer1') as scope:\n",
    "    W1 = tf.Variable(tf.random_normal(shape=[784, 512]), shape=[784, 512], dtype=tf.float32, name='weight1')\n",
    "    b1 = tf.Variable(tf.random_normal(shape=[512]), shape=[512], dtype=tf.float32, name='bias1')\n",
    "    L1 = tf.nn.relu(tf.matmul(X, W1) + b1)"
   ]
  },
  {
   "cell_type": "code",
   "execution_count": 35,
   "metadata": {},
   "outputs": [],
   "source": [
    "with tf.name_scope('layer2') as scope:\n",
    "    W2 = tf.Variable(tf.random_normal(shape=[512, 512]), shape=[512, 512], dtype=tf.float32, name='weight2')\n",
    "    b2 = tf.Variable(tf.random_normal(shape=[512]), shape=[512], dtype=tf.float32, name='bias2')\n",
    "    L2 = tf.nn.relu(tf.matmul(L1, W2) + b2)"
   ]
  },
  {
   "cell_type": "code",
   "execution_count": 36,
   "metadata": {},
   "outputs": [],
   "source": [
    "with tf.name_scope('layer3') as scope:\n",
    "    W3 = tf.Variable(tf.random_normal(shape=[512, 512]), shape=[512, 512], dtype=tf.float32, name='weight3')\n",
    "    b3 = tf.Variable(tf.random_normal(shape=[512]), shape=[512], dtype=tf.float32, name='bias3')\n",
    "    L3 = tf.nn.relu(tf.matmul(L2, W3) + b3)"
   ]
  },
  {
   "cell_type": "code",
   "execution_count": 37,
   "metadata": {},
   "outputs": [],
   "source": [
    "with tf.name_scope('layer4') as scope:\n",
    "    W4 = tf.Variable(tf.random_normal(shape=[512, 512]), shape=[512, 512], dtype=tf.float32, name='weight4')\n",
    "    b4 = tf.Variable(tf.random_normal(shape=[512]), shape=[512], dtype=tf.float32, name='bias4')\n",
    "    L4 = tf.nn.relu(tf.matmul(L3, W4) + b4)"
   ]
  },
  {
   "cell_type": "code",
   "execution_count": 38,
   "metadata": {},
   "outputs": [],
   "source": [
    "with tf.name_scope('layer5') as scope:\n",
    "    W5 = tf.Variable(tf.random_normal(shape=[512, 10]), shape=[512, 10], dtype=tf.float32, name='weight5')\n",
    "    b5 = tf.Variable(tf.random_normal(shape=[10]), shape=[10], dtype=tf.float32, name='bias5')\n",
    "    "
   ]
  },
  {
   "cell_type": "code",
   "execution_count": 39,
   "metadata": {},
   "outputs": [],
   "source": [
    "hypotheis = tf.matmul(L4, W5) + b5"
   ]
  },
  {
   "cell_type": "code",
   "execution_count": 40,
   "metadata": {},
   "outputs": [],
   "source": [
    "cost_i = tf.nn.softmax_cross_entropy_with_logits(logits=hypotheis, labels=Y)"
   ]
  },
  {
   "cell_type": "code",
   "execution_count": 41,
   "metadata": {},
   "outputs": [],
   "source": [
    "cost = tf.reduce_mean(cost_i)"
   ]
  },
  {
   "cell_type": "code",
   "execution_count": 42,
   "metadata": {},
   "outputs": [],
   "source": [
    "optimizer = tf.train.AdamOptimizer(learning_rate=0.001).minimize(cost)"
   ]
  },
  {
   "cell_type": "code",
   "execution_count": 43,
   "metadata": {},
   "outputs": [],
   "source": [
    "is_correct = tf.equal(tf.argmax(hypotheis, 1), tf.argmax(Y, 1))"
   ]
  },
  {
   "cell_type": "code",
   "execution_count": 44,
   "metadata": {},
   "outputs": [],
   "source": [
    "accuracy = tf.reduce_mean(tf.cast(is_correct, tf.float32))"
   ]
  },
  {
   "cell_type": "code",
   "execution_count": 45,
   "metadata": {},
   "outputs": [],
   "source": [
    "# parameters"
   ]
  },
  {
   "cell_type": "code",
   "execution_count": 49,
   "metadata": {},
   "outputs": [],
   "source": [
    "training_epochs = 30"
   ]
  },
  {
   "cell_type": "code",
   "execution_count": 50,
   "metadata": {},
   "outputs": [],
   "source": [
    "batch_size = 100"
   ]
  },
  {
   "cell_type": "code",
   "execution_count": 51,
   "metadata": {},
   "outputs": [
    {
     "name": "stdout",
     "output_type": "stream",
     "text": [
      "Epoch: 0001 cost = 48028.700170454\n",
      "Accuracy:  0.9007\n",
      "Epoch: 0002 cost = 9295.059791593\n",
      "Accuracy:  0.917\n",
      "Epoch: 0003 cost = 4623.118549395\n",
      "Accuracy:  0.9292\n",
      "Epoch: 0004 cost = 2620.608112779\n",
      "Accuracy:  0.9349\n",
      "Epoch: 0005 cost = 1680.824367046\n",
      "Accuracy:  0.9419\n",
      "Epoch: 0006 cost = 1074.376513283\n",
      "Accuracy:  0.9406\n",
      "Epoch: 0007 cost = 816.939611809\n",
      "Accuracy:  0.9471\n",
      "Epoch: 0008 cost = 704.283517533\n",
      "Accuracy:  0.95\n",
      "Epoch: 0009 cost = 529.918848500\n",
      "Accuracy:  0.9453\n",
      "Epoch: 0010 cost = 552.802864202\n",
      "Accuracy:  0.949\n",
      "Epoch: 0011 cost = 578.811612311\n",
      "Accuracy:  0.9496\n",
      "Epoch: 0012 cost = 489.539929372\n",
      "Accuracy:  0.9579\n",
      "Epoch: 0013 cost = 551.171668822\n",
      "Accuracy:  0.951\n",
      "Epoch: 0014 cost = 401.943576274\n",
      "Accuracy:  0.9557\n",
      "Epoch: 0015 cost = 402.395651807\n",
      "Accuracy:  0.9582\n",
      "Epoch: 0016 cost = 432.642356506\n",
      "Accuracy:  0.9571\n",
      "Epoch: 0017 cost = 367.277661787\n",
      "Accuracy:  0.9602\n",
      "Epoch: 0018 cost = 284.777591043\n",
      "Accuracy:  0.962\n",
      "Epoch: 0019 cost = 301.083162483\n",
      "Accuracy:  0.9635\n",
      "Epoch: 0020 cost = 310.413410155\n",
      "Accuracy:  0.9615\n",
      "Epoch: 0021 cost = 361.547821901\n",
      "Accuracy:  0.9624\n",
      "Epoch: 0022 cost = 245.579484268\n",
      "Accuracy:  0.9594\n",
      "Epoch: 0023 cost = 335.045283637\n",
      "Accuracy:  0.9641\n",
      "Epoch: 0024 cost = 241.358600247\n",
      "Accuracy:  0.9631\n",
      "Epoch: 0025 cost = 242.968751323\n",
      "Accuracy:  0.9609\n",
      "Epoch: 0026 cost = 227.941582501\n",
      "Accuracy:  0.9656\n",
      "Epoch: 0027 cost = 208.588387098\n",
      "Accuracy:  0.9669\n",
      "Epoch: 0028 cost = 207.077108329\n",
      "Accuracy:  0.9642\n",
      "Epoch: 0029 cost = 216.052918861\n",
      "Accuracy:  0.9676\n",
      "Epoch: 0030 cost = 185.028845204\n",
      "Accuracy:  0.9612\n",
      "Label: [4]\n",
      "Prediction: [4]\n"
     ]
    },
    {
     "data": {
      "image/png": "[encoded data removed]",
      "text/plain": [
       "<Figure size 432x288 with 1 Axes>"
      ]
     },
     "metadata": {
      "needs_background": "light"
     },
     "output_type": "display_data"
    }
   ],
   "source": [
    "with tf.Session() as sess:\n",
    "    # Initialize TensorFlow variables\n",
    "    sess.run(tf.global_variables_initializer())\n",
    "    # Training cycle\n",
    "    for epoch in range(training_epochs):\n",
    "        avg_cost = 0\n",
    "        total_batch = int(mnist.train.num_examples / batch_size)\n",
    "        for i in range(total_batch):\n",
    "            batch_xs, batch_ys = mnist.train.next_batch(batch_size)\n",
    "            c, _ = sess.run([cost, optimizer], feed_dict={X: batch_xs, Y: batch_ys})\n",
    "            avg_cost += c / total_batch\n",
    "        print('Epoch:', '%04d' % (epoch + 1), 'cost =', '{:.9f}'.format(avg_cost))\n",
    "        # Test he model using test sets\n",
    "        print('Accuracy: ', accuracy.eval(session=sess, feed_dict={X:mnist.test.images, Y: mnist.test.labels}))\n",
    "        #print('Accuracy: ', sess.run(accuracy, feed_dict={X:mnist.test.images, Y: mnist.test.labels}))\n",
    "    # Get one and predict\n",
    "    r = random.randint(0, mnist.test.num_examples -1)\n",
    "    print('Label:', sess.run(tf.arg_max(mnist.test.labels[r:r+1], 1)))\n",
    "    print('Prediction:', sess.run(tf.arg_max(hypotheis, 1), feed_dict={X: mnist.test.images[r:r+1]}))\n",
    "    \n",
    "    plt.imshow(mnist.test.images[r:r+1].reshape(28,28), cmap='Greys', interpolation='nearest')\n",
    "    plt.show()"
   ]
  },
  {
   "cell_type": "code",
   "execution_count": null,
   "metadata": {},
   "outputs": [],
   "source": []
  },
  {
   "cell_type": "code",
   "execution_count": null,
   "metadata": {},
   "outputs": [],
   "source": []
  },
  {
   "cell_type": "code",
   "execution_count": null,
   "metadata": {},
   "outputs": [],
   "source": []
  }
 ],
 "metadata": {
  "kernelspec": {
   "display_name": "Python 3",
   "language": "python",
   "name": "python3"
  },
  "language_info": {
   "codemirror_mode": {
    "name": "ipython",
    "version": 3
   },
   "file_extension": ".py",
   "mimetype": "text/x-python",
   "name": "python",
   "nbconvert_exporter": "python",
   "pygments_lexer": "ipython3",
   "version": "3.7.3"
  }
 },
 "nbformat": 4,
 "nbformat_minor": 4
}
