{
 "cells": [
  {
   "cell_type": "code",
   "execution_count": 1,
   "metadata": {},
   "outputs": [],
   "source": [
    "import tensorflow as tf"
   ]
  },
  {
   "cell_type": "code",
   "execution_count": 5,
   "metadata": {},
   "outputs": [],
   "source": [
    "X_data = [1,2,3]"
   ]
  },
  {
   "cell_type": "code",
   "execution_count": 6,
   "metadata": {},
   "outputs": [],
   "source": [
    "Y_data = [1,2,3]"
   ]
  },
  {
   "cell_type": "code",
   "execution_count": 7,
   "metadata": {},
   "outputs": [],
   "source": [
    "W = tf.Variable(initial_value=tf.random_normal(shape=[1]), name='Weight')"
   ]
  },
  {
   "cell_type": "code",
   "execution_count": 9,
   "metadata": {},
   "outputs": [],
   "source": [
    "x = tf.placeholder(dtype=tf.float32, shape=[None])"
   ]
  },
  {
   "cell_type": "code",
   "execution_count": 10,
   "metadata": {},
   "outputs": [],
   "source": [
    "y = tf.placeholder(dtype=tf.float32, shape=[None])"
   ]
  },
  {
   "cell_type": "code",
   "execution_count": 11,
   "metadata": {},
   "outputs": [],
   "source": [
    "hypothesis = W*x"
   ]
  },
  {
   "cell_type": "code",
   "execution_count": 12,
   "metadata": {},
   "outputs": [],
   "source": [
    "cost = tf.reduce_mean(hypothesis - y)"
   ]
  },
  {
   "cell_type": "code",
   "execution_count": 13,
   "metadata": {},
   "outputs": [],
   "source": [
    "learning_rate = 0.01"
   ]
  },
  {
   "cell_type": "code",
   "execution_count": 14,
   "metadata": {},
   "outputs": [],
   "source": [
    "gradient = tf.reduce_mean((W*x - y)*x)"
   ]
  },
  {
   "cell_type": "code",
   "execution_count": 15,
   "metadata": {},
   "outputs": [],
   "source": [
    "descent = W - learning_rate * gradient"
   ]
  },
  {
   "cell_type": "code",
   "execution_count": 16,
   "metadata": {},
   "outputs": [],
   "source": [
    "update = W.assign(descent)"
   ]
  },
  {
   "cell_type": "code",
   "execution_count": 17,
   "metadata": {},
   "outputs": [],
   "source": [
    "sess = tf.Session()"
   ]
  },
  {
   "cell_type": "code",
   "execution_count": 18,
   "metadata": {},
   "outputs": [],
   "source": [
    "sess.run(tf.global_variables_initializer())"
   ]
  },
  {
   "cell_type": "code",
   "execution_count": 20,
   "metadata": {},
   "outputs": [
    {
     "name": "stdout",
     "output_type": "stream",
     "text": [
      "-3.2138722 [-0.5319457]\n",
      "-1.2357316 [0.41096795]\n",
      "-0.47513804 [0.77351755]\n",
      "-0.18269028 [0.9129176]\n",
      "-0.07024431 [0.96651685]\n",
      "-0.02700887 [0.98712575]\n",
      "-0.010384898 [0.99504983]\n",
      "-0.0039930344 [0.99809664]\n",
      "-0.0015352765 [0.9992682]\n",
      "-0.00059046346 [0.99971855]\n",
      "-0.00022711356 [0.99989176]\n",
      "-8.72612e-05 [0.9999584]\n",
      "-3.3656757e-05 [0.99998397]\n",
      "-1.30136805e-05 [0.9999938]\n",
      "-5.106131e-06 [0.99999756]\n",
      "-2.046426e-06 [0.99999905]\n",
      "-1.2318293e-06 [0.9999994]\n",
      "-1.2318293e-06 [0.9999994]\n",
      "-1.2318293e-06 [0.9999994]\n",
      "-1.2318293e-06 [0.9999994]\n",
      "-1.2318293e-06 [0.9999994]\n",
      "-1.2318293e-06 [0.9999994]\n",
      "-1.2318293e-06 [0.9999994]\n",
      "-1.2318293e-06 [0.9999994]\n",
      "-1.2318293e-06 [0.9999994]\n",
      "-1.2318293e-06 [0.9999994]\n",
      "-1.2318293e-06 [0.9999994]\n",
      "-1.2318293e-06 [0.9999994]\n",
      "-1.2318293e-06 [0.9999994]\n",
      "-1.2318293e-06 [0.9999994]\n",
      "-1.2318293e-06 [0.9999994]\n",
      "-1.2318293e-06 [0.9999994]\n",
      "-1.2318293e-06 [0.9999994]\n",
      "-1.2318293e-06 [0.9999994]\n",
      "-1.2318293e-06 [0.9999994]\n",
      "-1.2318293e-06 [0.9999994]\n",
      "-1.2318293e-06 [0.9999994]\n",
      "-1.2318293e-06 [0.9999994]\n",
      "-1.2318293e-06 [0.9999994]\n",
      "-1.2318293e-06 [0.9999994]\n",
      "-1.2318293e-06 [0.9999994]\n",
      "-1.2318293e-06 [0.9999994]\n",
      "-1.2318293e-06 [0.9999994]\n",
      "-1.2318293e-06 [0.9999994]\n",
      "-1.2318293e-06 [0.9999994]\n",
      "-1.2318293e-06 [0.9999994]\n",
      "-1.2318293e-06 [0.9999994]\n",
      "-1.2318293e-06 [0.9999994]\n",
      "-1.2318293e-06 [0.9999994]\n",
      "-1.2318293e-06 [0.9999994]\n",
      "-1.2318293e-06 [0.9999994]\n",
      "-1.2318293e-06 [0.9999994]\n",
      "-1.2318293e-06 [0.9999994]\n",
      "-1.2318293e-06 [0.9999994]\n",
      "-1.2318293e-06 [0.9999994]\n",
      "-1.2318293e-06 [0.9999994]\n",
      "-1.2318293e-06 [0.9999994]\n",
      "-1.2318293e-06 [0.9999994]\n",
      "-1.2318293e-06 [0.9999994]\n",
      "-1.2318293e-06 [0.9999994]\n",
      "-1.2318293e-06 [0.9999994]\n",
      "-1.2318293e-06 [0.9999994]\n",
      "-1.2318293e-06 [0.9999994]\n",
      "-1.2318293e-06 [0.9999994]\n",
      "-1.2318293e-06 [0.9999994]\n",
      "-1.2318293e-06 [0.9999994]\n",
      "-1.2318293e-06 [0.9999994]\n",
      "-1.2318293e-06 [0.9999994]\n",
      "-1.2318293e-06 [0.9999994]\n",
      "-1.2318293e-06 [0.9999994]\n",
      "-1.2318293e-06 [0.9999994]\n",
      "-1.2318293e-06 [0.9999994]\n",
      "-1.2318293e-06 [0.9999994]\n",
      "-1.2318293e-06 [0.9999994]\n",
      "-1.2318293e-06 [0.9999994]\n",
      "-1.2318293e-06 [0.9999994]\n",
      "-1.2318293e-06 [0.9999994]\n",
      "-1.2318293e-06 [0.9999994]\n",
      "-1.2318293e-06 [0.9999994]\n",
      "-1.2318293e-06 [0.9999994]\n",
      "-1.2318293e-06 [0.9999994]\n",
      "-1.2318293e-06 [0.9999994]\n",
      "-1.2318293e-06 [0.9999994]\n",
      "-1.2318293e-06 [0.9999994]\n",
      "-1.2318293e-06 [0.9999994]\n",
      "-1.2318293e-06 [0.9999994]\n",
      "-1.2318293e-06 [0.9999994]\n",
      "-1.2318293e-06 [0.9999994]\n",
      "-1.2318293e-06 [0.9999994]\n",
      "-1.2318293e-06 [0.9999994]\n",
      "-1.2318293e-06 [0.9999994]\n",
      "-1.2318293e-06 [0.9999994]\n",
      "-1.2318293e-06 [0.9999994]\n",
      "-1.2318293e-06 [0.9999994]\n",
      "-1.2318293e-06 [0.9999994]\n",
      "-1.2318293e-06 [0.9999994]\n",
      "-1.2318293e-06 [0.9999994]\n",
      "-1.2318293e-06 [0.9999994]\n",
      "-1.2318293e-06 [0.9999994]\n",
      "-1.2318293e-06 [0.9999994]\n",
      "-1.2318293e-06 [0.9999994]\n"
     ]
    }
   ],
   "source": [
    "for step in range(2001):\n",
    "    cost_val, W_val, _ = sess.run([cost, W, update], feed_dict={x:X_data, y:Y_data})\n",
    "    if step % 20 == 0:\n",
    "        print (cost_val, W_val)"
   ]
  },
  {
   "cell_type": "code",
   "execution_count": null,
   "metadata": {},
   "outputs": [],
   "source": []
  }
 ],
 "metadata": {
  "kernelspec": {
   "display_name": "Python 3",
   "language": "python",
   "name": "python3"
  },
  "language_info": {
   "codemirror_mode": {
    "name": "ipython",
    "version": 3
   },
   "file_extension": ".py",
   "mimetype": "text/x-python",
   "name": "python",
   "nbconvert_exporter": "python",
   "pygments_lexer": "ipython3",
   "version": "3.7.3"
  }
 },
 "nbformat": 4,
 "nbformat_minor": 4
}
